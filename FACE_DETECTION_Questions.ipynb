{
  "nbformat": 4,
  "nbformat_minor": 0,
  "metadata": {
    "colab": {
      "name": "FACE_DETECTION_Questions.ipynb",
      "version": "0.3.2",
      "provenance": [],
      "collapsed_sections": [],
      "toc_visible": true
    },
    "kernelspec": {
      "name": "python2",
      "display_name": "Python 2"
    },
    "accelerator": "GPU"
  },
  "cells": [
    {
      "cell_type": "markdown",
      "metadata": {
        "id": "IgJNvpw9SnZq",
        "colab_type": "text"
      },
      "source": [
        "#### In this problem we use \"Transfer Learning\" of an Object Detector model to detect any object according to the problem in hand.\n",
        "\n",
        "Here, We are particularly interested in detecting faces in a given image.\n",
        "\n",
        "#### To use the model first, we need to import the model and its supporting files for the model to function. \n",
        "\n",
        "We see the below steps to import the model."
      ]
    },
    {
      "cell_type": "markdown",
      "metadata": {
        "id": "HtnH8CujQfxM",
        "colab_type": "text"
      },
      "source": [
        "### Import MobileNet model given in file `mn_model.py`"
      ]
    },
    {
      "cell_type": "code",
      "metadata": {
        "id": "FtnDz1qkQESM",
        "colab_type": "code",
        "colab": {
          "base_uri": "https://localhost:8080/",
          "height": 54
        },
        "outputId": "742c425c-11b7-4a6b-9f3f-1201a97e8033"
      },
      "source": [
        "### Import MobileNet model given in file `mn_model.py`\n",
        "import os\n",
        "\n",
        "from google.colab import drive\n",
        "drive.mount('/content/drive')\n",
        "os.chdir('/content/drive/My Drive/AIML/Advance Computer Vision - Project 1')\n",
        "\n"
      ],
      "execution_count": 1,
      "outputs": [
        {
          "output_type": "stream",
          "text": [
            "Drive already mounted at /content/drive; to attempt to forcibly remount, call drive.mount(\"/content/drive\", force_remount=True).\n"
          ],
          "name": "stdout"
        }
      ]
    },
    {
      "cell_type": "code",
      "metadata": {
        "id": "93EPCkZUU826",
        "colab_type": "code",
        "colab": {}
      },
      "source": [
        "os.chdir('/content/drive/My Drive/Face Detection')\n"
      ],
      "execution_count": 0,
      "outputs": []
    },
    {
      "cell_type": "code",
      "metadata": {
        "id": "T2skcsTeUGGk",
        "colab_type": "code",
        "colab": {
          "base_uri": "https://localhost:8080/",
          "height": 187
        },
        "outputId": "ab8b200a-3ee5-4c4f-ee09-e0772401715e"
      },
      "source": [
        "!ls\n",
        "#!pip install mn_model.py\n",
        "\n",
        "from mn_model import mn_model"
      ],
      "execution_count": 3,
      "outputs": [
        {
          "output_type": "stream",
          "text": [
            "dataset\t\t\t\tssd_mobilenet_face_epoch_25_loss0.0916.h5\n",
            "face_generator.py\t\twider_extract.py\n",
            "keras_layer_AnchorBoxes.py\twider_train_small.npy\n",
            "keras_layer_L2Normalization.py\twider_train_v1.npy\n",
            "keras_ssd_loss.py\t\tWIDER_train.zip\n",
            "mn_model.py\t\t\twider_val_small.npy\n",
            "mobilenet_1_0_224_tf.h5\t\twider_val_v1.npy\n",
            "predictor.py\t\t\tWIDER_val.zip\n",
            "ssd_box_encode_decode_utils.py\n"
          ],
          "name": "stdout"
        },
        {
          "output_type": "stream",
          "text": [
            "Using TensorFlow backend.\n"
          ],
          "name": "stderr"
        }
      ]
    },
    {
      "cell_type": "markdown",
      "metadata": {
        "id": "dwNy4u8zQk1H",
        "colab_type": "text"
      },
      "source": [
        "### Import the BatchGenerator and SSDLoss functions in given files `face_generator.py`, `keras_ssd_loss` and `ssd_box_encode_decode_utils.py` as well, used in MobileNet model"
      ]
    },
    {
      "cell_type": "code",
      "metadata": {
        "id": "3gVMOicwQlg_",
        "colab_type": "code",
        "colab": {
          "base_uri": "https://localhost:8080/",
          "height": 629
        },
        "outputId": "23d843f5-08cc-4557-a6f5-9074e1f0e878"
      },
      "source": [
        "#### Import the BatchGenerator and SSDLoss functions as well, used in MobileNet model\n",
        "\n",
        "from face_generator import BatchGenerator\n",
        "from keras_ssd_loss import SSDLoss\n",
        "from ssd_box_encode_decode_utils import SSDBoxEncoder, decode_y, decode_y2"
      ],
      "execution_count": 4,
      "outputs": [
        {
          "output_type": "stream",
          "text": [
            "face_generator.py:39: UserWarning: \n",
            "This call to matplotlib.use() has no effect because the backend has already\n",
            "been chosen; matplotlib.use() must be called *before* pylab, matplotlib.pyplot,\n",
            "or matplotlib.backends is imported for the first time.\n",
            "\n",
            "The backend was *originally* set to 'module://ipykernel.pylab.backend_inline' by the following code:\n",
            "  File \"/usr/lib/python2.7/runpy.py\", line 174, in _run_module_as_main\n",
            "    \"__main__\", fname, loader, pkg_name)\n",
            "  File \"/usr/lib/python2.7/runpy.py\", line 72, in _run_code\n",
            "    exec code in run_globals\n",
            "  File \"/usr/local/lib/python2.7/dist-packages/ipykernel_launcher.py\", line 16, in <module>\n",
            "    app.launch_new_instance()\n",
            "  File \"/usr/local/lib/python2.7/dist-packages/traitlets/config/application.py\", line 657, in launch_instance\n",
            "    app.initialize(argv)\n",
            "  File \"</usr/local/lib/python2.7/dist-packages/decorator.pyc:decorator-gen-121>\", line 2, in initialize\n",
            "  File \"/usr/local/lib/python2.7/dist-packages/traitlets/config/application.py\", line 87, in catch_config_error\n",
            "    return method(app, *args, **kwargs)\n",
            "  File \"/usr/local/lib/python2.7/dist-packages/ipykernel/kernelapp.py\", line 462, in initialize\n",
            "    self.init_gui_pylab()\n",
            "  File \"/usr/local/lib/python2.7/dist-packages/ipykernel/kernelapp.py\", line 403, in init_gui_pylab\n",
            "    InteractiveShellApp.init_gui_pylab(self)\n",
            "  File \"/usr/local/lib/python2.7/dist-packages/IPython/core/shellapp.py\", line 213, in init_gui_pylab\n",
            "    r = enable(key)\n",
            "  File \"/usr/local/lib/python2.7/dist-packages/IPython/core/interactiveshell.py\", line 2950, in enable_matplotlib\n",
            "    pt.activate_matplotlib(backend)\n",
            "  File \"/usr/local/lib/python2.7/dist-packages/IPython/core/pylabtools.py\", line 309, in activate_matplotlib\n",
            "    matplotlib.pyplot.switch_backend(backend)\n",
            "  File \"/usr/local/lib/python2.7/dist-packages/matplotlib/pyplot.py\", line 231, in switch_backend\n",
            "    matplotlib.use(newbackend, warn=False, force=True)\n",
            "  File \"/usr/local/lib/python2.7/dist-packages/matplotlib/__init__.py\", line 1422, in use\n",
            "    reload(sys.modules['matplotlib.backends'])\n",
            "  File \"/usr/local/lib/python2.7/dist-packages/matplotlib/backends/__init__.py\", line 17, in <module>\n",
            "    line for line in traceback.format_stack()\n",
            "\n",
            "\n",
            "  mpl.use('Agg')\n"
          ],
          "name": "stderr"
        }
      ]
    },
    {
      "cell_type": "code",
      "metadata": {
        "id": "tkzbMq9UeuCM",
        "colab_type": "code",
        "colab": {}
      },
      "source": [
        "\n",
        "import warnings\n",
        "warnings.filterwarnings(\"ignore\")\n",
        "\n",
        "from keras.optimizers import Adam, SGD, Nadam\n",
        "from keras.callbacks import ModelCheckpoint, EarlyStopping, ReduceLROnPlateau, TensorBoard, LearningRateScheduler\n",
        "from keras.callbacks import Callback\n",
        "from keras import backend as K \n",
        "from keras.models import load_model\n",
        "from math import ceil \n",
        "import numpy as np \n",
        "from termcolor import colored\n",
        "\n",
        "from mn_model import mn_model\n",
        "from face_generator import BatchGenerator\n",
        "from keras_ssd_loss import SSDLoss\n",
        "from ssd_box_encode_decode_utils import SSDBoxEncoder, decode_y, decode_y2\n",
        "\n",
        "# training parameters\n",
        "from keras import backend as K\n",
        "import scipy.misc as sm\n"
      ],
      "execution_count": 0,
      "outputs": []
    },
    {
      "cell_type": "markdown",
      "metadata": {
        "id": "UqyWOSGJRB18",
        "colab_type": "text"
      },
      "source": [
        "## Set the parameters for the model\n",
        "\n",
        "#### We need to customize the model parameters according to our problem as given below.\n",
        "\n",
        "#### Set n_classes (no.of classes) = 2, as we are interested in only face detection. \n",
        "#### `Face` will be one class and everything else comes under other class (we can call it as `background`)\n",
        "\n",
        "#### Set class_names = [\"background\", \"face\"]"
      ]
    },
    {
      "cell_type": "code",
      "metadata": {
        "id": "bcoBM5wlfHgZ",
        "colab_type": "code",
        "colab": {}
      },
      "source": [
        "img_height =512\n",
        "img_width = 512\n",
        "\n",
        "img_channels = 3\n",
        "\n",
        "n_classes =2 \n",
        "class_names = [\"background\",\"face\"]\n",
        "\n",
        "scales = [0.07, 0.15, 0.33, 0.51, 0.69, 0.87, 1.05] # anchorboxes for coco dataset\n",
        "aspect_ratios = [[0.5, 1.0, 2.0],\n",
        "                 [1.0/3.0, 0.5, 1.0, 2.0, 3.0],\n",
        "                 [1.0/3.0, 0.5, 1.0, 2.0, 3.0],\n",
        "                 [1.0/3.0, 0.5, 1.0, 2.0, 3.0],\n",
        "                 [0.5, 1.0, 2.0],\n",
        "                 [0.5, 1.0, 2.0]] # The anchor box aspect ratios used in the original SSD300\n",
        "two_boxes_for_ar1 = True\n",
        "limit_boxes = True # Whether or not you want to limit the anchor boxes to lie entirely within the image boundaries\n",
        "variances = [0.1, 0.1, 0.2, 0.2] # The variances by which the encoded target coordinates are scaled as in the original implementation\n",
        "coords = 'centroids' # Whether the box coordinates to be used as targets for the model should be in the 'centroids' or 'minmax' format, see documentation\n",
        "normalize_coords = True\n",
        "\n",
        "det_model_path = \"./\""
      ],
      "execution_count": 0,
      "outputs": []
    },
    {
      "cell_type": "markdown",
      "metadata": {
        "id": "z7vX1GJjTg0v",
        "colab_type": "text"
      },
      "source": [
        "### Now, we have imported the model and its dependencies. The next thing is to import the dataset for the model to train on. For this, we are using the WIDER FACE dataset. \n",
        "\n",
        "#### To make the dataset available follow the steps given below.\n",
        "\n",
        "\n",
        "1. Create a folder in your google drive for this project. \n",
        "\n",
        "2. Download the train and test dataset files given in .zip format into your drive folder you created for the project in step-1.\n",
        "\n",
        "3. Set the project path variable according to the folders you created to use for this project in your google drive. \n",
        "\n",
        "      `project_path = \"/content/drive/My Drive/DLCP/\"`\n",
        "\n",
        "4. Now, as we mount the drive the images will be available to use for training and testing but in zip format.\n",
        "\n",
        "5. So, lets extract the images from the zipfiles by using the code given of zipfile module.\n",
        "\n",
        "\n",
        "\n",
        "\n",
        "\n"
      ]
    },
    {
      "cell_type": "code",
      "metadata": {
        "id": "T2du37JKdpAK",
        "colab_type": "code",
        "colab": {}
      },
      "source": [
        "from google.colab import drive"
      ],
      "execution_count": 0,
      "outputs": []
    },
    {
      "cell_type": "code",
      "metadata": {
        "id": "mXRPqaDfdr1P",
        "colab_type": "code",
        "outputId": "bc13e773-3b92-4c2e-da66-ca3e68e65111",
        "colab": {
          "base_uri": "https://localhost:8080/",
          "height": 54
        }
      },
      "source": [
        "drive.mount('/content/drive')"
      ],
      "execution_count": 8,
      "outputs": [
        {
          "output_type": "stream",
          "text": [
            "Drive already mounted at /content/drive; to attempt to forcibly remount, call drive.mount(\"/content/drive\", force_remount=True).\n"
          ],
          "name": "stdout"
        }
      ]
    },
    {
      "cell_type": "code",
      "metadata": {
        "id": "KM1QVQ2pduPE",
        "colab_type": "code",
        "colab": {}
      },
      "source": [
        "project_path = \"/content/drive/My Drive/DLCP/\"\n",
        "#project_path = \"/content/drive/My Drive/Face Detection/\""
      ],
      "execution_count": 0,
      "outputs": []
    },
    {
      "cell_type": "code",
      "metadata": {
        "id": "F-pOMEK8pCPS",
        "colab_type": "code",
        "colab": {}
      },
      "source": [
        "train_images_path = project_path + 'WIDER_train (1).zip'\n",
        "test_images_path = project_path + 'WIDER_val.zip'"
      ],
      "execution_count": 0,
      "outputs": []
    },
    {
      "cell_type": "code",
      "metadata": {
        "id": "gqpq3wBkQhNJ",
        "colab_type": "code",
        "colab": {}
      },
      "source": [
        "os.chdir('/content/drive/My Drive/DLCP')"
      ],
      "execution_count": 0,
      "outputs": []
    },
    {
      "cell_type": "code",
      "metadata": {
        "id": "5uIDTr5ApCR7",
        "colab_type": "code",
        "colab": {
          "base_uri": "https://localhost:8080/",
          "height": 34
        },
        "outputId": "aa5d3557-9d7c-4174-d1bb-9d2cfee31d1f"
      },
      "source": [
        "print(train_images_path)\n",
        "import zipfile\n",
        "archive = zipfile.ZipFile(train_images_path, 'r')\n",
        "archive.extractall()"
      ],
      "execution_count": 34,
      "outputs": [
        {
          "output_type": "stream",
          "text": [
            "/content/drive/My Drive/DLCP/WIDER_train (1).zip\n"
          ],
          "name": "stdout"
        }
      ]
    },
    {
      "cell_type": "code",
      "metadata": {
        "id": "BhqDPEEfpCUr",
        "colab_type": "code",
        "colab": {}
      },
      "source": [
        "archive = zipfile.ZipFile(test_images_path, 'r')\n",
        "archive.extractall()"
      ],
      "execution_count": 0,
      "outputs": []
    },
    {
      "cell_type": "code",
      "metadata": {
        "id": "b1Jy1K3qcSay",
        "colab_type": "code",
        "colab": {
          "base_uri": "https://localhost:8080/",
          "height": 34
        },
        "outputId": "7853bdff-df6b-4abc-cd55-321c9a636388"
      },
      "source": [
        "!pwd"
      ],
      "execution_count": 13,
      "outputs": [
        {
          "output_type": "stream",
          "text": [
            "/content/drive/My Drive/Face Detection\n"
          ],
          "name": "stdout"
        }
      ]
    },
    {
      "cell_type": "markdown",
      "metadata": {
        "id": "-iCibT8AYiJ7",
        "colab_type": "text"
      },
      "source": [
        "### Now, the images are available. The next thing we need is to get the labels for these images, so that we can use this information while training for detecting faces with the given model using transfer learning. \n",
        "\n",
        "#### Follow the below steps to get those labels available.\n",
        "\n",
        "\n",
        "Load the  '' `wider_train_small.npy`'' file given to check the information given about the dataset. In this file you can see the information about each image in the dataset in a list with following elemets:\n",
        "      \n",
        "\n",
        "        1.   Image filename (str)\n",
        "        2.   Image filename (str)\n",
        "        3.   Image size (list) [height, width]\n",
        "        4.   List of bounding box co-ordinates and Class label (list) [[a,b,c,d], Class label, ...]\n",
        "        \n",
        "        where,\n",
        "        a,b,c,d are the four co-ordinates of the bounding box\n",
        "        Class label is the position of object as mentioned in `class_names` list above."
      ]
    },
    {
      "cell_type": "code",
      "metadata": {
        "id": "nub3I0LPmlfk",
        "colab_type": "code",
        "colab": {}
      },
      "source": [
        "os.chdir('/content/drive/My Drive/Face Detection')\n",
        "#data = np.load('./wider_train_small.npy').item()\n",
        "\n",
        "\n",
        "#!pip install numpy==1.16.2\n",
        "import numpy as np\n",
        "\n",
        "data = np.load('wider_train_small.npy',allow_pickle=True).item()"
      ],
      "execution_count": 0,
      "outputs": []
    },
    {
      "cell_type": "code",
      "metadata": {
        "id": "Q2Fd8RY3pCJS",
        "colab_type": "code",
        "outputId": "041e4399-9769-4bad-f99b-b52560d07d3c",
        "colab": {
          "base_uri": "https://localhost:8080/",
          "height": 71
        }
      },
      "source": [
        "### Printed first element to check the above given information.\n",
        "\n",
        "for key in data:\n",
        "    print key\n",
        "    print data[key]\n",
        "    break"
      ],
      "execution_count": 38,
      "outputs": [
        {
          "output_type": "stream",
          "text": [
            "52--Photographers/52_Photographers_photographertakingphoto_52_582.jpg\n",
            "['WIDER_train/images/52--Photographers/52_Photographers_photographertakingphoto_52_582.jpg', 'WIDER_train/images/52--Photographers/52_Photographers_photographertakingphoto_52_582.jpg', [300, 300], [[21, 667, 9, 655], 1]]\n"
          ],
          "name": "stdout"
        }
      ]
    },
    {
      "cell_type": "markdown",
      "metadata": {
        "id": "vlTpXziHZwws",
        "colab_type": "text"
      },
      "source": [
        " As we can see from the above output all the information mentioned above is there for all the images."
      ]
    },
    {
      "cell_type": "markdown",
      "metadata": {
        "id": "m2NBAZGqaec9",
        "colab_type": "text"
      },
      "source": [
        "### Now, load the files `wider_trian.npy` and `wider_val.npy`"
      ]
    },
    {
      "cell_type": "code",
      "metadata": {
        "id": "_kfX49vXas4f",
        "colab_type": "code",
        "colab": {}
      },
      "source": [
        "train_data = 'wider_train_small.npy'\n",
        "test_data = 'wider_val_small.npy'\n",
        "\n",
        "x = np.load(train_data)\n",
        "#y=np.load(test_data,allow_pickle=True)"
      ],
      "execution_count": 0,
      "outputs": []
    },
    {
      "cell_type": "code",
      "metadata": {
        "id": "du6FwIVkJgei",
        "colab_type": "code",
        "colab": {
          "base_uri": "https://localhost:8080/",
          "height": 54
        },
        "outputId": "baf9bef3-1e3d-4d64-e687-a04ab1695c97"
      },
      "source": [
        "print(x)"
      ],
      "execution_count": 52,
      "outputs": [
        {
          "output_type": "stream",
          "text": [
            "{'52--Photographers/52_Photographers_photographertakingphoto_52_582.jpg': ['WIDER_train/images/52--Photographers/52_Photographers_photographertakingphoto_52_582.jpg', 'WIDER_train/images/52--Photographers/52_Photographers_photographertakingphoto_52_582.jpg', [300, 300], [[21, 667, 9, 655], 1]], '4--Dancing/4_Dancing_Dancing_4_108.jpg': ['WIDER_train/images/4--Dancing/4_Dancing_Dancing_4_108.jpg', 'WIDER_train/images/4--Dancing/4_Dancing_Dancing_4_108.jpg', [300, 300], [[476, 526, 332, 366], 1], [[739, 759, 478, 504], 1], [[974, 995, 481, 506], 1], [[792, 809, 478, 499], 1], [[844, 860, 490, 512], 1], [[900, 918, 499, 522], 1], [[686, 703, 482, 505], 1], [[639, 655, 488, 509], 1], [[590, 604, 483, 504], 1], [[553, 566, 492, 510], 1], [[500, 515, 480, 500], 1], [[238, 251, 480, 497], 1], [[283, 295, 490, 508], 1], [[322, 335, 480, 498], 1], [[345, 357, 484, 501], 1], [[361, 375, 484, 505], 1], [[199, 214, 473, 493], 1], [[161, 174, 477, 495], 1], [[77, 91, 475, 496], 1], [[34, 47, 472, 490], 1], [[574, 606, 174, 210], 1]], '44--Aerobics/44_Aerobics_Aerobics_44_731.jpg': ['WIDER_train/images/44--Aerobics/44_Aerobics_Aerobics_44_731.jpg', 'WIDER_train/images/44--Aerobics/44_Aerobics_Aerobics_44_731.jpg', [300, 300], [[748, 895, 520, 691], 1]], '13--Interview/13_Interview_Interview_On_Location_13_419.jpg': ['WIDER_train/images/13--Interview/13_Interview_Interview_On_Location_13_419.jpg', 'WIDER_train/images/13--Interview/13_Interview_Interview_On_Location_13_419.jpg', [300, 300], [[178, 440, 50, 350], 1]], '18--Concerts/18_Concerts_Concerts_18_782.jpg': ['WIDER_train/images/18--Concerts/18_Concerts_Concerts_18_782.jpg', 'WIDER_train/images/18--Concerts/18_Concerts_Concerts_18_782.jpg', [300, 300], [[259, 440, 225, 508], 1]], '46--Jockey/46_Jockey_Jockey_46_71.jpg': ['WIDER_train/images/46--Jockey/46_Jockey_Jockey_46_71.jpg', 'WIDER_train/images/46--Jockey/46_Jockey_Jockey_46_71.jpg', [300, 300], [[340, 377, 123, 171], 1], [[511, 543, 113, 140], 1], [[724, 753, 97, 126], 1], [[940, 960, 133, 152], 1]], '45--Balloonist/45_Balloonist_Balloonist_45_707.jpg': ['WIDER_train/images/45--Balloonist/45_Balloonist_Balloonist_45_707.jpg', 'WIDER_train/images/45--Balloonist/45_Balloonist_Balloonist_45_707.jpg', [300, 300], [[145, 188, 258, 312], 1], [[182, 230, 203, 260], 1], [[243, 286, 232, 290], 1], [[288, 347, 223, 288], 1], [[373, 413, 244, 297], 1], [[425, 478, 281, 354], 1], [[417, 467, 202, 260], 1], [[479, 526, 245, 306], 1], [[522, 587, 197, 272], 1], [[538, 588, 327, 393], 1], [[603, 657, 265, 333], 1], [[777, 831, 291, 353], 1], [[954, 1004, 293, 356], 1]], '2--Demonstration/2_Demonstration_Protesters_2_696.jpg': ['WIDER_train/images/2--Demonstration/2_Demonstration_Protesters_2_696.jpg', 'WIDER_train/images/2--Demonstration/2_Demonstration_Protesters_2_696.jpg', [300, 300], [[0, 61, 408, 491], 1], [[129, 171, 434, 479], 1], [[332, 366, 371, 414], 1], [[374, 414, 352, 406], 1], [[446, 546, 377, 510], 1], [[607, 632, 351, 387], 1], [[620, 714, 374, 516], 1], [[806, 866, 372, 450], 1], [[788, 807, 360, 385], 1], [[809, 827, 341, 360], 1], [[862, 886, 313, 356], 1], [[933, 949, 335, 352], 1], [[952, 964, 332, 345], 1], [[831, 840, 332, 346], 1], [[593, 607, 123, 143], 1], [[979, 989, 330, 343], 1], [[1006, 1023, 323, 348], 1], [[1000, 1013, 321, 340], 1], [[533, 568, 410, 460], 1]], '56--Voter/56_Voter_peoplevoting_56_424.jpg': ['WIDER_train/images/56--Voter/56_Voter_peoplevoting_56_424.jpg', 'WIDER_train/images/56--Voter/56_Voter_peoplevoting_56_424.jpg', [300, 300], [[476, 610, 108, 302], 1], [[901, 954, 126, 189], 1], [[322, 368, 108, 175], 1], [[177, 196, 184, 211], 1], [[410, 421, 200, 210], 1], [[628, 643, 183, 207], 1]], '59--people--driving--car/59_peopledrivingcar_peopledrivingcar_59_42.jpg': ['WIDER_train/images/59--people--driving--car/59_peopledrivingcar_peopledrivingcar_59_42.jpg', 'WIDER_train/images/59--people--driving--car/59_peopledrivingcar_peopledrivingcar_59_42.jpg', [300, 300], [[398, 638, 146, 474], 1]], '34--Baseball/34_Baseball_Baseball_34_570.jpg': ['WIDER_train/images/34--Baseball/34_Baseball_Baseball_34_570.jpg', 'WIDER_train/images/34--Baseball/34_Baseball_Baseball_34_570.jpg', [300, 300], [[496, 568, 42, 122], 1]], '2--Demonstration/2_Demonstration_Protesters_2_195.jpg': ['WIDER_train/images/2--Demonstration/2_Demonstration_Protesters_2_195.jpg', 'WIDER_train/images/2--Demonstration/2_Demonstration_Protesters_2_195.jpg', [300, 300], [[489, 555, 555, 615], 1], [[617, 664, 425, 467], 1], [[567, 612, 128, 171], 1], [[466, 501, 223, 255], 1], [[715, 737, 10, 30], 1], [[985, 1006, 0, 9], 1]], '2--Demonstration/2_Demonstration_Demonstration_Or_Protest_2_75.jpg': ['WIDER_train/images/2--Demonstration/2_Demonstration_Demonstration_Or_Protest_2_75.jpg', 'WIDER_train/images/2--Demonstration/2_Demonstration_Demonstration_Or_Protest_2_75.jpg', [300, 300], [[530, 578, 59, 124], 1], [[178, 189, 223, 243], 1], [[95, 111, 189, 213], 1], [[7, 22, 198, 222], 1]], '45--Balloonist/45_Balloonist_Balloonist_45_708.jpg': ['WIDER_train/images/45--Balloonist/45_Balloonist_Balloonist_45_708.jpg', 'WIDER_train/images/45--Balloonist/45_Balloonist_Balloonist_45_708.jpg', [300, 300], [[568, 591, 413, 436], 1], [[471, 491, 399, 422], 1]], '39--Ice_Skating/39_Ice_Skating_Ice_Skating_39_985.jpg': ['WIDER_train/images/39--Ice_Skating/39_Ice_Skating_Ice_Skating_39_985.jpg', 'WIDER_train/images/39--Ice_Skating/39_Ice_Skating_Ice_Skating_39_985.jpg', [300, 300], [[820, 846, 203, 246], 1], [[410, 450, 111, 169], 1]], '35--Basketball/35_Basketball_basketballgame_ball_35_143.jpg': ['WIDER_train/images/35--Basketball/35_Basketball_basketballgame_ball_35_143.jpg', 'WIDER_train/images/35--Basketball/35_Basketball_basketballgame_ball_35_143.jpg', [300, 300], [[970, 988, 387, 412], 1], [[907, 926, 369, 395], 1], [[805, 822, 370, 392], 1], [[830, 853, 482, 511], 1], [[723, 740, 404, 425], 1], [[486, 509, 194, 230], 1], [[236, 265, 293, 321], 1], [[29, 51, 369, 397], 1], [[100, 118, 408, 428], 1]], '58--Hockey/58_Hockey_icehockey_puck_58_129.jpg': ['WIDER_train/images/58--Hockey/58_Hockey_icehockey_puck_58_129.jpg', 'WIDER_train/images/58--Hockey/58_Hockey_icehockey_puck_58_129.jpg', [300, 300], [[676, 687, 5, 15], 1], [[639, 647, 14, 21], 1], [[696, 708, 5, 12], 1], [[774, 784, 113, 125], 1], [[752, 762, 67, 78], 1], [[714, 722, 42, 49], 1], [[761, 770, 27, 38], 1], [[774, 786, 12, 22], 1], [[612, 624, 103, 116], 1], [[603, 616, 88, 101], 1], [[575, 588, 89, 100], 1], [[583, 595, 108, 120], 1], [[813, 828, 105, 119], 1], [[846, 858, 123, 135], 1], [[843, 856, 194, 207], 1], [[917, 928, 129, 143], 1], [[878, 891, 126, 139], 1], [[885, 895, 83, 92], 1], [[846, 856, 109, 119], 1], [[801, 813, 86, 97], 1], [[857, 864, 97, 106], 1], [[835, 844, 97, 105], 1], [[932, 943, 54, 67], 1], [[881, 893, 17, 30], 1], [[839, 850, 70, 82], 1], [[802, 815, 12, 26], 1], [[947, 960, 70, 83], 1], [[916, 928, 86, 98], 1], [[923, 933, 108, 121], 1], [[963, 977, 88, 99], 1], [[938, 949, 99, 109], 1], [[984, 996, 74, 88], 1], [[963, 974, 56, 67], 1], [[985, 996, 55, 66], 1], [[967, 979, 152, 165], 1], [[963, 977, 117, 130], 1], [[958, 969, 136, 146], 1], [[984, 996, 134, 147], 1], [[939, 951, 149, 161], 1], [[1009, 1021, 57, 71], 1], [[968, 979, 3, 11], 1], [[996, 1008, 4, 13], 1], [[780, 793, 56, 67], 1], [[811, 824, 127, 139], 1], [[952, 963, 176, 187], 1], [[854, 867, 174, 185], 1], [[384, 397, 16, 28], 1], [[141, 154, 3, 14], 1], [[559, 575, 7, 21], 1], [[518, 532, 103, 115], 1], [[967, 975, 20, 30], 1], [[661, 705, 152, 201], 1], [[775, 798, 160, 184], 1], [[494, 527, 143, 179], 1], [[433, 459, 171, 209], 1], [[99, 112, 180, 196], 1], [[50, 62, 175, 193], 1], [[14, 30, 175, 197], 1], [[7, 20, 121, 141], 1], [[39, 55, 126, 144], 1], [[38, 53, 103, 118], 1], [[11, 22, 75, 91], 1], [[35, 50, 73, 92], 1], [[60, 76, 94, 113], 1], [[94, 109, 95, 115], 1], [[100, 111, 72, 90], 1], [[120, 133, 82, 97], 1], [[121, 135, 106, 121], 1], [[145, 160, 107, 123], 1], [[144, 156, 80, 96], 1], [[162, 172, 84, 95], 1], [[167, 183, 100, 117], 1], [[174, 188, 160, 173], 1], [[154, 167, 180, 194], 1], [[202, 216, 161, 174], 1], [[251, 264, 158, 174], 1], [[273, 286, 188, 200], 1], [[312, 326, 187, 200], 1], [[327, 337, 186, 197], 1], [[300, 315, 158, 172], 1], [[309, 320, 126, 138], 1], [[266, 278, 115, 128], 1], [[246, 260, 102, 118], 1], [[231, 244, 106, 122], 1], [[226, 237, 87, 98], 1], [[252, 263, 86, 98], 1], [[250, 262, 63, 75], 1], [[246, 256, 48, 57], 1], [[188, 200, 82, 95], 1], [[207, 217, 63, 73], 1], [[167, 180, 56, 70], 1], [[185, 198, 65, 76], 1], [[149, 161, 57, 69], 1], [[123, 134, 37, 47], 1], [[102, 113, 34, 48], 1], [[60, 72, 30, 44], 1], [[278, 290, 86, 99], 1], [[290, 301, 79, 91], 1], [[312, 322, 71, 85], 1], [[323, 335, 68, 82], 1], [[41, 52, 30, 42], 1], [[64, 78, 12, 26], 1], [[173, 184, 20, 35], 1], [[196, 209, 21, 34], 1], [[211, 223, 26, 38], 1], [[287, 300, 28, 40], 1], [[261, 272, 7, 19], 1], [[222, 234, 64, 77], 1], [[161, 175, 1, 14], 1], [[156, 168, 19, 28], 1], [[127, 140, 21, 33], 1], [[110, 121, 4, 13], 1], [[19, 28, 29, 41], 1], [[11, 23, 9, 18], 1], [[147, 155, 34, 44], 1], [[90, 99, 14, 22], 1], [[274, 290, 47, 60], 1], [[303, 312, 11, 22], 1], [[324, 334, 15, 26], 1], [[355, 365, 12, 24], 1], [[312, 322, 35, 46], 1], [[337, 348, 30, 42], 1], [[423, 435, 76, 90], 1], [[346, 359, 111, 125], 1], [[342, 355, 97, 108], 1], [[371, 383, 117, 128], 1], [[469, 480, 98, 112], 1], [[432, 444, 114, 128], 1], [[382, 394, 79, 92], 1], [[403, 412, 39, 50], 1], [[407, 417, 57, 69], 1], [[382, 394, 57, 68], 1], [[360, 374, 33, 48], 1], [[408, 419, 16, 30], 1], [[457, 468, 42, 56], 1], [[470, 482, 12, 24], 1], [[428, 440, 2, 15], 1], [[394, 406, 119, 129], 1], [[390, 401, 86, 97], 1], [[478, 487, 77, 90], 1], [[419, 431, 38, 48], 1], [[549, 560, 37, 51], 1], [[582, 595, 55, 71], 1], [[654, 662, 31, 41], 1], [[524, 534, 17, 28], 1], [[503, 516, 17, 27], 1], [[489, 499, 2, 12], 1], [[487, 498, 40, 52], 1], [[513, 524, 48, 59], 1], [[524, 535, 62, 73], 1], [[491, 499, 67, 75], 1], [[551, 562, 81, 91], 1], [[643, 654, 100, 112], 1], [[568, 579, 125, 137], 1], [[547, 558, 125, 137], 1], [[674, 683, 63, 73], 1], [[663, 674, 47, 58], 1], [[615, 624, 7, 17], 1], [[584, 593, 14, 21], 1], [[617, 625, 29, 37], 1], [[712, 723, 65, 77], 1], [[710, 723, 84, 94], 1], [[770, 783, 87, 101], 1], [[754, 764, 105, 115], 1], [[718, 730, 147, 158], 1], [[617, 632, 127, 145], 1], [[712, 722, 7, 19], 1], [[739, 749, 8, 18], 1], [[678, 688, 23, 32], 1], [[364, 376, 150, 164], 1]], '2--Demonstration/2_Demonstration_Demonstration_Or_Protest_2_945.jpg': ['WIDER_train/images/2--Demonstration/2_Demonstration_Demonstration_Or_Protest_2_945.jpg', 'WIDER_train/images/2--Demonstration/2_Demonstration_Demonstration_Or_Protest_2_945.jpg', [300, 300], [[617, 901, 173, 550], 1]], '6--Funeral/6_Funeral_Funeral_6_19.jpg': ['WIDER_train/images/6--Funeral/6_Funeral_Funeral_6_19.jpg', 'WIDER_train/images/6--Funeral/6_Funeral_Funeral_6_19.jpg', [300, 300], [[103, 120, 241, 268], 1], [[159, 174, 249, 272], 1], [[375, 391, 272, 295], 1], [[635, 649, 285, 304], 1], [[731, 743, 298, 315], 1], [[827, 833, 288, 304], 1], [[819, 860, 203, 276], 1], [[901, 942, 275, 334], 1], [[948, 974, 171, 253], 1], [[667, 677, 281, 303], 1], [[219, 239, 254, 275], 1]], '39--Ice_Skating/39_Ice_Skating_Ice_Skating_39_120.jpg': ['WIDER_train/images/39--Ice_Skating/39_Ice_Skating_Ice_Skating_39_120.jpg', 'WIDER_train/images/39--Ice_Skating/39_Ice_Skating_Ice_Skating_39_120.jpg', [300, 300], [[256, 273, 63, 84], 1], [[377, 394, 62, 82], 1], [[471, 483, 71, 85], 1], [[610, 623, 58, 76], 1], [[734, 748, 58, 77], 1], [[895, 911, 31, 51], 1], [[672, 698, 325, 351], 1], [[624, 648, 411, 446], 1]], '53--Raid/53_Raid_policeraid_53_273.jpg': ['WIDER_train/images/53--Raid/53_Raid_policeraid_53_273.jpg', 'WIDER_train/images/53--Raid/53_Raid_policeraid_53_273.jpg', [300, 300], [[778, 892, 214, 370], 1], [[708, 802, 256, 412], 1]], '10--People_Marching/10_People_Marching_People_Marching_10_People_Marching_People_Marching_10_People_Marching_People_Marching_10_465.jpg': ['WIDER_train/images/10--People_Marching/10_People_Marching_People_Marching_10_People_Marching_People_Marching_10_People_Marching_People_Marching_10_465.jpg', 'WIDER_train/images/10--People_Marching/10_People_Marching_People_Marching_10_People_Marching_People_Marching_10_People_Marching_People_Marching_10_465.jpg', [300, 300], [[186, 217, 235, 282], 1], [[119, 145, 222, 255], 1], [[97, 116, 120, 145], 1], [[132, 150, 102, 131], 1], [[166, 176, 111, 127], 1], [[185, 197, 134, 149], 1], [[68, 79, 86, 102], 1], [[125, 137, 74, 89], 1], [[172, 183, 89, 104], 1], [[209, 221, 70, 88], 1], [[232, 245, 81, 99], 1], [[258, 270, 109, 126], 1], [[279, 298, 130, 152], 1], [[316, 336, 126, 148], 1], [[218, 241, 183, 213], 1], [[316, 336, 177, 204], 1], [[373, 388, 131, 149], 1], [[284, 298, 71, 91], 1], [[236, 249, 60, 79], 1], [[315, 327, 58, 76], 1], [[332, 347, 81, 103], 1], [[347, 359, 86, 106], 1], [[518, 550, 263, 304], 1], [[409, 436, 209, 246], 1], [[444, 464, 199, 227], 1], [[413, 427, 130, 147], 1], [[410, 422, 96, 112], 1], [[447, 459, 134, 153], 1], [[463, 477, 90, 111], 1], [[480, 494, 95, 114], 1], [[500, 516, 111, 132], 1], [[513, 526, 131, 152], 1], [[525, 538, 83, 101], 1], [[574, 587, 98, 118], 1], [[586, 601, 99, 123], 1], [[617, 629, 82, 102], 1], [[628, 644, 94, 121], 1], [[651, 673, 191, 222], 1], [[678, 699, 144, 170], 1], [[658, 672, 101, 120], 1], [[677, 689, 86, 103], 1], [[687, 701, 80, 101], 1], [[729, 743, 91, 114], 1], [[736, 752, 170, 191], 1], [[412, 424, 60, 75], 1], [[762, 777, 100, 122], 1], [[794, 813, 108, 131], 1], [[871, 890, 164, 189], 1], [[765, 796, 255, 295], 1], [[758, 774, 172, 195], 1], [[810, 829, 161, 185], 1], [[847, 864, 118, 141], 1], [[910, 931, 104, 130], 1], [[950, 970, 132, 158], 1], [[904, 927, 203, 231], 1], [[1000, 1024, 222, 258], 1], [[1010, 1024, 182, 211], 1], [[1004, 1018, 99, 121], 1], [[481, 502, 130, 160], 1], [[570, 583, 79, 94], 1], [[85, 93, 35, 47], 1], [[794, 809, 86, 102], 1], [[869, 885, 125, 150], 1], [[272, 284, 87, 104], 1], [[246, 256, 48, 61], 1]], '41--Swimming/41_Swimming_Swimming_41_62.jpg': ['WIDER_train/images/41--Swimming/41_Swimming_Swimming_41_62.jpg', 'WIDER_train/images/41--Swimming/41_Swimming_Swimming_41_62.jpg', [300, 300], [[474, 596, 276, 416], 1]], '5--Car_Accident/5_Car_Accident_Accident_5_843.jpg': ['WIDER_train/images/5--Car_Accident/5_Car_Accident_Accident_5_843.jpg', 'WIDER_train/images/5--Car_Accident/5_Car_Accident_Accident_5_843.jpg', [300, 300], [[630, 651, 203, 229], 1], [[691, 712, 211, 233], 1], [[718, 736, 221, 244], 1], [[765, 783, 218, 243], 1], [[831, 848, 209, 232], 1], [[869, 881, 222, 242], 1]], '13--Interview/13_Interview_Interview_On_Location_13_7.jpg': ['WIDER_train/images/13--Interview/13_Interview_Interview_On_Location_13_7.jpg', 'WIDER_train/images/13--Interview/13_Interview_Interview_On_Location_13_7.jpg', [300, 300], [[552, 632, 146, 262], 1]], '55--Sports_Coach_Trainer/55_Sports_Coach_Trainer_sportcoaching_55_156.jpg': ['WIDER_train/images/55--Sports_Coach_Trainer/55_Sports_Coach_Trainer_sportcoaching_55_156.jpg', 'WIDER_train/images/55--Sports_Coach_Trainer/55_Sports_Coach_Trainer_sportcoaching_55_156.jpg', [300, 300], [[229, 253, 252, 284], 1], [[288, 313, 298, 329], 1], [[255, 282, 465, 495], 1], [[345, 368, 426, 460], 1], [[358, 376, 311, 341], 1], [[403, 426, 297, 327], 1], [[467, 490, 295, 327], 1], [[541, 563, 300, 331], 1], [[602, 626, 295, 326], 1], [[664, 690, 304, 339], 1], [[447, 471, 396, 428], 1], [[507, 530, 393, 424], 1], [[601, 628, 403, 434], 1], [[721, 753, 237, 278], 1]], '40--Gymnastics/40_Gymnastics_Gymnastics_40_506.jpg': ['WIDER_train/images/40--Gymnastics/40_Gymnastics_Gymnastics_40_506.jpg', 'WIDER_train/images/40--Gymnastics/40_Gymnastics_Gymnastics_40_506.jpg', [300, 300], [[334, 400, 152, 256], 1]], '35--Basketball/35_Basketball_basketballgame_ball_35_634.jpg': ['WIDER_train/images/35--Basketball/35_Basketball_basketballgame_ball_35_634.jpg', 'WIDER_train/images/35--Basketball/35_Basketball_basketballgame_ball_35_634.jpg', [300, 300], [[73, 103, 162, 205], 1], [[163, 196, 157, 205], 1], [[252, 285, 161, 208], 1], [[350, 382, 153, 191], 1], [[441, 474, 150, 201], 1], [[556, 588, 173, 224], 1], [[651, 683, 163, 206], 1], [[736, 766, 158, 200], 1], [[834, 863, 161, 194], 1], [[920, 951, 153, 199], 1]], '56--Voter/56_Voter_peoplevoting_56_784.jpg': ['WIDER_train/images/56--Voter/56_Voter_peoplevoting_56_784.jpg', 'WIDER_train/images/56--Voter/56_Voter_peoplevoting_56_784.jpg', [300, 300], [[338, 424, 216, 370], 1]], '52--Photographers/52_Photographers_taketouristphotos_52_251.jpg': ['WIDER_train/images/52--Photographers/52_Photographers_taketouristphotos_52_251.jpg', 'WIDER_train/images/52--Photographers/52_Photographers_taketouristphotos_52_251.jpg', [300, 300], [[595, 632, 501, 552], 1], [[480, 493, 383, 406], 1]], '28--Sports_Fan/28_Sports_Fan_Sports_Fan_28_569.jpg': ['WIDER_train/images/28--Sports_Fan/28_Sports_Fan_Sports_Fan_28_569.jpg', 'WIDER_train/images/28--Sports_Fan/28_Sports_Fan_Sports_Fan_28_569.jpg', [300, 300], [[338, 562, 266, 510], 1], [[924, 1024, 164, 386], 1]], '29--Students_Schoolkids/29_Students_Schoolkids_Students_Schoolkids_29_424.jpg': ['WIDER_train/images/29--Students_Schoolkids/29_Students_Schoolkids_Students_Schoolkids_29_424.jpg', 'WIDER_train/images/29--Students_Schoolkids/29_Students_Schoolkids_Students_Schoolkids_29_424.jpg', [300, 300], [[476, 562, 169, 292], 1], [[278, 324, 201, 242], 1]], '52--Photographers/52_Photographers_photographertakingphoto_52_394.jpg': ['WIDER_train/images/52--Photographers/52_Photographers_photographertakingphoto_52_394.jpg', 'WIDER_train/images/52--Photographers/52_Photographers_photographertakingphoto_52_394.jpg', [300, 300], [[440, 626, 206, 516], 1]], '3--Riot/3_Riot_Riot_3_8.jpg': ['WIDER_train/images/3--Riot/3_Riot_Riot_3_8.jpg', 'WIDER_train/images/3--Riot/3_Riot_Riot_3_8.jpg', [300, 300], [[491, 515, 245, 277], 1], [[539, 559, 254, 284], 1], [[556, 574, 271, 302], 1], [[625, 649, 353, 381], 1], [[631, 649, 295, 322], 1], [[645, 671, 252, 275], 1], [[489, 513, 190, 216], 1], [[35, 53, 100, 130], 1], [[0, 9, 31, 51], 1], [[169, 187, 27, 54], 1], [[59, 79, 226, 260], 1], [[747, 770, 80, 106], 1], [[869, 891, 11, 40], 1], [[977, 997, 27, 53], 1], [[894, 916, 170, 199], 1], [[949, 965, 93, 121], 1], [[478, 498, 6, 36], 1], [[676, 699, 4, 32], 1], [[724, 748, 1, 23], 1], [[785, 806, 0, 20], 1], [[709, 723, 66, 91], 1], [[979, 1006, 584, 617], 1], [[900, 918, 682, 709], 1], [[591, 612, 90, 110], 1], [[435, 452, 240, 267], 1], [[342, 364, 248, 274], 1], [[531, 557, 14, 42], 1], [[825, 844, 0, 9], 1]], '31--Waiter_Waitress/31_Waiter_Waitress_Waiter_Waitress_31_904.jpg': ['WIDER_train/images/31--Waiter_Waitress/31_Waiter_Waitress_Waiter_Waitress_31_904.jpg', 'WIDER_train/images/31--Waiter_Waitress/31_Waiter_Waitress_Waiter_Waitress_31_904.jpg', [300, 300], [[234, 412, 184, 422], 1], [[606, 784, 96, 330], 1]], '2--Demonstration/2_Demonstration_Protesters_2_926.jpg': ['WIDER_train/images/2--Demonstration/2_Demonstration_Protesters_2_926.jpg', 'WIDER_train/images/2--Demonstration/2_Demonstration_Protesters_2_926.jpg', [300, 300], [[707, 761, 21, 85], 1], [[452, 489, 224, 268], 1], [[218, 262, 174, 224], 1]], '39--Ice_Skating/39_Ice_Skating_Ice_Skating_39_127.jpg': ['WIDER_train/images/39--Ice_Skating/39_Ice_Skating_Ice_Skating_39_127.jpg', 'WIDER_train/images/39--Ice_Skating/39_Ice_Skating_Ice_Skating_39_127.jpg', [300, 300], [[464, 493, 144, 210], 1]], '13--Interview/13_Interview_Interview_On_Location_13_623.jpg': ['WIDER_train/images/13--Interview/13_Interview_Interview_On_Location_13_623.jpg', 'WIDER_train/images/13--Interview/13_Interview_Interview_On_Location_13_623.jpg', [300, 300], [[244, 420, 90, 398], 1]], '55--Sports_Coach_Trainer/55_Sports_Coach_Trainer_sportcoaching_55_177.jpg': ['WIDER_train/images/55--Sports_Coach_Trainer/55_Sports_Coach_Trainer_sportcoaching_55_177.jpg', 'WIDER_train/images/55--Sports_Coach_Trainer/55_Sports_Coach_Trainer_sportcoaching_55_177.jpg', [300, 300], [[192, 222, 230, 269], 1], [[517, 548, 222, 261], 1], [[657, 681, 237, 285], 1], [[753, 785, 223, 268], 1], [[853, 885, 218, 265], 1]], '52--Photographers/52_Photographers_photographertakingphoto_52_526.jpg': ['WIDER_train/images/52--Photographers/52_Photographers_photographertakingphoto_52_526.jpg', 'WIDER_train/images/52--Photographers/52_Photographers_photographertakingphoto_52_526.jpg', [300, 300], [[177, 238, 173, 256], 1], [[465, 496, 170, 215], 1], [[568, 607, 37, 92], 1], [[382, 417, 42, 90], 1]], '5--Car_Accident/5_Car_Accident_Accident_5_979.jpg': ['WIDER_train/images/5--Car_Accident/5_Car_Accident_Accident_5_979.jpg', 'WIDER_train/images/5--Car_Accident/5_Car_Accident_Accident_5_979.jpg', [300, 300], [[493, 513, 170, 199], 1], [[469, 487, 177, 200], 1]], '61--Street_Battle/61_Street_Battle_streetfight_61_711.jpg': ['WIDER_train/images/61--Street_Battle/61_Street_Battle_streetfight_61_711.jpg', 'WIDER_train/images/61--Street_Battle/61_Street_Battle_streetfight_61_711.jpg', [300, 300], [[390, 496, 50, 152], 1], [[690, 754, 8, 68], 1]], '13--Interview/13_Interview_Interview_Sequences_13_372.jpg': ['WIDER_train/images/13--Interview/13_Interview_Interview_Sequences_13_372.jpg', 'WIDER_train/images/13--Interview/13_Interview_Interview_Sequences_13_372.jpg', [300, 300], [[310, 420, 94, 250], 1]], '6--Funeral/6_Funeral_Funeral_6_624.jpg': ['WIDER_train/images/6--Funeral/6_Funeral_Funeral_6_624.jpg', 'WIDER_train/images/6--Funeral/6_Funeral_Funeral_6_624.jpg', [300, 300], [[576, 864, 212, 672], 1], [[361, 672, 890, 1329], 1], [[49, 372, 433, 913], 1]], '25--Soldier_Patrol/25_Soldier_Patrol_Soldier_Patrol_25_886.jpg': ['WIDER_train/images/25--Soldier_Patrol/25_Soldier_Patrol_Soldier_Patrol_25_886.jpg', 'WIDER_train/images/25--Soldier_Patrol/25_Soldier_Patrol_Soldier_Patrol_25_886.jpg', [300, 300], [[57, 196, 89, 275], 1], [[67, 90, 491, 523], 1], [[595, 662, 523, 600], 1], [[407, 416, 497, 507], 1]], '13--Interview/13_Interview_Interview_2_People_Visible_13_356.jpg': ['WIDER_train/images/13--Interview/13_Interview_Interview_2_People_Visible_13_356.jpg', 'WIDER_train/images/13--Interview/13_Interview_Interview_2_People_Visible_13_356.jpg', [300, 300], [[506, 650, 220, 504], 1]], '32--Worker_Laborer/32_Worker_Laborer_Worker_Laborer_32_913.jpg': ['WIDER_train/images/32--Worker_Laborer/32_Worker_Laborer_Worker_Laborer_32_913.jpg', 'WIDER_train/images/32--Worker_Laborer/32_Worker_Laborer_Worker_Laborer_32_913.jpg', [300, 300], [[871, 897, 240, 272], 1], [[36, 47, 216, 249], 1], [[218, 263, 142, 207], 1], [[529, 564, 197, 247], 1], [[689, 716, 223, 267], 1]], '37--Soccer/37_Soccer_soccer_ball_37_726.jpg': ['WIDER_train/images/37--Soccer/37_Soccer_soccer_ball_37_726.jpg', 'WIDER_train/images/37--Soccer/37_Soccer_soccer_ball_37_726.jpg', [300, 300], [[181, 214, 76, 123], 1], [[270, 304, 97, 143], 1], [[367, 400, 97, 139], 1], [[471, 506, 108, 154], 1], [[584, 618, 95, 142], 1], [[676, 713, 98, 148], 1], [[660, 695, 248, 293], 1], [[787, 822, 122, 166], 1], [[304, 341, 285, 330], 1], [[422, 459, 273, 323], 1], [[532, 570, 302, 338], 1]], '37--Soccer/37_Soccer_soccer_ball_37_5.jpg': ['WIDER_train/images/37--Soccer/37_Soccer_soccer_ball_37_5.jpg', 'WIDER_train/images/37--Soccer/37_Soccer_soccer_ball_37_5.jpg', [300, 300], [[486, 542, 42, 122], 1]], '12--Group/12_Group_Group_12_Group_Group_12_1010.jpg': ['WIDER_train/images/12--Group/12_Group_Group_12_Group_Group_12_1010.jpg', 'WIDER_train/images/12--Group/12_Group_Group_12_Group_Group_12_1010.jpg', [300, 300], [[356, 377, 379, 403], 1], [[429, 448, 385, 410], 1], [[496, 517, 378, 404], 1], [[561, 582, 379, 404], 1], [[629, 651, 380, 406], 1], [[628, 647, 325, 347], 1], [[561, 581, 322, 349], 1], [[504, 523, 335, 357], 1], [[438, 457, 314, 338], 1], [[385, 403, 320, 342], 1], [[339, 358, 315, 340], 1], [[298, 319, 298, 325], 1], [[244, 263, 314, 338], 1], [[183, 204, 320, 344], 1], [[176, 197, 374, 398], 1], [[238, 255, 388, 411], 1], [[298, 318, 380, 407], 1], [[129, 148, 316, 339], 1], [[67, 86, 312, 333], 1], [[832, 853, 328, 351], 1], [[905, 923, 345, 366], 1], [[889, 910, 386, 413], 1], [[831, 854, 379, 404], 1], [[762, 783, 390, 417], 1], [[762, 782, 332, 356], 1], [[700, 718, 312, 334], 1], [[700, 725, 380, 407], 1]], '13--Interview/13_Interview_Interview_On_Location_13_92.jpg': ['WIDER_train/images/13--Interview/13_Interview_Interview_On_Location_13_92.jpg', 'WIDER_train/images/13--Interview/13_Interview_Interview_On_Location_13_92.jpg', [300, 300], [[694, 800, 104, 240], 1], [[286, 412, 38, 190], 1]], '52--Photographers/52_Photographers_taketouristphotos_52_269.jpg': ['WIDER_train/images/52--Photographers/52_Photographers_taketouristphotos_52_269.jpg', 'WIDER_train/images/52--Photographers/52_Photographers_taketouristphotos_52_269.jpg', [300, 300], [[484, 542, 318, 412], 1], [[214, 282, 306, 402], 1]], '10--People_Marching/10_People_Marching_People_Marching_2_295.jpg': ['WIDER_train/images/10--People_Marching/10_People_Marching_People_Marching_2_295.jpg', 'WIDER_train/images/10--People_Marching/10_People_Marching_People_Marching_2_295.jpg', [300, 300], [[138, 166, 210, 243], 1], [[298, 341, 73, 120], 1], [[558, 570, 280, 294], 1], [[591, 615, 217, 244], 1], [[649, 694, 84, 125], 1], [[959, 1008, 68, 108], 1]], '47--Matador_Bullfighter/47_Matador_Bullfighter_Matador_Bullfighter_47_794.jpg': ['WIDER_train/images/47--Matador_Bullfighter/47_Matador_Bullfighter_Matador_Bullfighter_47_794.jpg', 'WIDER_train/images/47--Matador_Bullfighter/47_Matador_Bullfighter_Matador_Bullfighter_47_794.jpg', [300, 300], [[602, 644, 271, 310], 1]], '6--Funeral/6_Funeral_Funeral_6_601.jpg': ['WIDER_train/images/6--Funeral/6_Funeral_Funeral_6_601.jpg', 'WIDER_train/images/6--Funeral/6_Funeral_Funeral_6_601.jpg', [300, 300], [[47, 81, 97, 148], 1], [[194, 254, 76, 145], 1], [[312, 358, 36, 86], 1], [[687, 746, 80, 155], 1], [[772, 814, 88, 137], 1], [[478, 541, 35, 109], 1], [[956, 988, 89, 135], 1], [[597, 790, 673, 910], 1], [[165, 320, 689, 864], 1], [[290, 322, 57, 101], 1]], '2--Demonstration/2_Demonstration_Political_Rally_2_557.jpg': ['WIDER_train/images/2--Demonstration/2_Demonstration_Political_Rally_2_557.jpg', 'WIDER_train/images/2--Demonstration/2_Demonstration_Political_Rally_2_557.jpg', [300, 300], [[989, 1008, 645, 667], 1], [[827, 833, 687, 707], 1], [[881, 891, 674, 699], 1], [[990, 995, 586, 595], 1], [[776, 785, 598, 612], 1], [[887, 895, 576, 587], 1], [[980, 984, 574, 580], 1], [[969, 973, 560, 567], 1], [[887, 896, 595, 607], 1], [[895, 899, 540, 545], 1], [[949, 953, 545, 551], 1], [[861, 865, 562, 567], 1], [[1003, 1012, 577, 587], 1], [[756, 761, 571, 578], 1], [[792, 798, 573, 580], 1], [[807, 813, 572, 580], 1], [[710, 718, 588, 597], 1], [[685, 691, 582, 590], 1], [[671, 681, 604, 615], 1], [[600, 606, 600, 613], 1], [[673, 678, 581, 588], 1], [[596, 601, 580, 587], 1], [[548, 557, 616, 627], 1], [[510, 520, 645, 658], 1], [[511, 516, 576, 582], 1], [[490, 496, 600, 607], 1], [[471, 479, 585, 593], 1], [[446, 452, 588, 595], 1], [[496, 500, 572, 577], 1], [[553, 561, 583, 592], 1], [[418, 427, 622, 641], 1], [[359, 375, 623, 643], 1], [[389, 401, 608, 620], 1], [[320, 328, 588, 597], 1], [[284, 296, 606, 621], 1], [[270, 278, 563, 576], 1], [[259, 262, 566, 579], 1], [[387, 394, 589, 598], 1], [[590, 597, 599, 608], 1], [[595, 604, 587, 598], 1], [[577, 583, 573, 582], 1], [[116, 121, 565, 573], 1], [[100, 106, 563, 570], 1], [[90, 94, 576, 581], 1], [[437, 442, 573, 580], 1], [[411, 418, 591, 599], 1], [[306, 312, 576, 582], 1], [[384, 389, 578, 584], 1], [[370, 377, 575, 584], 1], [[364, 369, 567, 573], 1], [[838, 844, 585, 595], 1], [[840, 843, 564, 570], 1], [[737, 742, 575, 580], 1], [[812, 821, 592, 602], 1], [[721, 728, 579, 587], 1], [[716, 720, 556, 561], 1], [[777, 781, 557, 562], 1], [[982, 987, 570, 576], 1], [[911, 916, 575, 584], 1], [[908, 916, 559, 567], 1], [[986, 992, 560, 566], 1], [[992, 998, 565, 569], 1], [[983, 987, 575, 580], 1], [[986, 990, 567, 572], 1], [[641, 648, 610, 621], 1], [[660, 671, 600, 611], 1], [[576, 584, 591, 599], 1], [[586, 592, 582, 589], 1], [[709, 714, 568, 575], 1], [[636, 642, 569, 574], 1], [[438, 443, 596, 607], 1], [[459, 466, 625, 639], 1], [[746, 752, 586, 594], 1], [[934, 940, 577, 584], 1], [[938, 945, 594, 606], 1], [[703, 707, 556, 560], 1]], '0--Parade/0_Parade_marchingband_1_431.jpg': ['WIDER_train/images/0--Parade/0_Parade_marchingband_1_431.jpg', 'WIDER_train/images/0--Parade/0_Parade_marchingband_1_431.jpg', [300, 300], [[254, 404, 416, 560], 1]], '9--Press_Conference/9_Press_Conference_Press_Conference_9_384.jpg': ['WIDER_train/images/9--Press_Conference/9_Press_Conference_Press_Conference_9_384.jpg', 'WIDER_train/images/9--Press_Conference/9_Press_Conference_Press_Conference_9_384.jpg', [300, 300], [[337, 692, 252, 736], 1]], '29--Students_Schoolkids/29_Students_Schoolkids_Students_Schoolkids_29_442.jpg': ['WIDER_train/images/29--Students_Schoolkids/29_Students_Schoolkids_Students_Schoolkids_29_442.jpg', 'WIDER_train/images/29--Students_Schoolkids/29_Students_Schoolkids_Students_Schoolkids_29_442.jpg', [300, 300], [[393, 647, 285, 638], 1]], '58--Hockey/58_Hockey_icehockey_puck_58_64.jpg': ['WIDER_train/images/58--Hockey/58_Hockey_icehockey_puck_58_64.jpg', 'WIDER_train/images/58--Hockey/58_Hockey_icehockey_puck_58_64.jpg', [300, 300], [[520, 550, 189, 217], 1], [[447, 471, 171, 200], 1], [[409, 428, 180, 203], 1], [[318, 338, 236, 260], 1], [[308, 336, 207, 227], 1], [[548, 574, 422, 446], 1]], '54--Rescue/54_Rescue_rescuepeople_54_501.jpg': ['WIDER_train/images/54--Rescue/54_Rescue_rescuepeople_54_501.jpg', 'WIDER_train/images/54--Rescue/54_Rescue_rescuepeople_54_501.jpg', [300, 300], [[898, 921, 557, 582], 1], [[865, 879, 561, 581], 1], [[976, 996, 607, 631], 1]], '59--people--driving--car/59_peopledrivingcar_peopledrivingcar_59_366.jpg': ['WIDER_train/images/59--people--driving--car/59_peopledrivingcar_peopledrivingcar_59_366.jpg', 'WIDER_train/images/59--people--driving--car/59_peopledrivingcar_peopledrivingcar_59_366.jpg', [300, 300], [[162, 348, 144, 374], 1]], '57--Angler/57_Angler_peoplefishing_57_807.jpg': ['WIDER_train/images/57--Angler/57_Angler_peoplefishing_57_807.jpg', 'WIDER_train/images/57--Angler/57_Angler_peoplefishing_57_807.jpg', [300, 300], [[288, 364, 224, 314], 1], [[412, 490, 232, 330], 1], [[614, 672, 252, 328], 1], [[676, 732, 330, 398], 1]], '35--Basketball/35_Basketball_playingbasketball_35_32.jpg': ['WIDER_train/images/35--Basketball/35_Basketball_playingbasketball_35_32.jpg', 'WIDER_train/images/35--Basketball/35_Basketball_playingbasketball_35_32.jpg', [300, 300], [[312, 369, 524, 595], 1]], '21--Festival/21_Festival_Festival_21_769.jpg': ['WIDER_train/images/21--Festival/21_Festival_Festival_21_769.jpg', 'WIDER_train/images/21--Festival/21_Festival_Festival_21_769.jpg', [300, 300], [[673, 719, 650, 713], 1], [[727, 762, 600, 639], 1], [[775, 802, 571, 601], 1], [[844, 878, 637, 677], 1], [[928, 951, 566, 591], 1], [[811, 820, 548, 560], 1], [[909, 927, 569, 594], 1], [[858, 875, 588, 610], 1], [[975, 993, 557, 576], 1], [[990, 1008, 530, 556], 1], [[846, 862, 573, 591], 1], [[835, 850, 535, 551], 1], [[792, 806, 536, 549], 1], [[605, 619, 552, 566], 1], [[504, 520, 565, 582], 1], [[552, 565, 551, 566], 1], [[490, 513, 622, 653], 1], [[456, 476, 581, 605], 1], [[403, 435, 634, 671], 1], [[257, 276, 588, 612], 1], [[252, 286, 635, 671], 1], [[160, 186, 667, 705], 1], [[432, 449, 579, 598], 1], [[106, 125, 588, 609], 1], [[156, 178, 641, 665], 1], [[385, 403, 580, 598], 1], [[304, 321, 551, 570], 1], [[261, 272, 540, 551], 1], [[253, 264, 555, 566], 1], [[355, 369, 561, 579], 1], [[334, 345, 534, 548], 1], [[568, 585, 576, 595], 1], [[148, 168, 571, 596], 1], [[927, 943, 521, 540], 1], [[872, 883, 531, 548], 1], [[607, 617, 519, 532], 1], [[303, 331, 580, 612], 1], [[378, 389, 560, 575], 1], [[438, 447, 525, 539], 1], [[79, 100, 560, 585], 1]], '35--Basketball/35_Basketball_playingbasketball_35_394.jpg': ['WIDER_train/images/35--Basketball/35_Basketball_playingbasketball_35_394.jpg', 'WIDER_train/images/35--Basketball/35_Basketball_playingbasketball_35_394.jpg', [300, 300], [[462, 564, 120, 261], 1]], '35--Basketball/35_Basketball_basketballgame_ball_35_876.jpg': ['WIDER_train/images/35--Basketball/35_Basketball_basketballgame_ball_35_876.jpg', 'WIDER_train/images/35--Basketball/35_Basketball_basketballgame_ball_35_876.jpg', [300, 300], [[663, 684, 401, 424], 1], [[54, 64, 276, 288], 1], [[21, 29, 255, 263], 1], [[32, 42, 268, 280], 1], [[66, 73, 229, 241], 1], [[101, 108, 217, 225], 1], [[89, 97, 280, 292], 1], [[73, 83, 270, 281], 1], [[174, 182, 252, 264], 1], [[272, 280, 248, 259], 1], [[260, 268, 265, 277], 1], [[257, 263, 281, 288], 1], [[282, 290, 277, 288], 1], [[297, 304, 252, 263], 1], [[312, 319, 249, 258], 1], [[315, 323, 268, 278], 1], [[290, 298, 196, 207], 1], [[305, 313, 207, 217], 1], [[336, 344, 249, 259], 1], [[346, 353, 239, 249], 1], [[370, 378, 226, 235], 1], [[413, 422, 278, 286], 1], [[26, 38, 335, 350], 1], [[68, 78, 337, 351], 1], [[101, 109, 318, 329], 1], [[115, 124, 335, 345], 1], [[80, 90, 337, 348], 1], [[106, 123, 360, 383], 1], [[133, 142, 358, 368], 1], [[178, 202, 324, 357], 1], [[284, 293, 322, 333], 1], [[288, 299, 306, 320], 1], [[360, 368, 335, 346], 1], [[366, 374, 323, 335], 1], [[401, 410, 334, 346], 1], [[394, 404, 353, 364], 1], [[381, 390, 374, 386], 1], [[383, 393, 419, 432], 1], [[413, 424, 456, 470], 1], [[452, 464, 460, 477], 1], [[431, 442, 450, 464], 1], [[419, 428, 431, 444], 1], [[48, 58, 365, 377], 1], [[40, 51, 319, 332], 1], [[48, 57, 296, 307], 1], [[26, 36, 297, 310], 1], [[407, 415, 362, 374], 1], [[542, 549, 240, 250], 1], [[550, 557, 240, 249], 1], [[569, 578, 248, 259], 1], [[560, 566, 251, 260], 1], [[559, 567, 287, 299], 1], [[592, 599, 266, 274], 1], [[604, 612, 274, 285], 1], [[614, 623, 260, 272], 1], [[623, 630, 247, 257], 1], [[657, 667, 287, 299], 1], [[654, 664, 312, 325], 1], [[564, 591, 325, 345], 1], [[612, 624, 331, 346], 1], [[634, 643, 332, 345], 1], [[634, 644, 358, 370], 1], [[645, 655, 362, 374], 1], [[660, 670, 338, 350], 1], [[679, 687, 366, 379], 1], [[659, 670, 381, 396], 1], [[706, 716, 377, 389], 1], [[705, 715, 355, 366], 1], [[724, 734, 376, 386], 1], [[742, 752, 384, 397], 1], [[778, 788, 382, 395], 1], [[734, 746, 348, 361], 1], [[741, 751, 333, 345], 1], [[721, 730, 336, 347], 1], [[745, 755, 324, 334], 1], [[759, 769, 341, 354], 1], [[757, 765, 292, 303], 1], [[721, 729, 258, 270], 1], [[669, 679, 261, 274], 1], [[701, 708, 285, 294], 1], [[713, 721, 290, 301], 1], [[799, 809, 338, 350], 1], [[812, 823, 357, 368], 1], [[825, 834, 359, 371], 1], [[819, 828, 337, 348], 1], [[815, 825, 294, 307], 1], [[881, 892, 278, 289], 1], [[931, 940, 278, 289], 1], [[932, 943, 309, 321], 1], [[967, 977, 308, 320], 1], [[996, 1007, 311, 324], 1], [[945, 952, 298, 307], 1], [[971, 982, 297, 307], 1], [[835, 857, 333, 364], 1], [[893, 917, 359, 389], 1], [[996, 1007, 428, 444], 1], [[796, 811, 425, 437], 1], [[762, 772, 434, 450], 1], [[796, 808, 446, 464], 1], [[812, 823, 456, 471], 1], [[592, 603, 462, 475], 1], [[630, 644, 454, 468], 1], [[710, 718, 459, 470], 1], [[717, 728, 463, 477], 1], [[731, 742, 461, 474], 1], [[15, 24, 454, 474], 1], [[15, 23, 412, 425], 1], [[99, 106, 28, 35], 1], [[100, 108, 14, 22], 1], [[134, 141, 13, 22], 1], [[145, 152, 34, 41], 1], [[121, 128, 30, 37], 1], [[167, 173, 14, 22], 1], [[192, 198, 21, 29], 1], [[219, 227, 19, 27], 1], [[246, 254, 21, 29], 1], [[270, 277, 8, 15], 1], [[282, 289, 39, 48], 1], [[253, 261, 39, 46], 1], [[223, 232, 34, 43], 1], [[385, 391, 35, 42], 1], [[420, 426, 36, 44], 1], [[496, 504, 36, 44], 1], [[523, 531, 39, 46], 1], [[555, 563, 33, 42], 1], [[583, 591, 35, 43], 1], [[717, 725, 29, 38], 1], [[818, 826, 25, 34], 1], [[831, 839, 8, 16], 1], [[855, 863, 8, 16], 1], [[850, 859, 24, 35], 1], [[902, 911, 20, 29], 1], [[952, 960, 24, 33], 1], [[989, 996, 22, 30], 1], [[508, 516, 179, 189], 1], [[538, 545, 186, 195], 1], [[564, 571, 189, 197], 1], [[553, 561, 164, 173], 1], [[641, 649, 178, 188], 1], [[648, 655, 161, 169], 1], [[673, 681, 179, 189], 1], [[678, 684, 166, 174], 1], [[710, 717, 190, 199], 1], [[703, 710, 182, 191], 1], [[895, 903, 220, 227], 1], [[823, 831, 228, 237], 1], [[794, 803, 241, 252], 1], [[769, 776, 235, 242], 1], [[781, 788, 219, 228], 1], [[846, 853, 296, 304], 1], [[843, 851, 312, 321], 1], [[902, 909, 322, 331], 1], [[792, 799, 287, 297], 1], [[781, 790, 330, 340], 1], [[691, 700, 319, 329], 1], [[637, 645, 300, 310], 1], [[676, 684, 252, 261], 1], [[637, 646, 233, 242], 1], [[677, 687, 352, 363], 1], [[750, 758, 370, 381], 1], [[620, 631, 466, 478], 1], [[432, 441, 260, 271], 1], [[427, 435, 236, 245], 1], [[442, 450, 225, 233], 1], [[500, 509, 241, 251], 1], [[514, 522, 242, 251], 1], [[523, 531, 236, 246], 1], [[529, 537, 244, 253], 1], [[566, 573, 229, 238], 1], [[596, 603, 220, 229], 1], [[606, 614, 243, 253], 1], [[597, 605, 248, 257], 1], [[585, 595, 305, 318], 1], [[543, 551, 300, 308], 1], [[433, 445, 487, 502], 1], [[508, 520, 458, 472], 1], [[374, 381, 253, 261], 1], [[353, 361, 254, 262], 1], [[382, 389, 249, 258], 1], [[389, 398, 291, 300], 1], [[415, 423, 296, 306], 1], [[290, 299, 289, 301], 1], [[264, 272, 296, 305], 1], [[232, 239, 277, 285], 1], [[232, 240, 267, 275], 1], [[208, 215, 264, 273], 1], [[216, 223, 247, 255], 1], [[251, 258, 251, 260], 1], [[271, 279, 262, 271], 1], [[248, 254, 228, 235], 1], [[242, 249, 216, 225], 1], [[271, 277, 218, 226], 1], [[265, 271, 202, 208], 1], [[241, 247, 199, 207], 1], [[326, 332, 204, 211], 1], [[399, 406, 242, 248], 1], [[352, 361, 270, 280], 1], [[56, 64, 191, 198], 1], [[80, 88, 187, 195], 1], [[40, 50, 243, 254], 1], [[76, 85, 230, 239], 1], [[105, 113, 232, 242], 1], [[118, 127, 235, 245], 1], [[123, 131, 250, 261], 1], [[135, 143, 234, 243], 1], [[137, 144, 219, 226], 1], [[156, 163, 217, 224], 1], [[168, 176, 220, 229], 1], [[168, 175, 231, 241], 1], [[181, 190, 218, 227], 1], [[216, 223, 225, 232], 1], [[193, 202, 267, 278], 1], [[191, 200, 288, 299], 1], [[202, 210, 290, 300], 1], [[141, 151, 243, 254], 1], [[153, 160, 245, 254], 1], [[152, 157, 233, 239], 1], [[72, 80, 294, 305], 1], [[6, 16, 312, 325], 1], [[13, 22, 288, 297], 1], [[12, 22, 270, 281], 1], [[3, 13, 259, 269], 1], [[0, 8, 237, 246], 1], [[5, 16, 347, 360], 1], [[15, 27, 363, 376], 1], [[132, 143, 350, 362], 1], [[1007, 1016, 299, 308], 1], [[985, 998, 449, 463], 1], [[529, 536, 170, 177], 1], [[593, 599, 134, 142], 1], [[567, 575, 139, 147], 1], [[492, 499, 171, 180], 1], [[74, 81, 9, 16], 1], [[171, 177, 0, 6], 1], [[196, 204, 1, 10], 1], [[222, 228, 0, 5], 1], [[239, 246, 2, 9], 1], [[186, 194, 44, 52], 1], [[704, 712, 261, 269], 1], [[416, 426, 388, 399], 1], [[767, 774, 294, 304], 1], [[623, 634, 368, 381], 1], [[420, 428, 251, 263], 1], [[388, 397, 266, 277], 1], [[199, 206, 230, 241], 1], [[207, 214, 223, 233], 1], [[166, 173, 275, 286], 1], [[815, 826, 372, 386], 1], [[790, 801, 370, 381], 1], [[825, 834, 320, 332], 1], [[806, 815, 308, 319], 1], [[776, 787, 308, 320], 1], [[784, 792, 295, 304], 1], [[847, 854, 288, 297], 1], [[124, 134, 369, 381], 1]], '47--Matador_Bullfighter/47_Matador_Bullfighter_matadorbullfighting_47_111.jpg': ['WIDER_train/images/47--Matador_Bullfighter/47_Matador_Bullfighter_matadorbullfighting_47_111.jpg', 'WIDER_train/images/47--Matador_Bullfighter/47_Matador_Bullfighter_matadorbullfighting_47_111.jpg', [300, 300], [[442, 494, 18, 66], 1]], '20--Family_Group/20_Family_Group_Family_Group_20_765.jpg': ['WIDER_train/images/20--Family_Group/20_Family_Group_Family_Group_20_765.jpg', 'WIDER_train/images/20--Family_Group/20_Family_Group_Family_Group_20_765.jpg', [300, 300], [[899, 942, 275, 331], 1], [[470, 506, 362, 407], 1], [[374, 406, 458, 489], 1], [[216, 255, 180, 227], 1], [[682, 701, 93, 117], 1]], '34--Baseball/34_Baseball_Baseball_34_5.jpg': ['WIDER_train/images/34--Baseball/34_Baseball_Baseball_34_5.jpg', 'WIDER_train/images/34--Baseball/34_Baseball_Baseball_34_5.jpg', [300, 300], [[252, 306, 182, 264], 1]], '10--People_Marching/10_People_Marching_People_Marching_10_People_Marching_People_Marching_10_People_Marching_People_Marching_10_929.jpg': ['WIDER_train/images/10--People_Marching/10_People_Marching_People_Marching_10_People_Marching_People_Marching_10_People_Marching_People_Marching_10_929.jpg', 'WIDER_train/images/10--People_Marching/10_People_Marching_People_Marching_10_People_Marching_People_Marching_10_People_Marching_People_Marching_10_929.jpg', [300, 300], [[40, 77, 235, 287], 1], [[70, 122, 249, 314], 1], [[189, 207, 308, 331], 1], [[166, 177, 316, 331], 1], [[232, 267, 340, 359], 1], [[243, 262, 276, 302], 1], [[322, 331, 251, 261], 1], [[278, 294, 293, 312], 1], [[351, 388, 257, 300], 1], [[410, 417, 250, 259], 1], [[425, 463, 270, 320], 1], [[620, 648, 235, 272], 1], [[709, 742, 217, 261], 1], [[899, 941, 178, 233], 1], [[544, 564, 238, 270], 1], [[182, 195, 275, 289], 1]], '12--Group/12_Group_Team_Organized_Group_12_Group_Team_Organized_Group_12_541.jpg': ['WIDER_train/images/12--Group/12_Group_Team_Organized_Group_12_Group_Team_Organized_Group_12_541.jpg', 'WIDER_train/images/12--Group/12_Group_Team_Organized_Group_12_Group_Team_Organized_Group_12_541.jpg', [300, 300], [[358, 418, 126, 240], 1]], '47--Matador_Bullfighter/47_Matador_Bullfighter_matadorbullfighting_47_592.jpg': ['WIDER_train/images/47--Matador_Bullfighter/47_Matador_Bullfighter_matadorbullfighting_47_592.jpg', 'WIDER_train/images/47--Matador_Bullfighter/47_Matador_Bullfighter_matadorbullfighting_47_592.jpg', [300, 300], [[899, 929, 218, 267], 1]], '20--Family_Group/20_Family_Group_Family_Group_20_113.jpg': ['WIDER_train/images/20--Family_Group/20_Family_Group_Family_Group_20_113.jpg', 'WIDER_train/images/20--Family_Group/20_Family_Group_Family_Group_20_113.jpg', [300, 300], [[228, 402, 297, 552], 1], [[459, 621, 592, 841], 1], [[676, 943, 520, 796], 1]], '41--Swimming/41_Swimming_Swimmer_41_424.jpg': ['WIDER_train/images/41--Swimming/41_Swimming_Swimmer_41_424.jpg', 'WIDER_train/images/41--Swimming/41_Swimming_Swimmer_41_424.jpg', [300, 300], [[230, 257, 339, 376], 1], [[246, 263, 372, 422], 1], [[658, 679, 331, 371], 1], [[932, 950, 316, 359], 1], [[757, 774, 93, 120], 1], [[43, 66, 298, 330], 1]], '25--Soldier_Patrol/25_Soldier_Patrol_Soldier_Patrol_25_843.jpg': ['WIDER_train/images/25--Soldier_Patrol/25_Soldier_Patrol_Soldier_Patrol_25_843.jpg', 'WIDER_train/images/25--Soldier_Patrol/25_Soldier_Patrol_Soldier_Patrol_25_843.jpg', [300, 300], [[7, 23, 236, 257], 1], [[45, 66, 225, 255], 1], [[153, 170, 282, 303], 1], [[223, 254, 213, 255], 1], [[290, 318, 197, 236], 1], [[357, 384, 196, 241], 1], [[615, 648, 190, 234], 1], [[513, 530, 154, 182], 1], [[740, 761, 211, 243], 1], [[800, 812, 228, 246], 1], [[818, 828, 224, 245], 1], [[822, 839, 224, 246], 1], [[856, 872, 219, 240], 1], [[872, 896, 222, 258], 1], [[902, 930, 189, 224], 1], [[852, 862, 128, 145], 1], [[853, 864, 153, 167], 1], [[875, 889, 151, 170], 1], [[892, 903, 137, 155], 1], [[869, 879, 167, 183], 1], [[836, 846, 145, 161], 1], [[833, 840, 167, 178], 1], [[908, 916, 158, 170], 1], [[959, 975, 219, 243], 1], [[984, 1004, 217, 243], 1], [[670, 684, 150, 174], 1]], '13--Interview/13_Interview_Interview_2_People_Visible_13_69.jpg': ['WIDER_train/images/13--Interview/13_Interview_Interview_2_People_Visible_13_69.jpg', 'WIDER_train/images/13--Interview/13_Interview_Interview_2_People_Visible_13_69.jpg', [300, 300], [[32, 39, 38, 48], 1], [[48, 57, 39, 49], 1], [[103, 115, 41, 56], 1], [[144, 155, 39, 51], 1], [[207, 214, 53, 61], 1], [[177, 183, 66, 73], 1], [[240, 248, 52, 63], 1], [[263, 271, 50, 63], 1], [[272, 278, 54, 64], 1], [[303, 311, 54, 64], 1], [[338, 348, 65, 77], 1], [[375, 383, 57, 68], 1], [[285, 293, 118, 130], 1], [[331, 343, 120, 135], 1], [[366, 378, 120, 134], 1], [[397, 406, 72, 83], 1], [[415, 421, 64, 71], 1], [[453, 460, 70, 78], 1], [[486, 496, 73, 84], 1], [[520, 528, 78, 89], 1], [[558, 567, 77, 90], 1], [[612, 621, 140, 154], 1], [[566, 576, 141, 155], 1], [[505, 517, 132, 147], 1], [[719, 727, 119, 131], 1], [[757, 767, 106, 118], 1], [[802, 832, 144, 190], 1], [[945, 975, 392, 432], 1], [[970, 984, 359, 372], 1], [[1014, 1024, 364, 389], 1], [[743, 773, 386, 430], 1], [[772, 791, 380, 403], 1], [[787, 805, 365, 390], 1], [[782, 796, 346, 365], 1], [[715, 731, 371, 406], 1], [[734, 747, 362, 381], 1], [[684, 694, 304, 319], 1], [[647, 679, 374, 422], 1], [[617, 634, 353, 379], 1], [[662, 683, 350, 379], 1], [[642, 653, 296, 310], 1], [[576, 588, 319, 334], 1], [[616, 625, 299, 309], 1], [[535, 545, 295, 310], 1], [[570, 580, 296, 309], 1], [[586, 619, 421, 467], 1], [[567, 593, 394, 424], 1], [[538, 567, 404, 444], 1], [[523, 550, 370, 403], 1], [[508, 533, 387, 424], 1], [[538, 560, 360, 389], 1], [[562, 581, 373, 399], 1], [[402, 412, 296, 309], 1], [[472, 488, 349, 373], 1], [[480, 488, 313, 328], 1], [[474, 513, 416, 465], 1], [[443, 466, 372, 405], 1], [[474, 496, 360, 396], 1], [[404, 411, 278, 288], 1], [[424, 429, 277, 285], 1], [[474, 479, 284, 295], 1], [[443, 449, 286, 293], 1], [[437, 446, 301, 313], 1], [[374, 384, 289, 304], 1], [[375, 396, 347, 369], 1], [[395, 416, 382, 410], 1], [[417, 447, 423, 469], 1], [[380, 407, 408, 447], 1], [[344, 374, 394, 437], 1], [[324, 356, 430, 478], 1], [[307, 337, 396, 441], 1], [[260, 288, 408, 447], 1], [[284, 303, 337, 363], 1], [[333, 360, 381, 423], 1], [[308, 320, 305, 320], 1], [[336, 346, 307, 319], 1], [[262, 270, 297, 308], 1], [[363, 371, 302, 314], 1], [[173, 183, 295, 311], 1], [[181, 200, 350, 376], 1], [[201, 227, 361, 392], 1], [[251, 279, 376, 415], 1], [[213, 220, 275, 286], 1], [[217, 231, 340, 364], 1], [[158, 174, 347, 374], 1], [[126, 155, 357, 398], 1], [[170, 194, 397, 443], 1], [[207, 239, 397, 441], 1], [[223, 259, 433, 493], 1], [[103, 142, 437, 478], 1], [[14, 56, 406, 466], 1], [[62, 97, 390, 431], 1], [[2, 17, 359, 385], 1], [[84, 108, 352, 392], 1], [[102, 125, 380, 420], 1], [[35, 46, 302, 317], 1], [[48, 55, 268, 280], 1], [[140, 150, 273, 287], 1], [[136, 150, 306, 322], 1], [[117, 124, 270, 283], 1], [[239, 247, 308, 319], 1], [[444, 454, 60, 71], 1]], '61--Street_Battle/61_Street_Battle_streetfight_61_775.jpg': ['WIDER_train/images/61--Street_Battle/61_Street_Battle_streetfight_61_775.jpg', 'WIDER_train/images/61--Street_Battle/61_Street_Battle_streetfight_61_775.jpg', [300, 300], [[75, 99, 10, 45], 1], [[122, 151, 8, 39], 1], [[239, 271, 5, 31], 1], [[382, 408, 1, 24], 1], [[415, 436, 3, 26], 1], [[458, 472, 11, 34], 1], [[530, 544, 6, 28], 1], [[541, 561, 0, 23], 1], [[564, 577, 0, 16], 1], [[601, 621, 1, 18], 1], [[633, 655, 1, 28], 1], [[678, 700, 8, 40], 1], [[709, 730, 7, 32], 1], [[745, 769, 12, 41], 1], [[784, 802, 2, 17], 1], [[800, 822, 20, 47], 1], [[822, 847, 15, 48], 1], [[845, 861, 8, 33], 1], [[873, 894, 0, 22], 1], [[871, 894, 24, 54], 1], [[899, 924, 7, 39], 1], [[936, 962, 11, 42], 1], [[966, 988, 18, 47], 1], [[989, 1016, 5, 38], 1], [[968, 986, 0, 12], 1]], '24--Soldier_Firing/24_Soldier_Firing_Soldier_Firing_24_881.jpg': ['WIDER_train/images/24--Soldier_Firing/24_Soldier_Firing_Soldier_Firing_24_881.jpg', 'WIDER_train/images/24--Soldier_Firing/24_Soldier_Firing_Soldier_Firing_24_881.jpg', [300, 300], [[664, 738, 412, 504], 1]], '8--Election_Campain/8_Election_Campain_Election_Campaign_8_82.jpg': ['WIDER_train/images/8--Election_Campain/8_Election_Campain_Election_Campaign_8_82.jpg', 'WIDER_train/images/8--Election_Campain/8_Election_Campain_Election_Campaign_8_82.jpg', [300, 300], [[237, 548, 68, 713], 1], [[488, 840, 204, 787], 1]], '31--Waiter_Waitress/31_Waiter_Waitress_Waiter_Waitress_31_622.jpg': ['WIDER_train/images/31--Waiter_Waitress/31_Waiter_Waitress_Waiter_Waitress_31_622.jpg', 'WIDER_train/images/31--Waiter_Waitress/31_Waiter_Waitress_Waiter_Waitress_31_622.jpg', [300, 300], [[364, 500, 179, 370], 1]], '34--Baseball/34_Baseball_Baseball_34_11.jpg': ['WIDER_train/images/34--Baseball/34_Baseball_Baseball_34_11.jpg', 'WIDER_train/images/34--Baseball/34_Baseball_Baseball_34_11.jpg', [300, 300], [[218, 248, 352, 396], 1], [[373, 401, 394, 443], 1], [[713, 744, 253, 292], 1]], '51--Dresses/51_Dresses_wearingdress_51_360.jpg': ['WIDER_train/images/51--Dresses/51_Dresses_wearingdress_51_360.jpg', 'WIDER_train/images/51--Dresses/51_Dresses_wearingdress_51_360.jpg', [300, 300], [[484, 606, 84, 290], 1]], '30--Surgeons/30_Surgeons_Surgeons_30_902.jpg': ['WIDER_train/images/30--Surgeons/30_Surgeons_Surgeons_30_902.jpg', 'WIDER_train/images/30--Surgeons/30_Surgeons_Surgeons_30_902.jpg', [300, 300], [[65, 82, 255, 277], 1], [[93, 113, 268, 292], 1], [[109, 126, 215, 235], 1], [[146, 165, 270, 294], 1], [[157, 174, 207, 231], 1], [[211, 227, 206, 228], 1], [[211, 228, 364, 389], 1], [[177, 196, 176, 201], 1], [[228, 249, 265, 290], 1], [[262, 281, 375, 401], 1], [[324, 341, 380, 400], 1], [[397, 414, 377, 397], 1], [[461, 478, 368, 391], 1], [[251, 264, 213, 234], 1], [[277, 295, 223, 246], 1], [[293, 313, 269, 294], 1], [[310, 326, 211, 232], 1], [[334, 351, 221, 243], 1], [[385, 401, 214, 235], 1], [[389, 402, 292, 306], 1], [[446, 464, 196, 222], 1], [[412, 428, 289, 311], 1], [[473, 492, 283, 306], 1], [[486, 502, 200, 219], 1], [[541, 559, 209, 231], 1], [[584, 600, 214, 235], 1], [[526, 545, 381, 400], 1], [[543, 559, 307, 327], 1], [[610, 627, 312, 335], 1], [[626, 640, 272, 289], 1], [[649, 664, 270, 289], 1], [[655, 670, 294, 315], 1], [[705, 726, 289, 317], 1], [[689, 697, 269, 286], 1], [[701, 717, 256, 281], 1], [[731, 747, 267, 289], 1], [[756, 774, 306, 325], 1], [[769, 787, 261, 285], 1], [[769, 784, 192, 215], 1], [[785, 800, 205, 226], 1], [[828, 843, 227, 243], 1], [[830, 847, 196, 219], 1], [[819, 835, 295, 321], 1], [[835, 847, 298, 319], 1], [[864, 884, 289, 315], 1], [[887, 900, 295, 313], 1], [[920, 941, 281, 305], 1]], '8--Election_Campain/8_Election_Campain_Election_Campaign_8_320.jpg': ['WIDER_train/images/8--Election_Campain/8_Election_Campain_Election_Campaign_8_320.jpg', 'WIDER_train/images/8--Election_Campain/8_Election_Campain_Election_Campaign_8_320.jpg', [300, 300], [[53, 64, 207, 255], 1], [[0, 34, 440, 500], 1], [[65, 116, 422, 492], 1], [[206, 262, 386, 465], 1], [[20, 59, 389, 426], 1], [[52, 68, 362, 389], 1], [[34, 62, 340, 366], 1], [[116, 138, 372, 400], 1], [[135, 157, 358, 378], 1], [[80, 96, 353, 375], 1], [[109, 123, 320, 337], 1], [[169, 186, 342, 365], 1], [[161, 177, 399, 431], 1], [[294, 328, 343, 383], 1], [[428, 470, 412, 476], 1], [[416, 433, 341, 366], 1], [[339, 361, 363, 391], 1], [[510, 525, 332, 356], 1], [[446, 463, 336, 355], 1], [[262, 269, 327, 336], 1], [[253, 258, 329, 338], 1], [[215, 229, 349, 363], 1], [[231, 241, 339, 349], 1], [[184, 195, 333, 346], 1], [[202, 208, 327, 339], 1], [[212, 221, 333, 342], 1], [[223, 232, 328, 338], 1], [[224, 231, 324, 332], 1], [[821, 864, 360, 418], 1], [[766, 800, 374, 414], 1], [[934, 968, 342, 378], 1], [[997, 1019, 345, 373], 1], [[992, 1011, 313, 332], 1], [[957, 974, 324, 344], 1], [[926, 942, 309, 329], 1], [[896, 910, 319, 337], 1], [[907, 925, 338, 362], 1], [[789, 803, 317, 332], 1], [[757, 768, 347, 362], 1], [[769, 782, 334, 347], 1], [[642, 667, 316, 341], 1], [[703, 723, 275, 299], 1], [[572, 589, 349, 378], 1], [[582, 594, 326, 341], 1], [[704, 713, 420, 435], 1], [[541, 548, 329, 341], 1], [[515, 537, 116, 135], 1], [[996, 1005, 224, 232], 1], [[679, 690, 100, 109], 1], [[868, 875, 245, 253], 1], [[148, 152, 252, 260], 1], [[148, 151, 234, 240], 1], [[145, 149, 228, 233], 1], [[149, 152, 244, 249], 1], [[145, 149, 244, 250], 1], [[932, 952, 337, 364], 1], [[918, 926, 315, 328], 1]], '18--Concerts/18_Concerts_Concerts_18_385.jpg': ['WIDER_train/images/18--Concerts/18_Concerts_Concerts_18_385.jpg', 'WIDER_train/images/18--Concerts/18_Concerts_Concerts_18_385.jpg', [300, 300], [[367, 527, 305, 503], 1]], '53--Raid/53_Raid_policeraid_53_662.jpg': ['WIDER_train/images/53--Raid/53_Raid_policeraid_53_662.jpg', 'WIDER_train/images/53--Raid/53_Raid_policeraid_53_662.jpg', [300, 300], [[527, 565, 122, 171], 1]], '18--Concerts/18_Concerts_Concerts_18_340.jpg': ['WIDER_train/images/18--Concerts/18_Concerts_Concerts_18_340.jpg', 'WIDER_train/images/18--Concerts/18_Concerts_Concerts_18_340.jpg', [300, 300], [[923, 954, 670, 716], 1], [[735, 745, 797, 810], 1], [[714, 726, 791, 805], 1], [[589, 617, 685, 746], 1], [[566, 585, 749, 770], 1], [[463, 497, 691, 743], 1], [[393, 409, 791, 811], 1], [[287, 313, 685, 722], 1], [[237, 255, 752, 777], 1], [[92, 103, 720, 737], 1], [[455, 464, 337, 345], 1], [[588, 592, 324, 330], 1], [[960, 967, 320, 330], 1]], '13--Interview/13_Interview_Interview_On_Location_13_1015.jpg': ['WIDER_train/images/13--Interview/13_Interview_Interview_On_Location_13_1015.jpg', 'WIDER_train/images/13--Interview/13_Interview_Interview_On_Location_13_1015.jpg', [300, 300], [[173, 217, 157, 213], 1], [[229, 253, 169, 199], 1], [[321, 359, 155, 217], 1], [[283, 293, 179, 190], 1], [[384, 422, 175, 232], 1], [[426, 455, 208, 252], 1], [[467, 497, 236, 274], 1], [[543, 578, 231, 277], 1], [[593, 630, 309, 354], 1], [[625, 657, 230, 273], 1], [[689, 723, 232, 277], 1], [[695, 736, 205, 250], 1], [[737, 761, 132, 167], 1], [[791, 832, 177, 233], 1], [[880, 931, 113, 171], 1]], '36--Football/36_Football_americanfootball_ball_36_851.jpg': ['WIDER_train/images/36--Football/36_Football_americanfootball_ball_36_851.jpg', 'WIDER_train/images/36--Football/36_Football_americanfootball_ball_36_851.jpg', [300, 300], [[89, 138, 108, 177], 1], [[280, 314, 134, 165], 1], [[357, 407, 62, 128], 1], [[792, 825, 159, 189], 1], [[971, 1017, 114, 160], 1]], '27--Spa/27_Spa_Spa_27_419.jpg': ['WIDER_train/images/27--Spa/27_Spa_Spa_27_419.jpg', 'WIDER_train/images/27--Spa/27_Spa_Spa_27_419.jpg', [300, 300], [[324, 376, 374, 440], 1]], '22--Picnic/22_Picnic_Picnic_22_303.jpg': ['WIDER_train/images/22--Picnic/22_Picnic_Picnic_22_303.jpg', 'WIDER_train/images/22--Picnic/22_Picnic_Picnic_22_303.jpg', [300, 300], [[336, 363, 612, 640], 1], [[485, 515, 585, 615], 1], [[627, 655, 578, 613], 1], [[700, 732, 581, 619], 1]], '35--Basketball/35_Basketball_basketballgame_ball_35_425.jpg': ['WIDER_train/images/35--Basketball/35_Basketball_basketballgame_ball_35_425.jpg', 'WIDER_train/images/35--Basketball/35_Basketball_basketballgame_ball_35_425.jpg', [300, 300], [[394, 608, 138, 416], 1], [[853, 966, 1073, 1204], 1]], '36--Football/36_Football_americanfootball_ball_36_792.jpg': ['WIDER_train/images/36--Football/36_Football_americanfootball_ball_36_792.jpg', 'WIDER_train/images/36--Football/36_Football_americanfootball_ball_36_792.jpg', [300, 300], [[414, 630, 4, 286], 1]], '6--Funeral/6_Funeral_Funeral_6_873.jpg': ['WIDER_train/images/6--Funeral/6_Funeral_Funeral_6_873.jpg', 'WIDER_train/images/6--Funeral/6_Funeral_Funeral_6_873.jpg', [300, 300], [[682, 866, 72, 316], 1], [[124, 232, 272, 422], 1]], '13--Interview/13_Interview_Interview_Sequences_13_271.jpg': ['WIDER_train/images/13--Interview/13_Interview_Interview_Sequences_13_271.jpg', 'WIDER_train/images/13--Interview/13_Interview_Interview_Sequences_13_271.jpg', [300, 300], [[696, 862, 42, 302], 1], [[164, 356, 8, 302], 1]], '41--Swimming/41_Swimming_Swimmer_41_473.jpg': ['WIDER_train/images/41--Swimming/41_Swimming_Swimmer_41_473.jpg', 'WIDER_train/images/41--Swimming/41_Swimming_Swimmer_41_473.jpg', [300, 300], [[766, 838, 68, 154], 1], [[612, 666, 36, 124], 1]], '13--Interview/13_Interview_Interview_On_Location_13_555.jpg': ['WIDER_train/images/13--Interview/13_Interview_Interview_On_Location_13_555.jpg', 'WIDER_train/images/13--Interview/13_Interview_Interview_On_Location_13_555.jpg', [300, 300], [[666, 728, 44, 144], 1]], '59--people--driving--car/59_peopledrivingcar_peopledrivingcar_59_92.jpg': ['WIDER_train/images/59--people--driving--car/59_peopledrivingcar_peopledrivingcar_59_92.jpg', 'WIDER_train/images/59--people--driving--car/59_peopledrivingcar_peopledrivingcar_59_92.jpg', [300, 300], [[552, 636, 142, 202], 1]], '40--Gymnastics/40_Gymnastics_Gymnastics_40_687.jpg': ['WIDER_train/images/40--Gymnastics/40_Gymnastics_Gymnastics_40_687.jpg', 'WIDER_train/images/40--Gymnastics/40_Gymnastics_Gymnastics_40_687.jpg', [300, 300], [[267, 300, 121, 165], 1], [[513, 545, 145, 173], 1], [[772, 805, 87, 125], 1]], '7--Cheering/7_Cheering_Cheering_7_182.jpg': ['WIDER_train/images/7--Cheering/7_Cheering_Cheering_7_182.jpg', 'WIDER_train/images/7--Cheering/7_Cheering_Cheering_7_182.jpg', [300, 300], [[316, 474, 182, 444], 1]], '48--Parachutist_Paratrooper/48_Parachutist_Paratrooper_Parachutist_Paratrooper_48_416.jpg': ['WIDER_train/images/48--Parachutist_Paratrooper/48_Parachutist_Paratrooper_Parachutist_Paratrooper_48_416.jpg', 'WIDER_train/images/48--Parachutist_Paratrooper/48_Parachutist_Paratrooper_Parachutist_Paratrooper_48_416.jpg', [300, 300], [[152, 204, 258, 330], 1]], '30--Surgeons/30_Surgeons_Surgeons_30_31.jpg': ['WIDER_train/images/30--Surgeons/30_Surgeons_Surgeons_30_31.jpg', 'WIDER_train/images/30--Surgeons/30_Surgeons_Surgeons_30_31.jpg', [300, 300], [[364, 534, 158, 350], 1], [[580, 698, 238, 386], 1], [[672, 878, 148, 334], 1]], '0--Parade/0_Parade_Parade_0_127.jpg': ['WIDER_train/images/0--Parade/0_Parade_Parade_0_127.jpg', 'WIDER_train/images/0--Parade/0_Parade_Parade_0_127.jpg', [300, 300], [[247, 262, 320, 339], 1], [[497, 514, 344, 367], 1], [[432, 445, 304, 322], 1], [[226, 242, 315, 334], 1], [[204, 219, 308, 325], 1], [[181, 196, 304, 320], 1], [[159, 173, 293, 310], 1], [[319, 332, 313, 332], 1], [[289, 302, 306, 325], 1], [[260, 272, 302, 319], 1], [[235, 248, 297, 314], 1], [[213, 225, 290, 306], 1], [[192, 204, 285, 300], 1], [[174, 185, 279, 294], 1], [[375, 390, 305, 325], 1], [[345, 360, 305, 323], 1], [[323, 336, 294, 311], 1], [[297, 309, 292, 308], 1], [[268, 280, 287, 303], 1], [[247, 259, 279, 295], 1], [[225, 237, 274, 291], 1], [[203, 212, 268, 283], 1], [[178, 189, 266, 278], 1], [[187, 198, 248, 261], 1], [[208, 218, 254, 266], 1], [[214, 224, 239, 250], 1], [[135, 147, 289, 304], 1], [[115, 126, 283, 297], 1], [[98, 109, 276, 291], 1], [[78, 88, 273, 287], 1], [[58, 69, 266, 280], 1], [[44, 55, 261, 275], 1], [[75, 86, 252, 265], 1], [[89, 100, 256, 271], 1], [[108, 119, 263, 276], 1], [[116, 127, 246, 260], 1], [[136, 148, 252, 266], 1], [[125, 136, 269, 283], 1], [[20, 31, 254, 268], 1], [[167, 177, 243, 255], 1], [[154, 164, 259, 273], 1], [[147, 159, 276, 289], 1], [[229, 240, 261, 274], 1], [[236, 246, 246, 259], 1], [[264, 274, 236, 248], 1], [[258, 266, 250, 262], 1], [[285, 295, 242, 255], 1], [[275, 286, 255, 267], 1], [[313, 322, 233, 247], 1], [[306, 317, 248, 262], 1], [[299, 310, 261, 275], 1], [[252, 262, 266, 280], 1], [[275, 285, 273, 286], 1], [[297, 308, 278, 291], 1], [[319, 330, 284, 296], 1], [[345, 355, 290, 303], 1], [[330, 339, 267, 281], 1], [[352, 363, 273, 285], 1], [[377, 386, 277, 290], 1], [[327, 337, 252, 264], 1], [[358, 368, 257, 269], 1], [[379, 389, 261, 273], 1], [[335, 344, 238, 252], 1], [[353, 362, 244, 255], 1], [[359, 368, 231, 243], 1], [[402, 414, 299, 315], 1], [[404, 413, 285, 296], 1], [[432, 445, 289, 302], 1], [[406, 418, 269, 281], 1], [[400, 410, 255, 267], 1], [[379, 388, 248, 259], 1], [[382, 392, 235, 246], 1], [[404, 413, 229, 239], 1], [[406, 416, 242, 252], 1], [[424, 434, 232, 242], 1], [[430, 439, 247, 258], 1], [[427, 439, 257, 269], 1], [[429, 441, 273, 285], 1], [[498, 510, 297, 314], 1], [[465, 477, 290, 307], 1], [[454, 466, 278, 290], 1], [[454, 464, 263, 274], 1], [[452, 462, 254, 264], 1], [[450, 459, 239, 250], 1], [[449, 460, 225, 236], 1], [[489, 502, 280, 295], 1], [[479, 491, 271, 283], 1], [[478, 490, 255, 268], 1], [[472, 483, 246, 257], 1], [[475, 485, 231, 241], 1], [[553, 568, 292, 309], 1], [[519, 532, 287, 301], 1], [[506, 519, 272, 286], 1], [[504, 514, 262, 275], 1], [[499, 510, 248, 260], 1], [[497, 507, 235, 247], 1], [[489, 500, 220, 233], 1], [[607, 620, 289, 306], 1], [[576, 589, 280, 296], 1], [[535, 549, 275, 292], 1], [[529, 541, 264, 277], 1], [[523, 535, 255, 267], 1], [[519, 530, 240, 252], 1], [[515, 524, 230, 240], 1], [[666, 680, 283, 301], 1], [[628, 641, 277, 293], 1], [[611, 622, 265, 279], 1], [[595, 607, 275, 290], 1], [[580, 591, 260, 275], 1], [[562, 575, 268, 283], 1], [[553, 564, 257, 270], 1], [[548, 558, 245, 256], 1], [[540, 549, 234, 246], 1], [[535, 544, 222, 232], 1], [[719, 731, 283, 298], 1], [[684, 695, 276, 290], 1], [[645, 656, 270, 286], 1], [[633, 644, 258, 272], 1], [[605, 617, 255, 267], 1], [[593, 603, 242, 254], 1], [[567, 577, 237, 249], 1], [[565, 573, 226, 235], 1], [[701, 711, 267, 280], 1], [[668, 679, 262, 274], 1], [[651, 661, 250, 263], 1], [[623, 634, 245, 258], 1], [[737, 749, 271, 286], 1], [[712, 724, 258, 271], 1], [[680, 690, 256, 267], 1], [[731, 741, 249, 262], 1], [[702, 712, 245, 258], 1], [[667, 678, 241, 254], 1], [[643, 653, 237, 249], 1], [[616, 625, 233, 244], 1], [[591, 600, 232, 240], 1], [[877, 892, 349, 368], 1], [[967, 981, 305, 323], 1], [[776, 789, 277, 292], 1], [[753, 766, 264, 280], 1], [[766, 778, 252, 267], 1], [[795, 807, 268, 283], 1], [[805, 815, 260, 275], 1], [[836, 848, 270, 286], 1], [[846, 858, 262, 279], 1], [[890, 902, 267, 282], 1], [[988, 998, 222, 232], 1], [[602, 608, 198, 205], 1], [[588, 595, 197, 205], 1], [[572, 579, 190, 200], 1], [[211, 216, 147, 153], 1], [[201, 205, 147, 153], 1], [[192, 198, 145, 151], 1], [[964, 969, 184, 192], 1], [[949, 955, 191, 199], 1], [[928, 933, 189, 197], 1], [[904, 909, 191, 198], 1], [[887, 894, 183, 190], 1], [[876, 882, 199, 204], 1], [[864, 870, 179, 186], 1], [[876, 881, 181, 188], 1], [[894, 899, 177, 185], 1], [[910, 913, 177, 183], 1], [[932, 938, 179, 185], 1], [[928, 933, 174, 181], 1], [[961, 967, 168, 174], 1], [[951, 956, 165, 170], 1], [[883, 889, 166, 173], 1], [[907, 912, 168, 176], 1], [[895, 900, 159, 166], 1], [[927, 932, 163, 169], 1], [[919, 924, 169, 177], 1], [[953, 961, 179, 186], 1], [[938, 942, 165, 171], 1], [[856, 861, 173, 180], 1], [[737, 744, 169, 177], 1], [[761, 766, 181, 186], 1], [[796, 800, 171, 177], 1], [[791, 795, 169, 174], 1], [[780, 786, 171, 177], 1], [[774, 779, 162, 168], 1], [[754, 760, 168, 174], 1], [[762, 766, 163, 169], 1], [[810, 814, 161, 168], 1], [[804, 810, 161, 167], 1], [[754, 757, 157, 164], 1], [[724, 730, 164, 170], 1], [[732, 736, 163, 168], 1], [[710, 715, 169, 174], 1], [[705, 710, 169, 175], 1], [[694, 700, 163, 168], 1], [[663, 667, 165, 171], 1], [[680, 685, 167, 172], 1], [[864, 869, 155, 162], 1], [[930, 935, 127, 133], 1], [[817, 822, 152, 157], 1], [[824, 827, 162, 167], 1], [[824, 829, 169, 177], 1], [[889, 893, 150, 155], 1], [[901, 906, 152, 157], 1], [[879, 884, 150, 155], 1], [[833, 838, 160, 166], 1], [[868, 873, 170, 175], 1], [[831, 837, 176, 182], 1], [[957, 962, 136, 141], 1], [[977, 982, 143, 150], 1], [[968, 974, 175, 184], 1], [[986, 991, 154, 160], 1], [[979, 984, 154, 160], 1], [[1003, 1010, 178, 185], 1], [[1000, 1005, 193, 201], 1], [[987, 992, 192, 199], 1], [[981, 986, 185, 192], 1], [[994, 998, 142, 150], 1], [[952, 955, 135, 140], 1], [[946, 951, 136, 140], 1], [[870, 875, 148, 152], 1], [[918, 922, 149, 155], 1], [[972, 978, 185, 191], 1], [[782, 787, 158, 164], 1], [[715, 720, 160, 165], 1], [[653, 656, 167, 172], 1], [[940, 944, 137, 141], 1], [[917, 920, 160, 166], 1], [[828, 834, 160, 168], 1], [[852, 858, 155, 162], 1], [[1016, 1021, 136, 141], 1], [[1018, 1024, 186, 195], 1], [[889, 894, 176, 182], 1], [[798, 803, 154, 161], 1], [[732, 736, 175, 181], 1], [[8, 15, 150, 157], 1], [[26, 32, 175, 181], 1], [[66, 72, 162, 169], 1], [[136, 140, 50, 56], 1]], '39--Ice_Skating/39_Ice_Skating_Ice_Skating_39_301.jpg': ['WIDER_train/images/39--Ice_Skating/39_Ice_Skating_Ice_Skating_39_301.jpg', 'WIDER_train/images/39--Ice_Skating/39_Ice_Skating_Ice_Skating_39_301.jpg', [300, 300], [[165, 204, 178, 232], 1], [[220, 254, 194, 239], 1], [[354, 384, 214, 254], 1], [[441, 474, 200, 245], 1], [[534, 567, 151, 199], 1], [[657, 698, 173, 221], 1], [[771, 810, 202, 245], 1]], '2--Demonstration/2_Demonstration_Political_Rally_2_494.jpg': ['WIDER_train/images/2--Demonstration/2_Demonstration_Political_Rally_2_494.jpg', 'WIDER_train/images/2--Demonstration/2_Demonstration_Political_Rally_2_494.jpg', [300, 300], [[50, 256, 346, 648], 1], [[224, 308, 508, 612], 1], [[502, 600, 76, 216], 1], [[792, 876, 506, 630], 1], [[966, 1024, 590, 683], 1]], '52--Photographers/52_Photographers_photographertakingphoto_52_104.jpg': ['WIDER_train/images/52--Photographers/52_Photographers_photographertakingphoto_52_104.jpg', 'WIDER_train/images/52--Photographers/52_Photographers_photographertakingphoto_52_104.jpg', [300, 300], [[638, 902, 82, 558], 1]], '11--Meeting/11_Meeting_Meeting_11_Meeting_Meeting_11_317.jpg': ['WIDER_train/images/11--Meeting/11_Meeting_Meeting_11_Meeting_Meeting_11_317.jpg', 'WIDER_train/images/11--Meeting/11_Meeting_Meeting_11_Meeting_Meeting_11_317.jpg', [300, 300], [[877, 992, 66, 261], 1], [[809, 857, 166, 221], 1], [[597, 638, 118, 176], 1], [[520, 573, 265, 327], 1], [[350, 406, 225, 307], 1], [[363, 407, 182, 233], 1], [[188, 248, 62, 144], 1], [[104, 203, 154, 291], 1]], '31--Waiter_Waitress/31_Waiter_Waitress_Waiter_Waitress_31_650.jpg': ['WIDER_train/images/31--Waiter_Waitress/31_Waiter_Waitress_Waiter_Waitress_31_650.jpg', 'WIDER_train/images/31--Waiter_Waitress/31_Waiter_Waitress_Waiter_Waitress_31_650.jpg', [300, 300], [[535, 733, 584, 842], 1], [[324, 442, 138, 267], 1], [[777, 846, 262, 346], 1], [[218, 305, 349, 465], 1]], '5--Car_Accident/5_Car_Accident_Accident_5_636.jpg': ['WIDER_train/images/5--Car_Accident/5_Car_Accident_Accident_5_636.jpg', 'WIDER_train/images/5--Car_Accident/5_Car_Accident_Accident_5_636.jpg', [300, 300], [[483, 507, 121, 136], 1], [[296, 310, 415, 432], 1], [[354, 365, 395, 408], 1], [[409, 423, 383, 400], 1], [[455, 466, 369, 385], 1], [[500, 512, 361, 376], 1], [[547, 557, 392, 406], 1], [[555, 564, 388, 400], 1], [[577, 588, 381, 393], 1], [[601, 612, 364, 377], 1], [[650, 662, 373, 386], 1], [[694, 704, 358, 371], 1], [[706, 713, 366, 375], 1], [[727, 736, 362, 374], 1], [[752, 761, 372, 386], 1], [[772, 780, 362, 374], 1], [[803, 811, 368, 380], 1], [[833, 841, 381, 391], 1], [[860, 867, 366, 376], 1], [[897, 909, 311, 326], 1], [[158, 169, 430, 446], 1], [[614, 622, 375, 384], 1], [[221, 232, 421, 438], 1], [[111, 122, 458, 474], 1]], '34--Baseball/34_Baseball_Baseball_34_111.jpg': ['WIDER_train/images/34--Baseball/34_Baseball_Baseball_34_111.jpg', 'WIDER_train/images/34--Baseball/34_Baseball_Baseball_34_111.jpg', [300, 300], [[195, 237, 197, 249], 1]], '29--Students_Schoolkids/29_Students_Schoolkids_Students_Schoolkids_29_833.jpg': ['WIDER_train/images/29--Students_Schoolkids/29_Students_Schoolkids_Students_Schoolkids_29_833.jpg', 'WIDER_train/images/29--Students_Schoolkids/29_Students_Schoolkids_Students_Schoolkids_29_833.jpg', [300, 300], [[786, 950, 230, 472], 1], [[198, 376, 224, 550], 1]], '39--Ice_Skating/39_Ice_Skating_Ice_Skating_39_638.jpg': ['WIDER_train/images/39--Ice_Skating/39_Ice_Skating_Ice_Skating_39_638.jpg', 'WIDER_train/images/39--Ice_Skating/39_Ice_Skating_Ice_Skating_39_638.jpg', [300, 300], [[66, 80, 304, 322], 1], [[199, 210, 325, 343], 1], [[433, 452, 312, 330], 1], [[479, 488, 385, 405], 1], [[735, 742, 302, 311], 1]], '35--Basketball/35_Basketball_Basketball_35_898.jpg': ['WIDER_train/images/35--Basketball/35_Basketball_Basketball_35_898.jpg', 'WIDER_train/images/35--Basketball/35_Basketball_Basketball_35_898.jpg', [300, 300], [[494, 535, 183, 236], 1]], '56--Voter/56_Voter_peoplevoting_56_722.jpg': ['WIDER_train/images/56--Voter/56_Voter_peoplevoting_56_722.jpg', 'WIDER_train/images/56--Voter/56_Voter_peoplevoting_56_722.jpg', [300, 300], [[788, 894, 300, 456], 1], [[935, 969, 330, 430], 1], [[668, 697, 247, 285], 1], [[626, 644, 384, 434], 1]], '24--Soldier_Firing/24_Soldier_Firing_Soldier_Firing_24_851.jpg': ['WIDER_train/images/24--Soldier_Firing/24_Soldier_Firing_Soldier_Firing_24_851.jpg', 'WIDER_train/images/24--Soldier_Firing/24_Soldier_Firing_Soldier_Firing_24_851.jpg', [300, 300], [[498, 569, 225, 305], 1], [[329, 381, 195, 260], 1], [[951, 1024, 84, 235], 1]], '41--Swimming/41_Swimming_Swimmer_41_321.jpg': ['WIDER_train/images/41--Swimming/41_Swimming_Swimmer_41_321.jpg', 'WIDER_train/images/41--Swimming/41_Swimming_Swimmer_41_321.jpg', [300, 300], [[410, 624, 198, 452], 1]], '9--Press_Conference/9_Press_Conference_Press_Conference_9_454.jpg': ['WIDER_train/images/9--Press_Conference/9_Press_Conference_Press_Conference_9_454.jpg', 'WIDER_train/images/9--Press_Conference/9_Press_Conference_Press_Conference_9_454.jpg', [300, 300], [[344, 637, 244, 661], 1]], '21--Festival/21_Festival_Festival_21_105.jpg': ['WIDER_train/images/21--Festival/21_Festival_Festival_21_105.jpg', 'WIDER_train/images/21--Festival/21_Festival_Festival_21_105.jpg', [300, 300], [[88, 127, 335, 392], 1], [[237, 274, 322, 378], 1], [[366, 406, 331, 385], 1], [[450, 481, 321, 365], 1], [[510, 548, 327, 382], 1], [[619, 659, 268, 326], 1], [[698, 722, 307, 339], 1], [[736, 781, 317, 369], 1], [[811, 846, 317, 365], 1], [[891, 918, 317, 358], 1], [[964, 980, 304, 337], 1], [[985, 1021, 285, 332], 1], [[443, 470, 147, 180], 1], [[29, 41, 322, 339], 1]], '41--Swimming/41_Swimming_Swimmer_41_621.jpg': ['WIDER_train/images/41--Swimming/41_Swimming_Swimmer_41_621.jpg', 'WIDER_train/images/41--Swimming/41_Swimming_Swimmer_41_621.jpg', [300, 300], [[300, 627, 6, 324], 1]], '1--Handshaking/1_Handshaking_Handshaking_1_238.jpg': ['WIDER_train/images/1--Handshaking/1_Handshaking_Handshaking_1_238.jpg', 'WIDER_train/images/1--Handshaking/1_Handshaking_Handshaking_1_238.jpg', [300, 300], [[140, 312, 32, 310], 1], [[714, 856, 94, 348], 1]], '50--Celebration_Or_Party/50_Celebration_Or_Party_houseparty_50_552.jpg': ['WIDER_train/images/50--Celebration_Or_Party/50_Celebration_Or_Party_houseparty_50_552.jpg', 'WIDER_train/images/50--Celebration_Or_Party/50_Celebration_Or_Party_houseparty_50_552.jpg', [300, 300], [[44, 101, 383, 428], 1], [[221, 290, 104, 203], 1], [[424, 479, 62, 141], 1], [[854, 878, 23, 62], 1], [[568, 575, 112, 120], 1], [[580, 585, 114, 119], 1], [[564, 570, 129, 136], 1]], '37--Soccer/37_Soccer_Soccer_37_595.jpg': ['WIDER_train/images/37--Soccer/37_Soccer_Soccer_37_595.jpg', 'WIDER_train/images/37--Soccer/37_Soccer_Soccer_37_595.jpg', [300, 300], [[501, 557, 108, 178], 1], [[406, 456, 101, 177], 1], [[467, 472, 146, 153], 1], [[256, 266, 161, 172], 1], [[604, 608, 142, 147], 1], [[825, 834, 133, 145], 1], [[773, 776, 133, 138], 1]], '27--Spa/27_Spa_Spa_27_425.jpg': ['WIDER_train/images/27--Spa/27_Spa_Spa_27_425.jpg', 'WIDER_train/images/27--Spa/27_Spa_Spa_27_425.jpg', [300, 300], [[158, 384, 206, 332], 1]], '35--Basketball/35_Basketball_playingbasketball_35_391.jpg': ['WIDER_train/images/35--Basketball/35_Basketball_playingbasketball_35_391.jpg', 'WIDER_train/images/35--Basketball/35_Basketball_playingbasketball_35_391.jpg', [300, 300], [[730, 773, 12, 67], 1], [[410, 476, 123, 173], 1], [[410, 465, 301, 334], 1]], '7--Cheering/7_Cheering_Cheering_7_132.jpg': ['WIDER_train/images/7--Cheering/7_Cheering_Cheering_7_132.jpg', 'WIDER_train/images/7--Cheering/7_Cheering_Cheering_7_132.jpg', [300, 300], [[89, 134, 99, 150], 1], [[264, 308, 128, 184], 1], [[35, 96, 278, 342], 1], [[193, 255, 290, 365], 1], [[297, 337, 377, 429], 1], [[364, 413, 403, 472], 1], [[488, 537, 396, 459], 1], [[549, 594, 382, 437], 1], [[850, 902, 104, 149], 1], [[846, 910, 320, 407], 1], [[798, 835, 360, 417], 1], [[737, 785, 356, 425], 1], [[641, 692, 340, 403], 1], [[35, 93, 278, 352], 1]], '35--Basketball/35_Basketball_playingbasketball_35_76.jpg': ['WIDER_train/images/35--Basketball/35_Basketball_playingbasketball_35_76.jpg', 'WIDER_train/images/35--Basketball/35_Basketball_playingbasketball_35_76.jpg', [300, 300], [[8, 24, 136, 154], 1], [[69, 87, 119, 137], 1], [[309, 321, 69, 81], 1], [[467, 481, 59, 80], 1], [[161, 182, 47, 73], 1], [[121, 132, 70, 81], 1], [[87, 96, 79, 91], 1], [[813, 826, 46, 62], 1], [[581, 597, 92, 115], 1], [[819, 843, 281, 295], 1], [[649, 669, 18, 41], 1], [[316, 337, 302, 317], 1], [[41, 72, 456, 492], 1], [[530, 561, 445, 487], 1], [[970, 987, 38, 60], 1], [[330, 342, 38, 54], 1], [[144, 166, 148, 172], 1], [[106, 126, 167, 183], 1], [[625, 640, 48, 63], 1], [[590, 603, 56, 70], 1], [[607, 629, 139, 157], 1], [[834, 847, 16, 30], 1]], '44--Aerobics/44_Aerobics_Aerobics_44_822.jpg': ['WIDER_train/images/44--Aerobics/44_Aerobics_Aerobics_44_822.jpg', 'WIDER_train/images/44--Aerobics/44_Aerobics_Aerobics_44_822.jpg', [300, 300], [[604, 644, 383, 437], 1], [[756, 776, 256, 297], 1], [[694, 704, 277, 292], 1], [[645, 656, 264, 279], 1], [[670, 681, 278, 294], 1], [[877, 888, 267, 283], 1], [[866, 877, 272, 284], 1], [[885, 896, 280, 300], 1], [[514, 527, 255, 272], 1], [[478, 488, 261, 275], 1], [[428, 441, 272, 288], 1], [[441, 449, 273, 286], 1], [[339, 354, 284, 306], 1], [[243, 258, 251, 273], 1], [[219, 231, 245, 265], 1], [[145, 157, 269, 287], 1], [[280, 293, 269, 284], 1], [[145, 155, 244, 262], 1], [[107, 117, 207, 227], 1], [[55, 66, 228, 247], 1], [[104, 117, 250, 279], 1]]}\n"
          ],
          "name": "stdout"
        }
      ]
    },
    {
      "cell_type": "code",
      "metadata": {
        "id": "qmRApdFhUeQP",
        "colab_type": "code",
        "colab": {
          "base_uri": "https://localhost:8080/",
          "height": 54
        },
        "outputId": "d0946586-3747-4dc9-eaf3-8850263128de"
      },
      "source": [
        "print(y)"
      ],
      "execution_count": 49,
      "outputs": [
        {
          "output_type": "stream",
          "text": [
            "{'4--Dancing/4_Dancing_Dancing_4_514.jpg': ['WIDER_val/images/4--Dancing/4_Dancing_Dancing_4_514.jpg', 'WIDER_val/images/4--Dancing/4_Dancing_Dancing_4_514.jpg', [300, 300], [[384, 448, 108, 220], 1], [[514, 600, 24, 148], 1]], '57--Angler/57_Angler_peoplefishing_57_153.jpg': ['WIDER_val/images/57--Angler/57_Angler_peoplefishing_57_153.jpg', 'WIDER_val/images/57--Angler/57_Angler_peoplefishing_57_153.jpg', [300, 300], [[206, 354, 246, 424], 1]], '22--Picnic/22_Picnic_Picnic_22_561.jpg': ['WIDER_val/images/22--Picnic/22_Picnic_Picnic_22_561.jpg', 'WIDER_val/images/22--Picnic/22_Picnic_Picnic_22_561.jpg', [300, 300], [[392, 494, 504, 629], 1], [[209, 324, 459, 632], 1]], '47--Matador_Bullfighter/47_Matador_Bullfighter_Matador_Bullfighter_47_617.jpg': ['WIDER_val/images/47--Matador_Bullfighter/47_Matador_Bullfighter_Matador_Bullfighter_47_617.jpg', 'WIDER_val/images/47--Matador_Bullfighter/47_Matador_Bullfighter_Matador_Bullfighter_47_617.jpg', [300, 300], [[171, 711, 11, 695], 1]], '18--Concerts/18_Concerts_Concerts_18_102.jpg': ['WIDER_val/images/18--Concerts/18_Concerts_Concerts_18_102.jpg', 'WIDER_val/images/18--Concerts/18_Concerts_Concerts_18_102.jpg', [300, 300], [[504, 619, 148, 329], 1]], '2--Demonstration/2_Demonstration_Political_Rally_2_219.jpg': ['WIDER_val/images/2--Demonstration/2_Demonstration_Political_Rally_2_219.jpg', 'WIDER_val/images/2--Demonstration/2_Demonstration_Political_Rally_2_219.jpg', [300, 300], [[319, 700, 170, 727], 1]], '12--Group/12_Group_Large_Group_12_Group_Large_Group_12_448.jpg': ['WIDER_val/images/12--Group/12_Group_Large_Group_12_Group_Large_Group_12_448.jpg', 'WIDER_val/images/12--Group/12_Group_Large_Group_12_Group_Large_Group_12_448.jpg', [300, 300], [[298, 558, 152, 396], 1], [[142, 406, 422, 656], 1], [[590, 778, 110, 348], 1], [[502, 696, 408, 678], 1], [[728, 938, 272, 504], 1]], '39--Ice_Skating/39_Ice_Skating_Ice_Skating_39_270.jpg': ['WIDER_val/images/39--Ice_Skating/39_Ice_Skating_Ice_Skating_39_270.jpg', 'WIDER_val/images/39--Ice_Skating/39_Ice_Skating_Ice_Skating_39_270.jpg', [300, 300], [[560, 674, 539, 656], 1]], '30--Surgeons/30_Surgeons_Surgeons_30_554.jpg': ['WIDER_val/images/30--Surgeons/30_Surgeons_Surgeons_30_554.jpg', 'WIDER_val/images/30--Surgeons/30_Surgeons_Surgeons_30_554.jpg', [300, 300], [[766, 810, 214, 270], 1], [[847, 900, 226, 290], 1], [[477, 524, 219, 282], 1], [[336, 400, 252, 318], 1], [[202, 272, 224, 322], 1], [[643, 710, 335, 430], 1]], '58--Hockey/58_Hockey_icehockey_puck_58_285.jpg': ['WIDER_val/images/58--Hockey/58_Hockey_icehockey_puck_58_285.jpg', 'WIDER_val/images/58--Hockey/58_Hockey_icehockey_puck_58_285.jpg', [300, 300], [[960, 1005, 275, 315], 1], [[784, 798, 83, 100], 1], [[568, 602, 169, 218], 1], [[567, 588, 93, 119], 1], [[431, 459, 135, 168], 1], [[288, 321, 153, 186], 1], [[318, 326, 94, 103], 1], [[41, 63, 135, 154], 1], [[306, 331, 141, 175], 1]], '24--Soldier_Firing/24_Soldier_Firing_Soldier_Firing_24_281.jpg': ['WIDER_val/images/24--Soldier_Firing/24_Soldier_Firing_Soldier_Firing_24_281.jpg', 'WIDER_val/images/24--Soldier_Firing/24_Soldier_Firing_Soldier_Firing_24_281.jpg', [300, 300], [[387, 400, 300, 315], 1], [[185, 198, 314, 329], 1], [[714, 729, 413, 431], 1]], '17--Ceremony/17_Ceremony_Ceremony_17_1048.jpg': ['WIDER_val/images/17--Ceremony/17_Ceremony_Ceremony_17_1048.jpg', 'WIDER_val/images/17--Ceremony/17_Ceremony_Ceremony_17_1048.jpg', [300, 300], [[25, 64, 421, 467], 1], [[129, 163, 400, 440], 1], [[334, 427, 139, 275], 1], [[467, 575, 95, 242], 1]], '10--People_Marching/10_People_Marching_People_Marching_10_People_Marching_People_Marching_10_People_Marching_People_Marching_10_674.jpg': ['WIDER_val/images/10--People_Marching/10_People_Marching_People_Marching_10_People_Marching_People_Marching_10_People_Marching_People_Marching_10_674.jpg', 'WIDER_val/images/10--People_Marching/10_People_Marching_People_Marching_10_People_Marching_People_Marching_10_People_Marching_People_Marching_10_674.jpg', [300, 300], [[980, 989, 317, 329], 1], [[963, 974, 315, 329], 1], [[918, 926, 309, 319], 1], [[895, 903, 308, 320], 1], [[866, 877, 311, 322], 1], [[868, 875, 289, 298], 1], [[843, 852, 286, 299], 1], [[973, 980, 374, 383], 1], [[828, 843, 398, 415], 1], [[801, 808, 333, 342], 1], [[795, 805, 316, 328], 1], [[778, 784, 300, 308], 1], [[774, 781, 289, 297], 1], [[786, 795, 293, 307], 1], [[695, 701, 270, 279], 1], [[672, 678, 274, 284], 1], [[725, 737, 356, 371], 1], [[748, 761, 366, 381], 1], [[681, 692, 382, 397], 1], [[938, 947, 379, 391], 1], [[640, 653, 341, 356], 1], [[621, 634, 364, 380], 1], [[577, 587, 365, 377], 1], [[599, 609, 337, 350], 1], [[514, 523, 358, 369], 1], [[528, 537, 338, 352], 1], [[561, 567, 282, 291], 1], [[593, 599, 275, 283], 1], [[516, 523, 254, 263], 1], [[634, 642, 271, 280], 1], [[465, 474, 344, 357], 1], [[451, 462, 330, 342], 1], [[508, 514, 289, 298], 1], [[488, 500, 305, 319], 1], [[406, 419, 376, 393], 1], [[392, 403, 341, 354], 1], [[328, 339, 331, 345], 1], [[261, 269, 302, 315], 1], [[417, 422, 259, 267], 1], [[399, 407, 258, 267], 1], [[384, 391, 260, 268], 1], [[318, 324, 268, 276], 1], [[297, 303, 263, 272], 1], [[208, 216, 313, 325], 1], [[233, 242, 272, 284], 1], [[99, 110, 295, 306], 1], [[71, 79, 286, 295], 1], [[9, 18, 280, 293], 1], [[167, 172, 230, 238], 1], [[15, 28, 369, 385], 1], [[174, 182, 399, 413], 1], [[197, 209, 348, 361], 1], [[274, 292, 458, 484], 1], [[142, 154, 408, 425], 1], [[880, 889, 343, 354], 1], [[821, 830, 275, 287], 1], [[778, 784, 339, 347], 1], [[734, 741, 286, 297], 1]], '4--Dancing/4_Dancing_Dancing_4_97.jpg': ['WIDER_val/images/4--Dancing/4_Dancing_Dancing_4_97.jpg', 'WIDER_val/images/4--Dancing/4_Dancing_Dancing_4_97.jpg', [300, 300], [[245, 264, 306, 336], 1], [[298, 320, 280, 314], 1], [[380, 398, 326, 354], 1], [[342, 358, 326, 348], 1], [[535, 552, 320, 347], 1], [[475, 492, 348, 369], 1]], '47--Matador_Bullfighter/47_Matador_Bullfighter_matadorbullfighting_47_731.jpg': ['WIDER_val/images/47--Matador_Bullfighter/47_Matador_Bullfighter_matadorbullfighting_47_731.jpg', 'WIDER_val/images/47--Matador_Bullfighter/47_Matador_Bullfighter_matadorbullfighting_47_731.jpg', [300, 300], [[27, 36, 26, 38], 1], [[59, 68, 22, 35], 1], [[44, 53, 6, 21], 1], [[24, 33, 1, 13], 1], [[9, 17, 13, 23], 1], [[0, 8, 7, 23], 1], [[61, 71, 8, 17], 1], [[84, 94, 23, 34], 1], [[61, 72, 49, 60], 1], [[70, 82, 64, 78], 1], [[91, 101, 0, 12], 1], [[82, 89, 7, 15], 1], [[11, 19, 71, 83], 1], [[0, 6, 80, 92], 1], [[15, 24, 82, 95], 1], [[29, 39, 78, 88], 1], [[52, 63, 83, 97], 1], [[67, 78, 77, 91], 1], [[83, 94, 82, 94], 1], [[68, 79, 96, 107], 1], [[34, 44, 97, 110], 1], [[18, 28, 97, 108], 1], [[119, 132, 215, 228], 1], [[82, 94, 212, 225], 1], [[30, 43, 209, 228], 1], [[14, 25, 168, 183], 1], [[57, 67, 172, 186], 1], [[28, 39, 154, 167], 1], [[19, 31, 135, 149], 1], [[1, 15, 149, 165], 1], [[10, 21, 117, 128], 1], [[40, 50, 127, 140], 1], [[64, 75, 116, 130], 1], [[84, 97, 121, 138], 1], [[81, 92, 144, 159], 1], [[73, 85, 150, 163], 1], [[85, 95, 99, 113], 1], [[100, 109, 90, 101], 1], [[106, 116, 79, 93], 1], [[117, 124, 81, 92], 1], [[143, 152, 77, 90], 1], [[158, 169, 79, 95], 1], [[126, 136, 103, 116], 1], [[109, 119, 106, 121], 1], [[103, 114, 122, 134], 1], [[105, 116, 137, 153], 1], [[123, 134, 145, 158], 1], [[115, 125, 162, 180], 1], [[165, 175, 159, 172], 1], [[157, 167, 143, 156], 1], [[144, 155, 134, 149], 1], [[140, 150, 115, 129], 1], [[149, 158, 110, 122], 1], [[154, 164, 98, 110], 1], [[169, 179, 101, 115], 1], [[163, 175, 124, 137], 1], [[113, 124, 10, 23], 1], [[101, 112, 4, 18], 1], [[130, 138, 7, 18], 1], [[141, 151, 11, 23], 1], [[165, 174, 7, 20], 1], [[147, 160, 0, 13], 1], [[180, 189, 3, 14], 1], [[191, 202, 9, 21], 1], [[204, 213, 8, 18], 1], [[184, 192, 71, 81], 1], [[170, 179, 86, 97], 1], [[170, 181, 74, 85], 1], [[181, 193, 89, 105], 1], [[204, 213, 80, 94], 1], [[211, 220, 72, 84], 1], [[210, 219, 100, 116], 1], [[185, 194, 114, 128], 1], [[217, 225, 2, 12], 1], [[231, 240, 7, 16], 1], [[221, 231, 0, 8], 1], [[250, 260, 7, 16], 1], [[243, 251, 6, 16], 1], [[261, 270, 5, 17], 1], [[274, 283, 10, 21], 1], [[288, 297, 11, 23], 1], [[303, 312, 2, 15], 1], [[311, 320, 19, 32], 1], [[312, 319, 1, 12], 1], [[324, 333, 4, 17], 1], [[340, 350, 6, 20], 1], [[363, 372, 14, 25], 1], [[373, 381, 12, 23], 1], [[377, 386, 1, 11], 1], [[247, 256, 55, 67], 1], [[226, 234, 45, 54], 1], [[263, 272, 69, 81], 1], [[250, 260, 83, 96], 1], [[225, 236, 69, 84], 1], [[226, 237, 88, 103], 1], [[265, 275, 102, 115], 1], [[231, 242, 102, 117], 1], [[226, 236, 117, 129], 1], [[205, 216, 119, 133], 1], [[196, 207, 161, 174], 1], [[190, 200, 220, 231], 1], [[190, 202, 175, 190], 1], [[236, 246, 156, 169], 1], [[213, 221, 157, 163], 1], [[190, 201, 140, 152], 1], [[178, 189, 129, 143], 1], [[232, 242, 138, 152], 1], [[247, 258, 130, 141], 1], [[262, 274, 134, 148], 1], [[104, 114, 177, 190], 1], [[423, 443, 169, 193], 1], [[469, 481, 179, 192], 1], [[461, 473, 147, 162], 1], [[449, 462, 141, 155], 1], [[402, 415, 135, 147], 1], [[439, 450, 131, 141], 1], [[389, 398, 150, 160], 1], [[362, 373, 166, 178], 1], [[413, 423, 156, 168], 1], [[370, 381, 156, 169], 1], [[360, 370, 116, 131], 1], [[279, 290, 143, 160], 1], [[301, 313, 134, 150], 1], [[296, 304, 121, 130], 1], [[282, 291, 107, 116], 1], [[309, 317, 117, 127], 1], [[338, 348, 119, 132], 1], [[348, 358, 109, 122], 1], [[345, 353, 99, 108], 1], [[305, 315, 91, 107], 1], [[323, 333, 86, 100], 1], [[341, 349, 86, 96], 1], [[330, 341, 110, 121], 1], [[307, 317, 80, 93], 1], [[287, 297, 86, 99], 1], [[272, 280, 57, 68], 1], [[227, 234, 59, 67], 1], [[321, 329, 74, 84], 1], [[255, 263, 118, 125], 1], [[404, 415, 112, 127], 1], [[377, 385, 99, 110], 1], [[390, 400, 89, 102], 1], [[378, 387, 83, 93], 1], [[353, 363, 76, 87], 1], [[365, 374, 73, 82], 1], [[396, 404, 61, 75], 1], [[405, 414, 78, 88], 1], [[401, 410, 89, 98], 1], [[406, 418, 99, 111], 1], [[417, 425, 101, 114], 1], [[429, 440, 104, 118], 1], [[428, 436, 86, 97], 1], [[415, 423, 77, 84], 1], [[444, 454, 66, 78], 1], [[435, 444, 58, 72], 1], [[446, 453, 89, 99], 1], [[463, 470, 97, 108], 1], [[465, 474, 82, 94], 1], [[453, 464, 118, 132], 1], [[453, 463, 106, 117], 1], [[477, 487, 87, 98], 1], [[476, 486, 69, 81], 1], [[387, 395, 34, 44], 1], [[403, 413, 36, 46], 1], [[390, 399, 4, 14], 1], [[402, 412, 1, 11], 1], [[419, 430, 4, 16], 1], [[435, 444, 3, 15], 1], [[447, 456, 3, 18], 1], [[463, 471, 5, 16], 1], [[454, 461, 5, 15], 1], [[472, 479, 1, 11], 1], [[483, 490, 6, 16], 1], [[492, 501, 9, 20], 1], [[483, 492, 0, 6], 1], [[501, 510, 4, 15], 1], [[512, 523, 8, 21], 1], [[481, 491, 47, 58], 1], [[494, 504, 64, 76], 1], [[500, 510, 43, 52], 1], [[507, 515, 55, 67], 1], [[514, 524, 71, 85], 1], [[500, 512, 90, 103], 1], [[494, 506, 100, 111], 1], [[484, 494, 113, 123], 1], [[478, 488, 97, 108], 1], [[495, 505, 118, 129], 1], [[502, 515, 135, 154], 1], [[521, 532, 122, 140], 1], [[526, 535, 154, 166], 1], [[546, 556, 113, 127], 1], [[535, 546, 134, 146], 1], [[544, 552, 77, 88], 1], [[538, 547, 57, 68], 1], [[544, 552, 65, 75], 1], [[524, 535, 62, 76], 1], [[534, 546, 4, 18], 1], [[555, 564, 13, 26], 1], [[565, 574, 21, 32], 1], [[581, 588, 7, 16], 1], [[584, 593, 0, 11], 1], [[626, 634, 9, 18], 1], [[617, 625, 23, 34], 1], [[632, 640, 22, 32], 1], [[642, 651, 29, 39], 1], [[612, 620, 48, 57], 1], [[547, 554, 47, 57], 1], [[569, 580, 59, 73], 1], [[556, 565, 66, 76], 1], [[584, 591, 53, 61], 1], [[599, 608, 60, 70], 1], [[638, 648, 41, 51], 1], [[653, 663, 45, 58], 1], [[649, 658, 5, 15], 1], [[637, 647, 52, 66], 1], [[626, 636, 53, 65], 1], [[630, 642, 70, 84], 1], [[583, 591, 69, 79], 1], [[576, 585, 79, 92], 1], [[587, 597, 84, 98], 1], [[558, 568, 80, 97], 1], [[566, 574, 105, 117], 1], [[595, 604, 103, 113], 1], [[609, 619, 93, 104], 1], [[622, 633, 97, 108], 1], [[643, 652, 93, 105], 1], [[633, 643, 87, 96], 1], [[624, 636, 109, 120], 1], [[655, 663, 64, 75], 1], [[578, 587, 24, 32], 1], [[640, 653, 166, 182], 1], [[556, 569, 177, 192], 1], [[565, 575, 125, 135], 1], [[573, 599, 139, 167], 1], [[602, 613, 142, 156], 1], [[613, 623, 151, 161], 1], [[603, 614, 117, 131], 1], [[623, 633, 131, 145], 1], [[645, 656, 120, 132], 1], [[671, 680, 111, 122], 1], [[679, 691, 115, 127], 1], [[666, 676, 90, 104], 1], [[679, 689, 90, 101], 1], [[656, 665, 92, 104], 1], [[692, 700, 90, 102], 1], [[711, 723, 111, 125], 1], [[644, 656, 151, 165], 1], [[560, 567, 209, 217], 1], [[530, 539, 183, 194], 1], [[545, 558, 216, 232], 1], [[539, 549, 140, 154], 1], [[796, 806, 190, 203], 1], [[769, 781, 183, 195], 1], [[725, 739, 171, 187], 1], [[746, 756, 164, 177], 1], [[719, 731, 133, 148], 1], [[765, 775, 124, 140], 1], [[780, 791, 139, 149], 1], [[759, 770, 145, 156], 1], [[761, 771, 166, 177], 1], [[726, 736, 104, 114], 1], [[705, 713, 92, 101], 1], [[714, 722, 98, 108], 1], [[766, 774, 100, 111], 1], [[761, 771, 114, 128], 1], [[751, 759, 118, 131], 1], [[800, 813, 115, 132], 1], [[804, 814, 93, 106], 1], [[756, 767, 89, 102], 1], [[747, 756, 87, 100], 1], [[713, 724, 77, 89], 1], [[703, 713, 78, 89], 1], [[685, 696, 61, 75], 1], [[691, 699, 71, 81], 1], [[659, 666, 77, 89], 1], [[665, 673, 65, 75], 1], [[665, 675, 44, 53], 1], [[662, 671, 25, 35], 1], [[679, 688, 12, 24], 1], [[689, 698, 2, 13], 1], [[693, 703, 25, 37], 1], [[693, 702, 37, 48], 1], [[702, 710, 51, 60], 1], [[711, 720, 41, 52], 1], [[719, 727, 49, 60], 1], [[717, 727, 18, 30], 1], [[701, 709, 14, 25], 1], [[712, 721, 4, 14], 1], [[723, 733, 2, 13], 1], [[732, 743, 13, 25], 1], [[723, 732, 14, 25], 1], [[746, 756, 10, 20], 1], [[679, 689, 57, 70], 1], [[716, 726, 64, 76], 1], [[720, 732, 61, 75], 1], [[725, 734, 73, 85], 1], [[741, 751, 59, 70], 1], [[732, 742, 47, 65], 1], [[734, 745, 25, 40], 1], [[743, 754, 33, 46], 1], [[749, 761, 46, 59], 1], [[754, 766, 64, 78], 1], [[758, 768, 72, 84], 1], [[748, 757, 82, 92], 1], [[767, 776, 56, 68], 1], [[755, 766, 17, 33], 1], [[767, 776, 28, 43], 1], [[899, 916, 194, 214], 1], [[843, 856, 181, 199], 1], [[818, 830, 157, 172], 1], [[831, 844, 131, 145], 1], [[832, 844, 112, 125], 1], [[881, 892, 128, 143], 1], [[886, 899, 147, 159], 1], [[814, 822, 185, 195], 1], [[852, 860, 160, 170], 1], [[910, 923, 171, 185], 1], [[905, 917, 135, 149], 1], [[871, 882, 110, 127], 1], [[888, 900, 102, 116], 1], [[913, 924, 109, 123], 1], [[868, 879, 92, 105], 1], [[850, 860, 97, 109], 1], [[838, 850, 88, 98], 1], [[906, 917, 87, 100], 1], [[783, 793, 78, 92], 1], [[828, 834, 71, 79], 1], [[816, 826, 79, 92], 1], [[808, 815, 73, 83], 1], [[818, 826, 60, 71], 1], [[831, 841, 53, 66], 1], [[802, 812, 57, 70], 1], [[792, 802, 64, 77], 1], [[778, 786, 67, 77], 1], [[779, 789, 44, 56], 1], [[778, 785, 39, 48], 1], [[786, 794, 31, 42], 1], [[794, 804, 46, 59], 1], [[787, 796, 17, 28], 1], [[776, 785, 12, 22], 1], [[763, 772, 3, 19], 1], [[804, 812, 12, 23], 1], [[802, 811, 3, 13], 1], [[814, 824, 14, 25], 1], [[824, 835, 28, 42], 1], [[819, 830, 39, 51], 1], [[838, 846, 31, 41], 1], [[835, 845, 17, 33], 1], [[829, 837, 9, 18], 1], [[842, 852, 4, 14], 1], [[850, 858, 53, 61], 1], [[857, 866, 59, 71], 1], [[838, 847, 65, 77], 1], [[844, 855, 60, 69], 1], [[862, 869, 79, 87], 1], [[849, 857, 73, 85], 1], [[1002, 1017, 192, 208], 1], [[929, 943, 169, 186], 1], [[973, 985, 138, 150], 1], [[997, 1011, 131, 145], 1], [[947, 961, 114, 128], 1], [[984, 996, 104, 116], 1], [[984, 997, 119, 134], 1], [[1004, 1022, 113, 133], 1], [[932, 944, 201, 215], 1], [[936, 950, 154, 171], 1], [[969, 979, 92, 104], 1], [[980, 988, 94, 107], 1], [[990, 1002, 79, 94], 1], [[985, 995, 67, 79], 1], [[963, 973, 74, 84], 1], [[921, 933, 87, 105], 1], [[945, 955, 80, 95], 1], [[921, 929, 69, 79], 1], [[900, 909, 75, 86], 1], [[870, 879, 63, 73], 1], [[878, 888, 50, 62], 1], [[889, 899, 50, 62], 1], [[906, 917, 59, 70], 1], [[915, 926, 41, 52], 1], [[926, 936, 47, 61], 1], [[944, 954, 50, 63], 1], [[947, 957, 40, 50], 1], [[972, 982, 46, 60], 1], [[977, 987, 37, 47], 1], [[970, 979, 31, 42], 1], [[949, 959, 16, 27], 1], [[976, 985, 11, 19], 1], [[963, 972, 3, 14], 1], [[942, 952, 1, 9], 1], [[911, 919, 13, 24], 1], [[929, 936, 7, 15], 1], [[881, 889, 35, 43], 1], [[862, 871, 17, 27], 1], [[855, 865, 7, 23], 1], [[877, 886, 6, 18], 1], [[889, 899, 11, 21], 1], [[866, 876, 37, 49], 1], [[960, 971, 60, 74], 1], [[946, 956, 62, 77], 1], [[939, 948, 25, 36], 1], [[862, 870, 0, 6], 1], [[889, 899, 0, 8], 1], [[604, 614, 22, 33], 1], [[535, 545, 107, 120], 1], [[830, 839, 197, 209], 1], [[1005, 1016, 6, 20], 1], [[1013, 1024, 86, 98], 1]], '44--Aerobics/44_Aerobics_Aerobics_44_184.jpg': ['WIDER_val/images/44--Aerobics/44_Aerobics_Aerobics_44_184.jpg', 'WIDER_val/images/44--Aerobics/44_Aerobics_Aerobics_44_184.jpg', [300, 300], [[522, 594, 54, 188], 1]], '12--Group/12_Group_Team_Organized_Group_12_Group_Team_Organized_Group_12_101.jpg': ['WIDER_val/images/12--Group/12_Group_Team_Organized_Group_12_Group_Team_Organized_Group_12_101.jpg', 'WIDER_val/images/12--Group/12_Group_Team_Organized_Group_12_Group_Team_Organized_Group_12_101.jpg', [300, 300], [[259, 311, 386, 433], 1], [[910, 930, 509, 539], 1], [[849, 873, 510, 538], 1], [[836, 852, 519, 548], 1], [[791, 814, 523, 549], 1], [[887, 898, 486, 501], 1], [[578, 599, 502, 526], 1], [[606, 631, 513, 549], 1], [[671, 690, 496, 521], 1], [[690, 712, 506, 542], 1], [[763, 779, 509, 535], 1], [[739, 761, 512, 542], 1], [[779, 790, 522, 537], 1], [[282, 325, 1139, 1173], 1]], '35--Basketball/35_Basketball_playingbasketball_35_362.jpg': ['WIDER_val/images/35--Basketball/35_Basketball_playingbasketball_35_362.jpg', 'WIDER_val/images/35--Basketball/35_Basketball_playingbasketball_35_362.jpg', [300, 300], [[622, 640, 375, 395], 1], [[537, 560, 406, 432], 1], [[492, 515, 230, 252], 1], [[705, 718, 465, 479], 1], [[888, 904, 428, 448], 1], [[18, 29, 523, 537], 1], [[46, 56, 523, 536], 1], [[98, 106, 528, 539], 1], [[74, 82, 527, 536], 1], [[117, 123, 528, 537], 1], [[142, 152, 524, 534], 1], [[172, 179, 524, 533], 1], [[149, 155, 506, 515], 1], [[97, 102, 486, 494], 1], [[26, 32, 497, 502], 1], [[40, 49, 504, 514], 1], [[243, 252, 526, 536], 1], [[186, 192, 505, 512], 1], [[268, 274, 523, 530], 1], [[281, 287, 518, 526], 1], [[299, 305, 519, 527], 1], [[317, 325, 521, 530], 1], [[292, 300, 526, 535], 1], [[373, 379, 529, 538], 1], [[432, 437, 529, 536], 1], [[51, 57, 466, 473], 1], [[71, 76, 474, 482], 1], [[92, 99, 475, 483], 1], [[113, 119, 475, 482], 1], [[137, 143, 487, 493], 1], [[1016, 1023, 478, 487], 1], [[206, 218, 488, 502], 1], [[791, 798, 496, 503], 1]], '13--Interview/13_Interview_Interview_Sequences_13_779.jpg': ['WIDER_val/images/13--Interview/13_Interview_Interview_Sequences_13_779.jpg', 'WIDER_val/images/13--Interview/13_Interview_Interview_Sequences_13_779.jpg', [300, 300], [[376, 718, 140, 634], 1]], '49--Greeting/49_Greeting_peoplegreeting_49_50.jpg': ['WIDER_val/images/49--Greeting/49_Greeting_peoplegreeting_49_50.jpg', 'WIDER_val/images/49--Greeting/49_Greeting_peoplegreeting_49_50.jpg', [300, 300], [[352, 408, 116, 188], 1], [[332, 394, 206, 288], 1], [[654, 792, 256, 460], 1]], '2--Demonstration/2_Demonstration_Political_Rally_2_187.jpg': ['WIDER_val/images/2--Demonstration/2_Demonstration_Political_Rally_2_187.jpg', 'WIDER_val/images/2--Demonstration/2_Demonstration_Political_Rally_2_187.jpg', [300, 300], [[387, 765, 23, 660], 1], [[670, 714, 674, 729], 1], [[588, 629, 741, 793], 1], [[60, 96, 879, 923], 1], [[215, 299, 1255, 1344], 1], [[638, 679, 1175, 1229], 1], [[224, 268, 1404, 1483], 1]], '28--Sports_Fan/28_Sports_Fan_Sports_Fan_28_590.jpg': ['WIDER_val/images/28--Sports_Fan/28_Sports_Fan_Sports_Fan_28_590.jpg', 'WIDER_val/images/28--Sports_Fan/28_Sports_Fan_Sports_Fan_28_590.jpg', [300, 300], [[47, 77, 39, 75], 1], [[30, 59, 270, 305], 1], [[199, 225, 293, 338], 1], [[238, 268, 249, 284], 1], [[549, 578, 171, 207], 1], [[549, 579, 308, 341], 1], [[598, 632, 613, 647], 1], [[771, 803, 462, 500], 1], [[916, 946, 216, 248], 1]], '2--Demonstration/2_Demonstration_Political_Rally_2_800.jpg': ['WIDER_val/images/2--Demonstration/2_Demonstration_Political_Rally_2_800.jpg', 'WIDER_val/images/2--Demonstration/2_Demonstration_Political_Rally_2_800.jpg', [300, 300], [[362, 510, 212, 406], 1]], '49--Greeting/49_Greeting_peoplegreeting_49_589.jpg': ['WIDER_val/images/49--Greeting/49_Greeting_peoplegreeting_49_589.jpg', 'WIDER_val/images/49--Greeting/49_Greeting_peoplegreeting_49_589.jpg', [300, 300], [[260, 558, 196, 556], 1]], '12--Group/12_Group_Team_Organized_Group_12_Group_Team_Organized_Group_12_21.jpg': ['WIDER_val/images/12--Group/12_Group_Team_Organized_Group_12_Group_Team_Organized_Group_12_21.jpg', 'WIDER_val/images/12--Group/12_Group_Team_Organized_Group_12_Group_Team_Organized_Group_12_21.jpg', [300, 300], [[563, 588, 305, 331], 1], [[356, 381, 299, 330], 1], [[471, 493, 277, 303], 1], [[521, 538, 313, 338], 1], [[264, 302, 320, 365], 1], [[422, 431, 314, 327], 1], [[427, 438, 297, 311], 1], [[413, 419, 307, 316], 1], [[498, 511, 303, 319], 1], [[314, 321, 323, 331], 1]], '35--Basketball/35_Basketball_basketballgame_ball_35_998.jpg': ['WIDER_val/images/35--Basketball/35_Basketball_basketballgame_ball_35_998.jpg', 'WIDER_val/images/35--Basketball/35_Basketball_basketballgame_ball_35_998.jpg', [300, 300], [[46, 69, 200, 250], 1], [[65, 99, 285, 323], 1], [[121, 158, 288, 336], 1], [[45, 85, 394, 444], 1], [[336, 393, 95, 174], 1], [[351, 391, 320, 374], 1], [[320, 352, 409, 456], 1], [[680, 732, 63, 138], 1], [[817, 858, 317, 373], 1], [[910, 956, 281, 349], 1], [[1000, 1023, 312, 375], 1], [[839, 866, 218, 258], 1], [[447, 474, 145, 182], 1], [[570, 599, 152, 187], 1], [[502, 541, 337, 378], 1], [[826, 859, 100, 137], 1], [[114, 137, 119, 143], 1], [[0, 24, 316, 351], 1], [[513, 540, 50, 83], 1], [[588, 615, 53, 93], 1], [[270, 293, 88, 120], 1], [[177, 205, 121, 148], 1], [[909, 947, 210, 247], 1], [[866, 897, 303, 343], 1], [[476, 501, 229, 261], 1], [[392, 425, 183, 219], 1], [[2, 15, 242, 282], 1]], '41--Swimming/41_Swimming_Swimmer_41_376.jpg': ['WIDER_val/images/41--Swimming/41_Swimming_Swimmer_41_376.jpg', 'WIDER_val/images/41--Swimming/41_Swimming_Swimmer_41_376.jpg', [300, 300], [[452, 660, 108, 368], 1]], '33--Running/33_Running_Running_33_475.jpg': ['WIDER_val/images/33--Running/33_Running_Running_33_475.jpg', 'WIDER_val/images/33--Running/33_Running_Running_33_475.jpg', [300, 300], [[617, 661, 149, 218], 1]], '47--Matador_Bullfighter/47_Matador_Bullfighter_matadorbullfighting_47_236.jpg': ['WIDER_val/images/47--Matador_Bullfighter/47_Matador_Bullfighter_matadorbullfighting_47_236.jpg', 'WIDER_val/images/47--Matador_Bullfighter/47_Matador_Bullfighter_matadorbullfighting_47_236.jpg', [300, 300], [[989, 1011, 95, 121], 1], [[943, 962, 47, 69], 1], [[973, 986, 28, 43], 1], [[1005, 1016, 24, 38], 1], [[828, 852, 129, 154], 1], [[855, 870, 156, 175], 1], [[794, 813, 114, 141], 1], [[726, 744, 183, 205], 1], [[716, 737, 108, 135], 1], [[750, 764, 48, 66], 1], [[680, 694, 45, 63], 1], [[673, 699, 187, 225], 1], [[697, 713, 180, 196], 1], [[758, 776, 172, 196], 1], [[601, 624, 192, 214], 1], [[588, 607, 132, 155], 1], [[523, 546, 107, 134], 1], [[546, 566, 200, 225], 1], [[389, 483, 277, 381], 1], [[455, 477, 185, 215], 1], [[484, 501, 189, 215], 1], [[436, 453, 123, 151], 1], [[417, 434, 128, 155], 1], [[387, 406, 135, 158], 1], [[386, 410, 189, 218], 1], [[350, 370, 194, 218], 1], [[265, 283, 66, 91], 1], [[277, 293, 119, 143], 1], [[266, 285, 206, 229], 1], [[160, 176, 178, 199], 1], [[189, 204, 127, 151], 1], [[154, 170, 132, 158], 1], [[85, 104, 105, 132], 1], [[122, 140, 178, 201], 1], [[110, 130, 195, 218], 1], [[94, 109, 184, 201], 1], [[65, 85, 196, 220], 1], [[33, 52, 191, 215], 1]], '40--Gymnastics/40_Gymnastics_Gymnastics_40_57.jpg': ['WIDER_val/images/40--Gymnastics/40_Gymnastics_Gymnastics_40_57.jpg', 'WIDER_val/images/40--Gymnastics/40_Gymnastics_Gymnastics_40_57.jpg', [300, 300], [[530, 697, 161, 422], 1]], '11--Meeting/11_Meeting_Meeting_11_Meeting_Meeting_11_176.jpg': ['WIDER_val/images/11--Meeting/11_Meeting_Meeting_11_Meeting_Meeting_11_176.jpg', 'WIDER_val/images/11--Meeting/11_Meeting_Meeting_11_Meeting_Meeting_11_176.jpg', [300, 300], [[793, 838, 89, 155], 1], [[654, 675, 204, 231], 1], [[695, 728, 246, 291], 1], [[775, 801, 250, 281], 1], [[647, 677, 285, 335], 1], [[570, 592, 212, 236], 1], [[411, 438, 218, 250], 1], [[498, 521, 214, 242], 1], [[338, 363, 226, 260], 1], [[356, 374, 223, 245], 1], [[285, 305, 214, 237], 1], [[216, 244, 270, 302], 1], [[120, 153, 244, 287], 1], [[188, 210, 211, 240], 1], [[15, 40, 233, 266], 1], [[167, 185, 77, 104], 1], [[763, 781, 236, 264], 1]], '40--Gymnastics/40_Gymnastics_Gymnastics_40_762.jpg': ['WIDER_val/images/40--Gymnastics/40_Gymnastics_Gymnastics_40_762.jpg', 'WIDER_val/images/40--Gymnastics/40_Gymnastics_Gymnastics_40_762.jpg', [300, 300], [[580, 703, 441, 624], 1]], '41--Swimming/41_Swimming_Swimmer_41_68.jpg': ['WIDER_val/images/41--Swimming/41_Swimming_Swimmer_41_68.jpg', 'WIDER_val/images/41--Swimming/41_Swimming_Swimmer_41_68.jpg', [300, 300], [[292, 390, 178, 234], 1]], '22--Picnic/22_Picnic_Picnic_22_10.jpg': ['WIDER_val/images/22--Picnic/22_Picnic_Picnic_22_10.jpg', 'WIDER_val/images/22--Picnic/22_Picnic_Picnic_22_10.jpg', [300, 300], [[276, 336, 114, 218], 1], [[404, 458, 120, 202], 1], [[570, 630, 218, 288], 1], [[776, 828, 170, 254], 1]], '12--Group/12_Group_Team_Organized_Group_12_Group_Team_Organized_Group_12_83.jpg': ['WIDER_val/images/12--Group/12_Group_Team_Organized_Group_12_Group_Team_Organized_Group_12_83.jpg', 'WIDER_val/images/12--Group/12_Group_Team_Organized_Group_12_Group_Team_Organized_Group_12_83.jpg', [300, 300], [[730, 901, 369, 614], 1], [[811, 871, 219, 295], 1], [[996, 1016, 194, 216], 1], [[960, 974, 196, 213], 1], [[916, 930, 206, 219], 1], [[906, 926, 247, 270], 1], [[958, 971, 248, 263], 1], [[732, 746, 228, 243], 1], [[759, 772, 213, 224], 1], [[932, 941, 212, 224], 1], [[562, 597, 276, 304], 1], [[400, 436, 251, 287], 1], [[302, 335, 245, 289], 1], [[143, 174, 289, 322], 1], [[209, 229, 272, 294], 1], [[91, 120, 284, 315], 1], [[107, 132, 240, 270], 1], [[35, 63, 256, 283], 1], [[7, 30, 262, 287], 1], [[30, 49, 326, 348], 1], [[11, 34, 298, 317], 1], [[123, 142, 252, 273], 1], [[144, 159, 264, 281], 1], [[197, 211, 252, 267], 1], [[200, 211, 296, 317], 1], [[0, 16, 344, 377], 1], [[895, 908, 215, 232], 1]], '20--Family_Group/20_Family_Group_Family_Group_20_696.jpg': ['WIDER_val/images/20--Family_Group/20_Family_Group_Family_Group_20_696.jpg', 'WIDER_val/images/20--Family_Group/20_Family_Group_Family_Group_20_696.jpg', [300, 300], [[111, 194, 391, 499], 1], [[270, 346, 283, 410], 1], [[369, 468, 410, 515], 1], [[483, 556, 324, 435], 1], [[642, 715, 308, 419], 1], [[798, 878, 328, 433], 1], [[560, 636, 572, 661], 1]], '28--Sports_Fan/28_Sports_Fan_Sports_Fan_28_86.jpg': ['WIDER_val/images/28--Sports_Fan/28_Sports_Fan_Sports_Fan_28_86.jpg', 'WIDER_val/images/28--Sports_Fan/28_Sports_Fan_Sports_Fan_28_86.jpg', [300, 300], [[104, 267, 816, 1061], 1]], '2--Demonstration/2_Demonstration_Demonstration_Or_Protest_2_306.jpg': ['WIDER_val/images/2--Demonstration/2_Demonstration_Demonstration_Or_Protest_2_306.jpg', 'WIDER_val/images/2--Demonstration/2_Demonstration_Demonstration_Or_Protest_2_306.jpg', [300, 300], [[0, 62, 260, 367], 1], [[175, 298, 167, 315], 1], [[318, 355, 204, 250], 1], [[362, 419, 183, 253], 1], [[457, 497, 218, 246], 1], [[590, 635, 236, 301], 1], [[663, 726, 213, 299], 1], [[748, 785, 261, 325], 1], [[826, 927, 226, 353], 1], [[617, 665, 204, 263], 1]], '2--Demonstration/2_Demonstration_Demonstrators_2_188.jpg': ['WIDER_val/images/2--Demonstration/2_Demonstration_Demonstrators_2_188.jpg', 'WIDER_val/images/2--Demonstration/2_Demonstration_Demonstrators_2_188.jpg', [300, 300], [[373, 465, 462, 573], 1], [[155, 190, 418, 463], 1], [[222, 269, 353, 406], 1], [[285, 326, 342, 389], 1], [[306, 333, 275, 302], 1], [[225, 259, 248, 286], 1], [[192, 222, 297, 332], 1], [[4, 38, 430, 469], 1], [[28, 48, 416, 434], 1], [[483, 522, 391, 434], 1], [[389, 428, 349, 392], 1], [[523, 540, 334, 356], 1], [[876, 906, 372, 402], 1], [[855, 874, 227, 250], 1], [[1006, 1023, 363, 384], 1], [[107, 125, 355, 374], 1], [[775, 877, 1096, 1194], 1]], '10--People_Marching/10_People_Marching_People_Marching_2_793.jpg': ['WIDER_val/images/10--People_Marching/10_People_Marching_People_Marching_2_793.jpg', 'WIDER_val/images/10--People_Marching/10_People_Marching_People_Marching_2_793.jpg', [300, 300], [[936, 976, 169, 221], 1], [[898, 946, 18, 76], 1], [[801, 852, 117, 168], 1], [[649, 699, 181, 231], 1], [[513, 562, 99, 155], 1], [[404, 458, 85, 136], 1], [[276, 325, 77, 139], 1], [[415, 464, 10, 61], 1], [[126, 174, 88, 140], 1], [[61, 111, 135, 192], 1]], '38--Tennis/38_Tennis_Tennis_38_501.jpg': ['WIDER_val/images/38--Tennis/38_Tennis_Tennis_38_501.jpg', 'WIDER_val/images/38--Tennis/38_Tennis_Tennis_38_501.jpg', [300, 300], [[146, 232, 588, 690], 1], [[216, 274, 412, 494], 1], [[564, 682, 90, 240], 1], [[894, 962, 460, 560], 1]], '33--Running/33_Running_Running_33_209.jpg': ['WIDER_val/images/33--Running/33_Running_Running_33_209.jpg', 'WIDER_val/images/33--Running/33_Running_Running_33_209.jpg', [300, 300], [[596, 710, 144, 286], 1]], '12--Group/12_Group_Large_Group_12_Group_Large_Group_12_354.jpg': ['WIDER_val/images/12--Group/12_Group_Large_Group_12_Group_Large_Group_12_354.jpg', 'WIDER_val/images/12--Group/12_Group_Large_Group_12_Group_Large_Group_12_354.jpg', [300, 300], [[23, 102, 304, 442], 1], [[211, 284, 362, 456], 1], [[283, 337, 326, 417], 1], [[353, 409, 331, 410], 1], [[444, 483, 370, 420], 1], [[656, 700, 367, 451], 1], [[819, 1024, 178, 684], 1], [[795, 877, 394, 551], 1], [[778, 822, 374, 445], 1]], '18--Concerts/18_Concerts_Concerts_18_104.jpg': ['WIDER_val/images/18--Concerts/18_Concerts_Concerts_18_104.jpg', 'WIDER_val/images/18--Concerts/18_Concerts_Concerts_18_104.jpg', [300, 300], [[560, 574, 393, 412], 1], [[935, 950, 449, 471], 1], [[845, 859, 423, 440], 1], [[949, 961, 542, 559], 1]], '16--Award_Ceremony/16_Award_Ceremony_Awards_Ceremony_16_338.jpg': ['WIDER_val/images/16--Award_Ceremony/16_Award_Ceremony_Awards_Ceremony_16_338.jpg', 'WIDER_val/images/16--Award_Ceremony/16_Award_Ceremony_Awards_Ceremony_16_338.jpg', [300, 300], [[361, 629, 136, 517], 1]], '30--Surgeons/30_Surgeons_Surgeons_30_533.jpg': ['WIDER_val/images/30--Surgeons/30_Surgeons_Surgeons_30_533.jpg', 'WIDER_val/images/30--Surgeons/30_Surgeons_Surgeons_30_533.jpg', [300, 300], [[495, 546, 257, 324], 1]], '35--Basketball/35_Basketball_basketballgame_ball_35_542.jpg': ['WIDER_val/images/35--Basketball/35_Basketball_basketballgame_ball_35_542.jpg', 'WIDER_val/images/35--Basketball/35_Basketball_basketballgame_ball_35_542.jpg', [300, 300], [[320, 358, 257, 312], 1], [[551, 594, 252, 309], 1], [[86, 130, 256, 311], 1]], '2--Demonstration/2_Demonstration_Demonstration_Or_Protest_2_367.jpg': ['WIDER_val/images/2--Demonstration/2_Demonstration_Demonstration_Or_Protest_2_367.jpg', 'WIDER_val/images/2--Demonstration/2_Demonstration_Demonstration_Or_Protest_2_367.jpg', [300, 300], [[43, 64, 276, 314], 1], [[51, 68, 252, 272], 1], [[91, 105, 262, 281], 1], [[123, 146, 262, 293], 1], [[181, 211, 307, 335], 1], [[202, 216, 272, 292], 1], [[261, 284, 282, 315], 1], [[306, 327, 306, 332], 1], [[292, 306, 287, 299], 1], [[383, 457, 254, 336], 1], [[507, 553, 248, 300], 1], [[500, 509, 281, 304], 1], [[780, 832, 342, 405], 1]], '25--Soldier_Patrol/25_Soldier_Patrol_Soldier_Patrol_25_467.jpg': ['WIDER_val/images/25--Soldier_Patrol/25_Soldier_Patrol_Soldier_Patrol_25_467.jpg', 'WIDER_val/images/25--Soldier_Patrol/25_Soldier_Patrol_Soldier_Patrol_25_467.jpg', [300, 300], [[768, 801, 55, 110], 1]], '21--Festival/21_Festival_Festival_21_395.jpg': ['WIDER_val/images/21--Festival/21_Festival_Festival_21_395.jpg', 'WIDER_val/images/21--Festival/21_Festival_Festival_21_395.jpg', [300, 300], [[128, 143, 514, 530], 1], [[308, 339, 425, 461], 1], [[73, 92, 568, 594], 1], [[407, 439, 267, 305], 1], [[548, 577, 128, 165], 1], [[514, 555, 280, 332], 1], [[687, 720, 267, 309], 1], [[560, 599, 398, 452], 1], [[763, 797, 417, 457], 1], [[665, 680, 504, 520], 1], [[419, 434, 592, 605], 1], [[921, 934, 479, 496], 1], [[978, 995, 505, 529], 1], [[1004, 1018, 524, 538], 1], [[959, 974, 491, 512], 1], [[996, 1011, 504, 525], 1], [[0, 16, 496, 522], 1], [[54, 67, 491, 508], 1], [[20, 32, 466, 482], 1]], '12--Group/12_Group_Team_Organized_Group_12_Group_Team_Organized_Group_12_442.jpg': ['WIDER_val/images/12--Group/12_Group_Team_Organized_Group_12_Group_Team_Organized_Group_12_442.jpg', 'WIDER_val/images/12--Group/12_Group_Team_Organized_Group_12_Group_Team_Organized_Group_12_442.jpg', [300, 300], [[248, 267, 207, 234], 1], [[200, 221, 189, 216], 1], [[28, 51, 225, 248], 1], [[526, 545, 186, 216], 1], [[455, 472, 214, 239], 1], [[379, 398, 209, 238], 1], [[668, 693, 207, 238], 1], [[760, 779, 187, 212], 1], [[554, 577, 204, 232], 1], [[972, 996, 218, 244], 1], [[808, 827, 170, 201], 1]], '45--Balloonist/45_Balloonist_Balloonist_45_225.jpg': ['WIDER_val/images/45--Balloonist/45_Balloonist_Balloonist_45_225.jpg', 'WIDER_val/images/45--Balloonist/45_Balloonist_Balloonist_45_225.jpg', [300, 300], [[440, 540, 120, 346], 1], [[544, 706, 176, 392], 1], [[46, 186, 2, 154], 1]], '35--Basketball/35_Basketball_playingbasketball_35_417.jpg': ['WIDER_val/images/35--Basketball/35_Basketball_playingbasketball_35_417.jpg', 'WIDER_val/images/35--Basketball/35_Basketball_playingbasketball_35_417.jpg', [300, 300], [[888, 916, 164, 198], 1], [[926, 946, 117, 144], 1], [[961, 988, 52, 93], 1], [[744, 774, 86, 120], 1], [[367, 411, 22, 68], 1], [[526, 555, 36, 67], 1], [[248, 275, 60, 89], 1], [[309, 337, 55, 94], 1], [[225, 256, 133, 168], 1], [[184, 207, 51, 79], 1], [[52, 80, 65, 102], 1], [[159, 186, 65, 101], 1], [[349, 384, 240, 287], 1], [[278, 313, 262, 305], 1], [[210, 242, 250, 297], 1], [[443, 471, 35, 74], 1]], '0--Parade/0_Parade_Parade_0_275.jpg': ['WIDER_val/images/0--Parade/0_Parade_Parade_0_275.jpg', 'WIDER_val/images/0--Parade/0_Parade_Parade_0_275.jpg', [300, 300], [[0, 0, 0, 0], 1]], '36--Football/36_Football_americanfootball_ball_36_615.jpg': ['WIDER_val/images/36--Football/36_Football_americanfootball_ball_36_615.jpg', 'WIDER_val/images/36--Football/36_Football_americanfootball_ball_36_615.jpg', [300, 300], [[200, 225, 104, 151], 1], [[385, 402, 140, 177], 1], [[454, 469, 155, 180], 1], [[84, 97, 136, 154], 1], [[532, 550, 186, 209], 1], [[645, 656, 165, 183], 1], [[741, 755, 138, 160], 1], [[669, 682, 174, 192], 1], [[862, 875, 153, 171], 1], [[923, 942, 102, 134], 1], [[522, 533, 152, 176], 1]], '34--Baseball/34_Baseball_Baseball_34_608.jpg': ['WIDER_val/images/34--Baseball/34_Baseball_Baseball_34_608.jpg', 'WIDER_val/images/34--Baseball/34_Baseball_Baseball_34_608.jpg', [300, 300], [[315, 663, 354, 837], 1]], '18--Concerts/18_Concerts_Concerts_18_536.jpg': ['WIDER_val/images/18--Concerts/18_Concerts_Concerts_18_536.jpg', 'WIDER_val/images/18--Concerts/18_Concerts_Concerts_18_536.jpg', [300, 300], [[502, 530, 307, 345], 1]], '25--Soldier_Patrol/25_Soldier_Patrol_Soldier_Patrol_25_515.jpg': ['WIDER_val/images/25--Soldier_Patrol/25_Soldier_Patrol_Soldier_Patrol_25_515.jpg', 'WIDER_val/images/25--Soldier_Patrol/25_Soldier_Patrol_Soldier_Patrol_25_515.jpg', [300, 300], [[56, 70, 308, 329], 1], [[366, 380, 297, 317], 1], [[373, 385, 320, 340], 1], [[394, 405, 312, 331], 1], [[414, 427, 318, 336], 1], [[441, 450, 333, 350], 1], [[459, 470, 314, 333], 1], [[476, 490, 320, 341], 1], [[521, 532, 318, 334], 1], [[537, 550, 313, 331], 1], [[563, 577, 340, 357], 1], [[574, 590, 323, 344], 1], [[614, 629, 320, 341], 1], [[636, 654, 313, 333], 1], [[673, 689, 314, 336], 1], [[698, 715, 316, 342], 1], [[719, 739, 300, 331], 1], [[734, 748, 326, 350], 1], [[786, 804, 307, 334], 1], [[803, 820, 293, 320], 1], [[835, 850, 311, 339], 1], [[860, 876, 304, 327], 1], [[884, 903, 325, 356], 1], [[910, 923, 308, 333], 1]], '51--Dresses/51_Dresses_wearingdress_51_113.jpg': ['WIDER_val/images/51--Dresses/51_Dresses_wearingdress_51_113.jpg', 'WIDER_val/images/51--Dresses/51_Dresses_wearingdress_51_113.jpg', [300, 300], [[345, 471, 72, 249], 1]], '2--Demonstration/2_Demonstration_Protesters_2_646.jpg': ['WIDER_val/images/2--Demonstration/2_Demonstration_Protesters_2_646.jpg', 'WIDER_val/images/2--Demonstration/2_Demonstration_Protesters_2_646.jpg', [300, 300], [[228, 278, 192, 263], 1], [[336, 357, 184, 217], 1], [[391, 411, 178, 202], 1], [[118, 159, 170, 219], 1], [[90, 118, 195, 231], 1], [[344, 456, 251, 397], 1], [[474, 552, 211, 320], 1], [[556, 608, 212, 269], 1], [[652, 732, 217, 311], 1], [[591, 614, 177, 208], 1], [[450, 497, 163, 239], 1], [[280, 295, 170, 190], 1], [[294, 304, 176, 190], 1], [[977, 1024, 218, 280], 1], [[741, 760, 196, 220], 1], [[189, 209, 187, 207], 1]], '26--Soldier_Drilling/26_Soldier_Drilling_Soldiers_Drilling_26_393.jpg': ['WIDER_val/images/26--Soldier_Drilling/26_Soldier_Drilling_Soldiers_Drilling_26_393.jpg', 'WIDER_val/images/26--Soldier_Drilling/26_Soldier_Drilling_Soldiers_Drilling_26_393.jpg', [300, 300], [[74, 138, 128, 246], 1], [[378, 458, 64, 196], 1], [[510, 582, 64, 198], 1], [[750, 820, 38, 174], 1], [[886, 958, 118, 240], 1]], '41--Swimming/41_Swimming_Swimming_41_580.jpg': ['WIDER_val/images/41--Swimming/41_Swimming_Swimming_41_580.jpg', 'WIDER_val/images/41--Swimming/41_Swimming_Swimming_41_580.jpg', [300, 300], [[458, 618, 122, 342], 1]], '49--Greeting/49_Greeting_peoplegreeting_49_124.jpg': ['WIDER_val/images/49--Greeting/49_Greeting_peoplegreeting_49_124.jpg', 'WIDER_val/images/49--Greeting/49_Greeting_peoplegreeting_49_124.jpg', [300, 300], [[490, 554, 294, 394], 1]]}\n"
          ],
          "name": "stdout"
        }
      ]
    },
    {
      "cell_type": "markdown",
      "metadata": {
        "id": "v2KdmbvGblC3",
        "colab_type": "text"
      },
      "source": [
        "### Now, call the imported model with the given parameters and freeze all the layers in the model with names not having ''`detection`'' word as prefix.\n",
        "\n",
        "As we are not training the model from scratch, we are freezing all the above layers in the model having only last few layers while training to update their weights according to the problem in hand. This is called as **Transfer Learning**."
      ]
    },
    {
      "cell_type": "code",
      "metadata": {
        "id": "cHwplT2ggR-1",
        "colab_type": "code",
        "colab": {
          "base_uri": "https://localhost:8080/",
          "height": 51
        },
        "outputId": "98aa1940-8b4f-4cc8-97e0-a0f43f643450"
      },
      "source": [
        "# build the keras model\n",
        "# this model is not retrained, we are doing it from scratch \n",
        "\n",
        "K.clear_session()\n",
        "model, model_layer, img_input, predictor_sizes = mn_model(image_size=(img_height, img_width, img_channels), \n",
        "                                                                      n_classes = n_classes,\n",
        "                                                                      min_scale = None, \n",
        "                                                                      max_scale = None, \n",
        "                                                                      scales = scales, \n",
        "                                                                      aspect_ratios_global = None, \n",
        "                                                                      aspect_ratios_per_layer = aspect_ratios, \n",
        "                                                                      two_boxes_for_ar1= two_boxes_for_ar1, \n",
        "                                                                      limit_boxes=limit_boxes, \n",
        "                                                                      variances= variances, \n",
        "                                                                      coords=coords, \n",
        "                                                                      normalize_coords=normalize_coords)"
      ],
      "execution_count": 53,
      "outputs": [
        {
          "output_type": "stream",
          "text": [
            "====> Model Specific data\n",
            "====> Height, Width, Channels : 512 512 3\n"
          ],
          "name": "stdout"
        }
      ]
    },
    {
      "cell_type": "markdown",
      "metadata": {
        "id": "FfC4yNb_uCdT",
        "colab_type": "text"
      },
      "source": [
        "#### Write code to freeze all the layers in the above model with names not having ''`detection`'' word as prefix."
      ]
    },
    {
      "cell_type": "code",
      "metadata": {
        "id": "snOulB0wt7_t",
        "colab_type": "code",
        "colab": {}
      },
      "source": [
        "for layer in model.layers:\n",
        "\t#layer.trainable = False\n",
        "        if layer.name.startswith('detection'):\n",
        "            layer.trainable = False"
      ],
      "execution_count": 0,
      "outputs": []
    },
    {
      "cell_type": "markdown",
      "metadata": {
        "id": "n1IIGWM2c3x-",
        "colab_type": "text"
      },
      "source": [
        "### After making the model ready for transfer learning, load the weights of the model given in file ''`mobilenet_1_0_224_tf.h5`''"
      ]
    },
    {
      "cell_type": "code",
      "metadata": {
        "id": "lmCmRr2Rc2Sv",
        "colab_type": "code",
        "colab": {}
      },
      "source": [
        "#from keras.models import Sequential\n",
        "#import tensorflow as tf\n",
        "#model = Sequential()\n",
        "#model.add(tf.keras.layers.Flatten())\n",
        "for layer in model.layers:\n",
        "\tlayer.trainable = False\n",
        "\n",
        "#model1 = load_model('mobilenet_1_0_224_tf.h5')\n",
        "\n",
        "model.load_weights('mobilenet_1_0_224_tf.h5',by_name=True)"
      ],
      "execution_count": 0,
      "outputs": []
    },
    {
      "cell_type": "code",
      "metadata": {
        "id": "wLyY46oE40u2",
        "colab_type": "code",
        "colab": {}
      },
      "source": [
        "#!pip install numpy==1.16.1\n",
        "import numpy as np"
      ],
      "execution_count": 0,
      "outputs": []
    },
    {
      "cell_type": "markdown",
      "metadata": {
        "id": "73KNzDSCf6Rh",
        "colab_type": "text"
      },
      "source": [
        "#### Using the functions given in the model, we are trying to divide the dataset into train and validation samples. Run the below code."
      ]
    },
    {
      "cell_type": "code",
      "metadata": {
        "id": "4_pZEU8TfBoR",
        "colab_type": "code",
        "outputId": "45d9f7c5-d438-499e-9d84-56fa56b82eb3",
        "colab": {
          "base_uri": "https://localhost:8080/",
          "height": 221
        }
      },
      "source": [
        "batch_size = 32\n",
        "ssd_box_encoder = SSDBoxEncoder(img_height=img_height,\n",
        "                                img_width=img_width,\n",
        "                                n_classes=n_classes, \n",
        "                                predictor_sizes=predictor_sizes,\n",
        "                                min_scale=None,\n",
        "                                max_scale=None,\n",
        "                                scales=scales,\n",
        "                                aspect_ratios_global=None,\n",
        "                                aspect_ratios_per_layer=aspect_ratios,\n",
        "                                two_boxes_for_ar1=two_boxes_for_ar1,\n",
        "                                limit_boxes=limit_boxes,\n",
        "                                variances=variances,\n",
        "                                pos_iou_threshold=0.5,\n",
        "                                neg_iou_threshold=0.2,\n",
        "                                coords=coords,\n",
        "                                normalize_coords=normalize_coords)\n",
        "\n",
        "train_dataset = BatchGenerator(images_path=train_data, \n",
        "                include_classes='all', \n",
        "                box_output_format = ['class_id', 'xmin', 'xmax', 'ymin', 'ymax'])\n",
        "\n",
        "print (\"==>TRAINING DATA\")\n",
        "print (\"==> Parsing XML files ...\")\n",
        "\n",
        "train_dataset.parse_xml(\n",
        "                  annotations_path=train_data,\n",
        "                  image_set_path='None',\n",
        "                  image_set='None',\n",
        "                  classes = class_names, \n",
        "                  exclude_truncated=False,\n",
        "                  exclude_difficult=False,\n",
        "                  ret=False, \n",
        "                  debug = False)\n",
        "print(\"==>Parsing XML Finished.\")\n",
        "\n",
        "print (\"==>Generate training batches...\")\n",
        "train_generator = train_dataset.generate(\n",
        "                 batch_size=batch_size,\n",
        "                 train=True,\n",
        "                 ssd_box_encoder=ssd_box_encoder,\n",
        "                 equalize=True,\n",
        "                 brightness=(0.5,2,0.5),\n",
        "                 flip=0.5,\n",
        "                 translate=((0, 20), (0, 30), 0.5),\n",
        "                 scale=(0.75, 1.2, 0.5),\n",
        "                 crop=False,\n",
        "                 #random_crop = (img_height,img_width,1,3), \n",
        "                 random_crop=False,\n",
        "                 resize=(img_height, img_width),\n",
        "                 #resize=False,\n",
        "                 gray=False,\n",
        "                 limit_boxes=True,\n",
        "                 include_thresh=0.4,\n",
        "                 diagnostics=False)\n",
        "\n",
        "print (\"==>Training batch generation complete\")\n",
        "\n",
        "n_train_samples = train_dataset.get_n_samples()\n",
        "\n",
        "print (\"==>Total number of training samples = {}\".format(n_train_samples))\n",
        "\n",
        "# Now repeat above steps for validation data \n",
        "\n",
        "print (\"==>VALIDATION\")\n",
        "\n",
        "val_dataset = BatchGenerator(images_path=test_data, include_classes='all', \n",
        "                box_output_format = ['class_id', 'xmin', 'xmax', 'ymin', 'ymax'])\n",
        "\n",
        "print (\"==> Parsing XML files ...\")\n",
        "\n",
        "\n",
        "val_dataset.parse_xml(\n",
        "                  annotations_path=test_data,\n",
        "                  image_set_path='None',\n",
        "                  image_set='None',\n",
        "                  classes = class_names, \n",
        "                  exclude_truncated=False,\n",
        "                  exclude_difficult=False,\n",
        "                  ret=False, \n",
        "                  debug = False)\n",
        "\n",
        "\n",
        "print(\"==>Parsing XML Finished.\")\n",
        "\n",
        "\n",
        "print (\"==>Generate training batches...\")\n",
        "val_generator = val_dataset.generate(\n",
        "                 batch_size=batch_size,\n",
        "                 train=True,\n",
        "                 ssd_box_encoder=ssd_box_encoder,\n",
        "                 equalize=False,\n",
        "                 brightness=False,\n",
        "                 flip=False,\n",
        "                 translate=False,\n",
        "                 scale=False,\n",
        "                 crop=False,\n",
        "                 #random_crop = (img_height,img_width,1,3), \n",
        "                 random_crop=False, \n",
        "                 resize=(img_height, img_width), \n",
        "                 #resize=False, \n",
        "                 gray=False,\n",
        "                 limit_boxes=True,\n",
        "                 include_thresh=0.4,\n",
        "                 diagnostics=False)\n",
        "\n",
        "\n",
        "print (\"==>Training batch generation complete\")\n",
        "\n",
        "n_val_samples = val_dataset.get_n_samples()\n",
        "\n",
        "print (\"==>Total number of validation samples = {}\".format(n_val_samples))"
      ],
      "execution_count": 56,
      "outputs": [
        {
          "output_type": "stream",
          "text": [
            "==>TRAINING DATA\n",
            "==> Parsing XML files ...\n",
            "==>Parsing XML Finished.\n",
            "==>Generate training batches...\n",
            "==>Training batch generation complete\n",
            "==>Total number of training samples = 0\n",
            "==>VALIDATION\n",
            "==> Parsing XML files ...\n",
            "==>Parsing XML Finished.\n",
            "==>Generate training batches...\n",
            "==>Training batch generation complete\n",
            "==>Total number of validation samples = 0\n"
          ],
          "name": "stdout"
        }
      ]
    },
    {
      "cell_type": "markdown",
      "metadata": {
        "id": "4KtkdFTQhKlE",
        "colab_type": "text"
      },
      "source": [
        "### Now, lets setup things for training by initilaizing required variables like learning rate, epochs, optimizer and loss function(SSDLoss) to compile the model"
      ]
    },
    {
      "cell_type": "code",
      "metadata": {
        "id": "g1-3OOPmgmxk",
        "colab_type": "code",
        "colab": {
          "base_uri": "https://localhost:8080/",
          "height": 139
        },
        "outputId": "ab634461-24cd-46c0-9574-0daf2e1ea454"
      },
      "source": [
        "# setting up training \n",
        "\n",
        "# batch_size and no.of epochs\n",
        "\n",
        "batch_size = 16\n",
        "num_epochs = 10\n",
        "\n",
        "#Learning rate\n",
        "base_lr = 0.002\n",
        "\n",
        "# Optimizer\n",
        "adam = Adam(lr=base_lr, beta_1=0.9, beta_2=0.999, epsilon=1e-6, decay = 0.0)\n",
        "\n",
        "# Loss\n",
        "ssd_loss = SSDLoss(neg_pos_ratio=2, n_neg_min=0, alpha=1.0, beta = 1.0)\n",
        "\n",
        "# Compile\n",
        "model.compile(optimizer=adam, loss=ssd_loss.compute_loss)"
      ],
      "execution_count": 50,
      "outputs": [
        {
          "output_type": "stream",
          "text": [
            "WARNING:tensorflow:From keras_ssd_loss.py:129: to_float (from tensorflow.python.ops.math_ops) is deprecated and will be removed in a future version.\n",
            "Instructions for updating:\n",
            "Use tf.cast instead.\n",
            "WARNING:tensorflow:From keras_ssd_loss.py:162: to_int32 (from tensorflow.python.ops.math_ops) is deprecated and will be removed in a future version.\n",
            "Instructions for updating:\n",
            "Use tf.cast instead.\n"
          ],
          "name": "stdout"
        }
      ]
    },
    {
      "cell_type": "markdown",
      "metadata": {
        "id": "vt_RxSHJitPR",
        "colab_type": "text"
      },
      "source": [
        "### Lets add early stopping and model checkpoint layers on validation loss with some patience values and using fit_generator function to train the model on data generated batch-by-batch by a Python generator, `train_generator` object as generator.\n",
        "\n",
        "\n",
        "We are using checkpoint to save the best model based on validation accuracy."
      ]
    },
    {
      "cell_type": "markdown",
      "metadata": {
        "id": "ugJ68M7_vDqy",
        "colab_type": "text"
      },
      "source": [
        "#### Write code for early_stopping and model_checkpoint layers. Using model.fit_generator train the model and save the best weight file."
      ]
    },
    {
      "cell_type": "code",
      "metadata": {
        "id": "EeO-T9jwi8be",
        "colab_type": "code",
        "colab": {}
      },
      "source": [
        "\n"
      ],
      "execution_count": 0,
      "outputs": []
    },
    {
      "cell_type": "markdown",
      "metadata": {
        "id": "U3FHrp77jdOx",
        "colab_type": "text"
      },
      "source": [
        "### Load the best saved model from above step and check predictions for test data using test_generator object to generate batches."
      ]
    },
    {
      "cell_type": "markdown",
      "metadata": {
        "id": "S7eP30cxvcEA",
        "colab_type": "text"
      },
      "source": [
        "#### Write code in the below cell to load best saved model in the above step."
      ]
    },
    {
      "cell_type": "code",
      "metadata": {
        "id": "nh7tMrxFjR4B",
        "colab_type": "code",
        "colab": {}
      },
      "source": [
        ""
      ],
      "execution_count": 0,
      "outputs": []
    },
    {
      "cell_type": "markdown",
      "metadata": {
        "id": "6dD7q7pzqvnh",
        "colab_type": "text"
      },
      "source": [
        "### Use the below function to plot the boundingbox in the test image to show the predictions."
      ]
    },
    {
      "cell_type": "code",
      "metadata": {
        "id": "h89fe5NGqwI9",
        "colab_type": "code",
        "colab": {}
      },
      "source": [
        "def save_bb(path, filename, results, prediction=True):\n",
        "  \n",
        "  # print filename\n",
        "\n",
        "  img = image.load_img(filename, target_size=(img_height, img_width))\n",
        "  img = image.img_to_array(img)\n",
        "\n",
        "  filename = filename.split(\"/\")[-1]\n",
        "\n",
        "  if(not prediction):\n",
        "    filename = filename[:-4] + \"_gt\" + \".jpg\"\n",
        "\n",
        "  #fig,currentAxis = plt.subplots(1)\n",
        "  currentAxis = plt.gca()\n",
        "\n",
        " # Get detections with confidence higher than 0.6.\n",
        "  colors = plt.cm.hsv(np.linspace(0, 1, 25)).tolist()\n",
        "  color_code = min(len(results), 16)\n",
        "  print (colored(\"total number of bbs: %d\" % len(results), \"yellow\"))\n",
        "  for result in results:\n",
        "    # Parse the outputs.\n",
        "\n",
        "    if(prediction):\n",
        "      det_label = result[0]\n",
        "      det_conf = result[1]\n",
        "      det_xmin = result[2]\n",
        "      det_xmax = result[3]\n",
        "      det_ymin = result[4]\n",
        "      det_ymax = result[5]\n",
        "    else :\n",
        "      det_label = result[0]\n",
        "      det_xmin = result[1]\n",
        "      det_xmax = result[2]\n",
        "      det_ymin = result[3]\n",
        "      det_ymax = result[4]\n",
        "\n",
        "    xmin = int(det_xmin)\n",
        "    ymin = int(det_ymin)\n",
        "    xmax = int(det_xmax)\n",
        "    ymax = int(det_ymax)\n",
        "\n",
        "    if(prediction):\n",
        "      score = det_conf\n",
        "    \n",
        "    plt.imshow(img / 255.)\n",
        "    \n",
        "    label = int(int(det_label))\n",
        "    label_name = class_names[label]\n",
        "    # print label_name \n",
        "    # print label\n",
        "\n",
        "    if(prediction):\n",
        "      display_txt = '{:0.2f}'.format(score)\n",
        "    else:\n",
        "      display_txt = '{}'.format(label_name)\n",
        "\n",
        "      \n",
        "    # print (xmin, ymin, ymin, ymax)\n",
        "    coords = (xmin, ymin), (xmax-xmin), (ymax-ymin)\n",
        "    color_code = color_code-1 \n",
        "    color = colors[color_code]\n",
        "    currentAxis.add_patch(plt.Rectangle(*coords, fill=False, edgecolor=color, linewidth=2))\n",
        "    currentAxis.text(xmin, ymin, display_txt, bbox={'facecolor':color, 'alpha':0.2})\n",
        "\n",
        "  # y\n",
        "  currentAxis.axes.get_yaxis().set_visible(False)\n",
        "  # x\n",
        "  currentAxis.axes.get_xaxis().set_visible(False)\n",
        "  plt.savefig(path + filename, bbox_inches='tight')\n",
        "\n",
        "  print ('saved' , path + filename)\n",
        "\n",
        "  plt.clf()\n"
      ],
      "execution_count": 0,
      "outputs": []
    },
    {
      "cell_type": "markdown",
      "metadata": {
        "id": "RrMdNhMtwE3t",
        "colab_type": "text"
      },
      "source": [
        "#### Run the below code to create a folder with name output_test and get the predictions for the test images using model.predict()"
      ]
    },
    {
      "cell_type": "code",
      "metadata": {
        "id": "1Sep0lG3vR0R",
        "colab_type": "code",
        "colab": {}
      },
      "source": [
        "!mkdir output_test"
      ],
      "execution_count": 0,
      "outputs": []
    },
    {
      "cell_type": "code",
      "metadata": {
        "id": "70s6RPuInpqo",
        "colab_type": "code",
        "colab": {}
      },
      "source": [
        "from keras.preprocessing import image\n",
        "from matplotlib import pyplot as plt\n",
        "\n",
        "test_size = 16\n",
        "test_generator = val_dataset.generate(\n",
        "                 batch_size=test_size,\n",
        "                 train=False,\n",
        "                 ssd_box_encoder=ssd_box_encoder,\n",
        "                 equalize=False,\n",
        "                 brightness=False,\n",
        "                 flip=False,\n",
        "                 translate=False,\n",
        "                 scale=False,\n",
        "                 crop=False,\n",
        "                 #random_crop = (img_height,img_width,1,3), \n",
        "                 random_crop=False, \n",
        "                 resize=(img_height, img_width), \n",
        "                 #resize=False,\n",
        "                 gray=False,\n",
        "                 limit_boxes=True,\n",
        "                 include_thresh=0.4,\n",
        "                 diagnostics=False)\n",
        "\n",
        "print (colored(\"done.\", \"green\"))\n",
        "\n",
        "print (colored(\"now predicting...\", \"yellow\"))\n",
        "\n",
        "_CONF = 0.60 \n",
        "_IOU = 0.15\n",
        "\n",
        "for i in range(test_size):\n",
        "    X, y, filenames = next(test_generator)\n",
        "\n",
        "    y_pred = model.predict(X)\n",
        "    y_pred_decoded = decode_y2(y_pred,\n",
        "                             confidence_thresh=_CONF,\n",
        "                            iou_threshold=_IOU,\n",
        "                            top_k='all',\n",
        "                            input_coords=coords,\n",
        "                            normalize_coords=normalize_coords,\n",
        "                            img_height=img_height,\n",
        "                            img_width=img_width)\n",
        "\n",
        "\n",
        "    np.set_printoptions(suppress=True)\n",
        "\n",
        "    save_bb(\"./output_test/\", filenames[i], y_pred_decoded[i])\n",
        "    save_bb(\"./output_test/\", filenames[i], y[i], prediction=False)\n"
      ],
      "execution_count": 0,
      "outputs": []
    },
    {
      "cell_type": "markdown",
      "metadata": {
        "id": "qLKgtPCJwena",
        "colab_type": "text"
      },
      "source": [
        "In the above step all the test images along with predictions are stored in output_test folder in this notebook environment. You can check the folder in Files section of the menu to left-side of screen in colab.\n",
        "\n",
        "Each test image is used for predictions and is stored as 2 files.\n",
        "\n",
        "one file is the original ground truth with <filename_gt.jpg>\n",
        "second file is the prediction of the model on the image. with <filename.jpg>"
      ]
    },
    {
      "cell_type": "markdown",
      "metadata": {
        "id": "TFzb3Vj9kDGH",
        "colab_type": "text"
      },
      "source": [
        "### Visualize a test image to check predictions\n",
        "\n",
        "\n",
        "#### Write code to show images: Using cv2.imshow() or matplotlib show any 3 test images and their predictions."
      ]
    },
    {
      "cell_type": "code",
      "metadata": {
        "id": "zA1lMnX4-edG",
        "colab_type": "code",
        "colab": {}
      },
      "source": [
        ""
      ],
      "execution_count": 0,
      "outputs": []
    }
  ]
}