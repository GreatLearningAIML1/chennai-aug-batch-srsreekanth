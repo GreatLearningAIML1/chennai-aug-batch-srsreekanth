{
 "cells": [
  {
   "cell_type": "markdown",
   "metadata": {
    "colab_type": "text",
    "id": "NFfDTfhlaEI_"
   },
   "source": [
    "# Transfer Learning MNIST"
   ]
  },
  {
   "cell_type": "markdown",
   "metadata": {
    "colab_type": "text",
    "id": "rNwbqCFRaEJC"
   },
   "source": [
    "* Train a simple convnet on the MNIST dataset the first 5 digits [0..4].\n",
    "* Freeze convolutional layers and fine-tune dense layers for the classification of digits [5..9]."
   ]
  },
  {
   "cell_type": "markdown",
   "metadata": {
    "colab_type": "text",
    "id": "YUB1uDW_8XIy"
   },
   "source": [
    "## 1. Import necessary libraries for the model"
   ]
  },
  {
   "cell_type": "code",
   "execution_count": 251,
   "metadata": {},
   "outputs": [],
   "source": [
    "import keras\n",
    "import numpy as np\n",
    "from numpy import zeros\n",
    "from keras.datasets import mnist\n",
    "import matplotlib.pyplot as plt\n",
    "\n",
    "from keras.datasets import mnist\n",
    "from keras.models import Sequential\n",
    "from keras.layers import Dense, Dropout, Activation, Flatten\n",
    "from keras.optimizers import Adam\n",
    "from keras.layers.normalization import BatchNormalization\n",
    "from keras.utils import np_utils\n",
    "from keras.layers import Conv2D, MaxPooling2D, ZeroPadding2D, GlobalAveragePooling2D\n",
    "from keras.layers.advanced_activations import LeakyReLU \n",
    "from keras.preprocessing.image import ImageDataGenerator"
   ]
  },
  {
   "cell_type": "code",
   "execution_count": 252,
   "metadata": {
    "colab": {},
    "colab_type": "code",
    "id": "Rsj4t5HTaEJE"
   },
   "outputs": [],
   "source": [
    "\n",
    "#load mnist dataset\n",
    "(X_train, y_train), (X_test, y_test) = mnist.load_data() #everytime loading data won't be so easy :)\n",
    "\n"
   ]
  },
  {
   "cell_type": "markdown",
   "metadata": {
    "colab_type": "text",
    "id": "IXrn3heBaEJa"
   },
   "source": [
    "## 2. Import MNIST data and create 2 datasets with one dataset having digits from 0 to 4 and other from 5 to 9 "
   ]
  },
  {
   "cell_type": "code",
   "execution_count": 253,
   "metadata": {
    "colab": {},
    "colab_type": "code",
    "id": "pjDuiK6ztgOK"
   },
   "outputs": [
    {
     "name": "stdout",
     "output_type": "stream",
     "text": [
      "(60000, 28, 28)\n",
      "(60000,)\n",
      "(10000, 28, 28)\n",
      "(10000,)\n"
     ]
    }
   ],
   "source": [
    "print (X_train.shape)\n",
    "print (y_train.shape)\n",
    "print (X_test.shape)\n",
    "print (y_test.shape)\n",
    "\n"
   ]
  },
  {
   "cell_type": "code",
   "execution_count": null,
   "metadata": {},
   "outputs": [],
   "source": []
  },
  {
   "cell_type": "markdown",
   "metadata": {},
   "source": [
    "#  prefix with a is digits 0 to 4 and prefix with b is 5 to 9\n",
    "\n",
    "\n",
    "\n"
   ]
  },
  {
   "cell_type": "code",
   "execution_count": 254,
   "metadata": {},
   "outputs": [],
   "source": [
    "\n",
    "aX_train = X_train[y_train <5 ]\n",
    "ay_train = y_train[y_train <5]\n",
    "aX_test=X_test[y_test <5 ]\n",
    "ay_test=y_test[y_test<5]\n",
    "    \n",
    "bX_train=   X_train[y_train >4 ]\n",
    "by_train=   y_train[y_train >4]\n",
    "bX_test=   X_test[y_test >4 ]\n",
    "by_test= y_test[y_test>4]\n",
    "    \n"
   ]
  },
  {
   "cell_type": "code",
   "execution_count": 255,
   "metadata": {},
   "outputs": [
    {
     "name": "stdout",
     "output_type": "stream",
     "text": [
      "[0 4 1 ... 2 1 3]\n"
     ]
    }
   ],
   "source": [
    "print (ay_train)"
   ]
  },
  {
   "cell_type": "code",
   "execution_count": 256,
   "metadata": {},
   "outputs": [
    {
     "name": "stdout",
     "output_type": "stream",
     "text": [
      "(30596, 28, 28)\n",
      "(30596,)\n",
      "(5139, 28, 28)\n",
      "(5139,)\n",
      "(29404, 28, 28)\n",
      "(29404,)\n",
      "(4861, 28, 28)\n",
      "(4861,)\n"
     ]
    }
   ],
   "source": [
    "print(aX_train.shape)\n",
    "print(ay_train.shape)\n",
    "print(aX_test.shape)\n",
    "print(ay_test.shape)\n",
    "\n",
    "print(bX_train.shape)\n",
    "print(by_train.shape)\n",
    "print(bX_test.shape)\n",
    "print(by_test.shape)\n"
   ]
  },
  {
   "cell_type": "markdown",
   "metadata": {
    "colab_type": "text",
    "id": "9qU14lYL9A5g"
   },
   "source": [
    "## 3. Print x_train, y_train, x_test and y_test for both the datasets"
   ]
  },
  {
   "cell_type": "code",
   "execution_count": 257,
   "metadata": {
    "colab": {},
    "colab_type": "code",
    "id": "Z9OrszhJ0SgJ"
   },
   "outputs": [
    {
     "data": {
      "image/png": "[encoded data removed]",
      "text/plain": [
       "<Figure size 432x288 with 6 Axes>"
      ]
     },
     "metadata": {},
     "output_type": "display_data"
    }
   ],
   "source": [
    "# this category is less than 4 prefixed with a, and it is from train dataset\n",
    "figa = plt.figure()\n",
    "for i in range(6):\n",
    "  plt.subplot(3,3,i+1)\n",
    "  plt.tight_layout()\n",
    "  plt.imshow(aX_train[i], cmap='gray', interpolation='none')\n",
    "  plt.title(\"Digit: {}\".format(ay_train[i]))\n",
    "  plt.xticks([])\n",
    "  plt.yticks([])\n",
    "#figa\n",
    "\n",
    "\n",
    "\n"
   ]
  },
  {
   "cell_type": "code",
   "execution_count": 258,
   "metadata": {},
   "outputs": [
    {
     "data": {
      "image/png": "[encoded data removed]",
      "text/plain": [
       "<Figure size 432x288 with 6 Axes>"
      ]
     },
     "metadata": {},
     "output_type": "display_data"
    }
   ],
   "source": [
    "# this category is less than 4 prefixed with a, and it is from test dataset\n",
    "\n",
    "figa = plt.figure()\n",
    "for i in range(6):\n",
    "  plt.subplot(3,3,i+1)\n",
    "  plt.tight_layout()\n",
    "  plt.imshow(aX_test[i], cmap='gray', interpolation='none')\n",
    "  plt.title(\"Digit: {}\".format(ay_test[i]))\n",
    "  plt.xticks([])\n",
    "  plt.yticks([])"
   ]
  },
  {
   "cell_type": "code",
   "execution_count": 259,
   "metadata": {},
   "outputs": [
    {
     "data": {
      "image/png": "[encoded data removed]",
      "text/plain": [
       "<Figure size 432x288 with 6 Axes>"
      ]
     },
     "metadata": {},
     "output_type": "display_data"
    }
   ],
   "source": [
    "# this category is greater than 4 prefixed with b, and it is from train dataset\n",
    "\n",
    "for i in range(6):\n",
    "  plt.subplot(3,3,i+1)\n",
    "  plt.tight_layout()\n",
    "  plt.imshow(bX_train[i], cmap='gray', interpolation='none')\n",
    "  plt.title(\"Digit: {}\".format(by_train[i]))\n",
    "  plt.xticks([])\n",
    "  plt.yticks([])\n",
    "#fig\n"
   ]
  },
  {
   "cell_type": "code",
   "execution_count": 260,
   "metadata": {},
   "outputs": [
    {
     "data": {
      "image/png": "[encoded data removed]",
      "text/plain": [
       "<Figure size 432x288 with 6 Axes>"
      ]
     },
     "metadata": {},
     "output_type": "display_data"
    }
   ],
   "source": [
    "# this category is greater than 4 prefixed with b, and it is from test dataset\n",
    "\n",
    "for i in range(6):\n",
    "  plt.subplot(3,3,i+1)\n",
    "  plt.tight_layout()\n",
    "  plt.imshow(bX_test[i], cmap='gray', interpolation='none')\n",
    "  plt.title(\"Digit: {}\".format(by_test[i]))\n",
    "  plt.xticks([])\n",
    "  plt.yticks([])"
   ]
  },
  {
   "cell_type": "code",
   "execution_count": null,
   "metadata": {
    "colab": {},
    "colab_type": "code",
    "id": "sJswV4xk9jQS"
   },
   "outputs": [],
   "source": []
  },
  {
   "cell_type": "markdown",
   "metadata": {
    "colab_type": "text",
    "id": "cB9BPFzr9oDF"
   },
   "source": [
    "## ** 4. Let us take only the dataset (x_train, y_train, x_test, y_test) for Integers 0 to 4 in MNIST **\n",
    "## Reshape x_train and x_test to a 4 Dimensional array (channel = 1) to pass it into a Conv2D layer"
   ]
  },
  {
   "cell_type": "code",
   "execution_count": 261,
   "metadata": {
    "colab": {},
    "colab_type": "code",
    "id": "FlQRPfFzaEJx"
   },
   "outputs": [],
   "source": [
    "X_train = aX_train.reshape(aX_train.shape[0], 28, 28, 1)\n",
    "X_test = aX_test.reshape(aX_test.shape[0], 28, 28, 1)"
   ]
  },
  {
   "cell_type": "markdown",
   "metadata": {
    "colab_type": "text",
    "id": "jLQr-b3F-hw8"
   },
   "source": [
    "## 5. Normalize x_train and x_test by dividing it by 255"
   ]
  },
  {
   "cell_type": "code",
   "execution_count": 262,
   "metadata": {
    "colab": {},
    "colab_type": "code",
    "id": "PlEZIAG5-g2I"
   },
   "outputs": [],
   "source": [
    "X_train = X_train.astype('float32')\n",
    "X_test = X_test.astype('float32')\n",
    "\n",
    "X_train/=255\n",
    "X_test/=255\n"
   ]
  },
  {
   "cell_type": "markdown",
   "metadata": {
    "colab_type": "text",
    "id": "pytVBaw4-vMi"
   },
   "source": [
    "## 6. Use One-hot encoding to divide y_train and y_test into required no of output classes"
   ]
  },
  {
   "cell_type": "code",
   "execution_count": 263,
   "metadata": {
    "colab": {},
    "colab_type": "code",
    "id": "V48xiua4-uUi"
   },
   "outputs": [],
   "source": [
    "number_of_classes = 5\n",
    "Y_train = np_utils.to_categorical(ay_train, number_of_classes)\n",
    "Y_test = np_utils.to_categorical(ay_test, number_of_classes)\n"
   ]
  },
  {
   "cell_type": "markdown",
   "metadata": {
    "colab_type": "text",
    "id": "elPkI44g_C2b"
   },
   "source": [
    "## 7. Build a sequential model with 2 Convolutional layers with 32 kernels of size (3,3) followed by a Max pooling layer of size (2,2) followed by a drop out layer to be trained for classification of digits 0-4  "
   ]
  },
  {
   "cell_type": "code",
   "execution_count": 264,
   "metadata": {
    "colab": {},
    "colab_type": "code",
    "id": "MU09mm9F89gO"
   },
   "outputs": [],
   "source": [
    "##model building\n",
    "\n",
    "img_rows=28\n",
    "img_cols=28\n",
    "input_shape = (img_rows, img_cols, 1)\n",
    "\n",
    "model = Sequential()\n",
    "#convolutional layer with rectified linear unit activation\n",
    "model.add(Conv2D(32, kernel_size=(3, 3),\n",
    "                 activation='relu',\n",
    "                 input_shape=input_shape))\n",
    "#32 convolution filters used each of size 3x3\n",
    "#again\n",
    "\n",
    "#choose the best features via pooling\n",
    "model.add(MaxPooling2D(pool_size=(2, 2)))\n",
    "#randomly turn neurons on and off to improve convergence\n",
    "model.add(Dropout(0.25))\n"
   ]
  },
  {
   "cell_type": "markdown",
   "metadata": {
    "colab_type": "text",
    "id": "sJQaycRO_3Au"
   },
   "source": [
    "## 8. Post that flatten the data and add 2 Dense layers with 128 neurons and neurons = output classes with activation = 'relu' and 'softmax' respectively. Add dropout layer inbetween if necessary  "
   ]
  },
  {
   "cell_type": "code",
   "execution_count": 265,
   "metadata": {
    "colab": {},
    "colab_type": "code",
    "id": "vOZeRbK7t9AT"
   },
   "outputs": [],
   "source": [
    "\n",
    "model.add(Conv2D(64, (3, 3), activation='relu'))\n",
    "#64 convolution filters used each of size 3x3\n",
    "\n",
    "#flatten since too many dimensions, we only want a classification output\n",
    "model.add(Flatten())\n",
    "#fully connected to get all relevant data\n",
    "model.add(Dense(128, activation='relu'))\n",
    "#one more dropout for convergence' sake :) \n",
    "model.add(Dropout(0.5))\n",
    "#output a softmax to squash the matrix into output probabilities\n",
    "model.add(Dense(number_of_classes, activation='softmax'))"
   ]
  },
  {
   "cell_type": "markdown",
   "metadata": {
    "colab_type": "text",
    "id": "my1P09bxAv8H"
   },
   "source": [
    "## 9. Print the training and test accuracy"
   ]
  },
  {
   "cell_type": "code",
   "execution_count": 276,
   "metadata": {},
   "outputs": [
    {
     "name": "stdout",
     "output_type": "stream",
     "text": [
      "(29404, 28, 28, 1)\n",
      "(29404, 5)\n",
      "(4861, 28, 28, 1)\n",
      "(4861, 5)\n"
     ]
    }
   ],
   "source": [
    "print (X_train.shape)\n",
    "#print (ay_train.shape)\n",
    "print (Y_train.shape)\n",
    "print (X_test.shape)\n",
    "#print (ay_test.shape)\n",
    "print (Y_test.shape)\n",
    "\n"
   ]
  },
  {
   "cell_type": "code",
   "execution_count": 267,
   "metadata": {
    "colab": {},
    "colab_type": "code",
    "id": "yf7F8Gdutbf0"
   },
   "outputs": [
    {
     "name": "stdout",
     "output_type": "stream",
     "text": [
      "Train on 30596 samples, validate on 5139 samples\n",
      "Epoch 1/10\n",
      "30596/30596 [==============================] - 47s 2ms/step - loss: 0.1770 - acc: 0.9436 - val_loss: 0.0306 - val_acc: 0.9895\n",
      "Epoch 2/10\n",
      "30596/30596 [==============================] - 50s 2ms/step - loss: 0.0544 - acc: 0.9836 - val_loss: 0.0174 - val_acc: 0.9932\n",
      "Epoch 3/10\n",
      "30596/30596 [==============================] - 52s 2ms/step - loss: 0.0367 - acc: 0.9888 - val_loss: 0.0090 - val_acc: 0.9959\n",
      "Epoch 4/10\n",
      "30596/30596 [==============================] - 49s 2ms/step - loss: 0.0283 - acc: 0.9916 - val_loss: 0.0095 - val_acc: 0.9979\n",
      "Epoch 5/10\n",
      "30596/30596 [==============================] - 50s 2ms/step - loss: 0.0249 - acc: 0.9928 - val_loss: 0.0064 - val_acc: 0.9979\n",
      "Epoch 6/10\n",
      "30596/30596 [==============================] - 56s 2ms/step - loss: 0.0195 - acc: 0.9943 - val_loss: 0.0054 - val_acc: 0.9979\n",
      "Epoch 7/10\n",
      "30596/30596 [==============================] - 55s 2ms/step - loss: 0.0178 - acc: 0.9945 - val_loss: 0.0058 - val_acc: 0.9975\n",
      "Epoch 8/10\n",
      "30596/30596 [==============================] - 54s 2ms/step - loss: 0.0152 - acc: 0.9953 - val_loss: 0.0047 - val_acc: 0.9981\n",
      "Epoch 9/10\n",
      "30596/30596 [==============================] - 48s 2ms/step - loss: 0.0133 - acc: 0.9961 - val_loss: 0.0050 - val_acc: 0.9981\n",
      "Epoch 10/10\n",
      "30596/30596 [==============================] - 47s 2ms/step - loss: 0.0111 - acc: 0.9965 - val_loss: 0.0055 - val_acc: 0.9984\n"
     ]
    }
   ],
   "source": [
    "model.compile(loss=keras.losses.categorical_crossentropy,\n",
    "              optimizer=keras.optimizers.Adadelta(),\n",
    "              metrics=['accuracy'])\n",
    "\n",
    "batch_size = 128\n",
    "num_epoch = 10\n",
    "#model training\n",
    "model_log = model.fit(X_train, Y_train,\n",
    "          batch_size=batch_size,\n",
    "          epochs=num_epoch,\n",
    "          verbose=1,\n",
    "          validation_data=(X_test, Y_test))\n",
    "\n",
    "\n"
   ]
  },
  {
   "cell_type": "code",
   "execution_count": 268,
   "metadata": {},
   "outputs": [
    {
     "name": "stdout",
     "output_type": "stream",
     "text": [
      "Test loss: 0.0055429645629988785\n",
      "Test accuracy: 0.9984432769021211\n"
     ]
    }
   ],
   "source": [
    "score = model.evaluate(X_test, Y_test, verbose=0)\n",
    "print('Test loss:', score[0])  \n",
    "print('Test accuracy:', score[1])  "
   ]
  },
  {
   "cell_type": "code",
   "execution_count": 269,
   "metadata": {},
   "outputs": [
    {
     "name": "stdout",
     "output_type": "stream",
     "text": [
      "_________________________________________________________________\n",
      "Layer (type)                 Output Shape              Param #   \n",
      "=================================================================\n",
      "conv2d_22 (Conv2D)           (None, 26, 26, 32)        320       \n",
      "_________________________________________________________________\n",
      "max_pooling2d_10 (MaxPooling (None, 13, 13, 32)        0         \n",
      "_________________________________________________________________\n",
      "dropout_11 (Dropout)         (None, 13, 13, 32)        0         \n",
      "_________________________________________________________________\n",
      "conv2d_23 (Conv2D)           (None, 11, 11, 64)        18496     \n",
      "_________________________________________________________________\n",
      "flatten_8 (Flatten)          (None, 7744)              0         \n",
      "_________________________________________________________________\n",
      "dense_10 (Dense)             (None, 128)               991360    \n",
      "_________________________________________________________________\n",
      "dropout_12 (Dropout)         (None, 128)               0         \n",
      "_________________________________________________________________\n",
      "dense_11 (Dense)             (None, 5)                 645       \n",
      "=================================================================\n",
      "Total params: 1,010,821\n",
      "Trainable params: 1,010,821\n",
      "Non-trainable params: 0\n",
      "_________________________________________________________________\n"
     ]
    }
   ],
   "source": [
    "model.summary()"
   ]
  },
  {
   "cell_type": "markdown",
   "metadata": {
    "colab_type": "text",
    "id": "z78o3WIjaEJ3"
   },
   "source": [
    "## 10. Make only the dense layers to be trainable and convolutional layers to be non-trainable"
   ]
  },
  {
   "cell_type": "code",
   "execution_count": 270,
   "metadata": {
    "colab": {},
    "colab_type": "code",
    "id": "brN7VZHFaEJ4"
   },
   "outputs": [
    {
     "name": "stdout",
     "output_type": "stream",
     "text": [
      "conv2d_22\n",
      "max_pooling2d_10\n",
      "dropout_11\n",
      "conv2d_23\n",
      "flatten_8\n",
      "dense_10\n",
      "dropout_12\n",
      "dense_11\n"
     ]
    }
   ],
   "source": [
    "for layer in model.layers[:8]:\n",
    "       print (layer.name)\n",
    "       if 'dense'  in layer.name:\n",
    "         layer.trainabe=True\n",
    "       if 'conv2d' in layer.name:\n",
    "         layer.trainable=False\n"
   ]
  },
  {
   "cell_type": "code",
   "execution_count": 271,
   "metadata": {},
   "outputs": [
    {
     "name": "stdout",
     "output_type": "stream",
     "text": [
      "False\n",
      "False\n",
      "True\n",
      "True\n"
     ]
    }
   ],
   "source": [
    "print (model.layers[0].trainable)\n",
    "print(model.layers[3].trainable)\n",
    "print(model.layers[5].trainable)\n",
    "print(model.layers[7].trainable)\n",
    "\n"
   ]
  },
  {
   "cell_type": "markdown",
   "metadata": {
    "colab_type": "text",
    "id": "4opnW7o0BJ8P"
   },
   "source": [
    "## 11. Use the model trained on 0 to 4 digit classification and train it on the dataset which has digits 5 to 9  (Using Transfer learning keeping only the dense layers to be trainable)"
   ]
  },
  {
   "cell_type": "code",
   "execution_count": 272,
   "metadata": {
    "colab": {},
    "colab_type": "code",
    "id": "lCFcYHTm6-cE"
   },
   "outputs": [
    {
     "name": "stdout",
     "output_type": "stream",
     "text": [
      "[5 6 7 8 9]\n",
      "[5 6 7 8 9]\n"
     ]
    }
   ],
   "source": [
    "X_train = bX_train.reshape(bX_train.shape[0], 28, 28, 1)\n",
    "X_test = bX_test.reshape(bX_test.shape[0], 28, 28, 1)\n",
    "X_train = X_train.astype('float32')\n",
    "X_test = X_test.astype('float32')\n",
    "\n",
    "X_train/=255\n",
    "X_test/=255\n",
    "\n",
    "print (np.unique(by_train))\n",
    "print (np.unique(by_test))\n",
    "\n",
    "b_y_train=by_train-5\n",
    "b_y_test=by_test-5\n",
    "\n",
    "# b_y_train[:] = [x - 5 for x in by_train]\n",
    "# b_y_test[:] = [x - 5 for x in by_test]\n",
    "\n",
    "\n",
    "Y_train = np_utils.to_categorical(b_y_train,5)\n",
    "Y_test = np_utils.to_categorical(b_y_test, 5)\n"
   ]
  },
  {
   "cell_type": "code",
   "execution_count": 273,
   "metadata": {},
   "outputs": [
    {
     "name": "stdout",
     "output_type": "stream",
     "text": [
      "(29404, 28, 28, 1)\n",
      "(29404, 5)\n",
      "(4861, 28, 28, 1)\n",
      "(4861, 5)\n"
     ]
    }
   ],
   "source": [
    "print(X_train.shape)\n",
    "print(Y_train.shape)\n",
    "\n",
    "print(X_test.shape)\n",
    "print(Y_test.shape)\n",
    "\n"
   ]
  },
  {
   "cell_type": "code",
   "execution_count": 274,
   "metadata": {
    "colab": {},
    "colab_type": "code",
    "id": "DITyAt3t7Tto"
   },
   "outputs": [
    {
     "name": "stdout",
     "output_type": "stream",
     "text": [
      "Train on 29404 samples, validate on 4861 samples\n",
      "Epoch 1/10\n",
      "29404/29404 [==============================] - 45s 2ms/step - loss: 0.2200 - acc: 0.9391 - val_loss: 0.0436 - val_acc: 0.9854\n",
      "Epoch 2/10\n",
      "29404/29404 [==============================] - 47s 2ms/step - loss: 0.0702 - acc: 0.9783 - val_loss: 0.0310 - val_acc: 0.9907\n",
      "Epoch 3/10\n",
      "29404/29404 [==============================] - 45s 2ms/step - loss: 0.0487 - acc: 0.9847 - val_loss: 0.0293 - val_acc: 0.9889\n",
      "Epoch 4/10\n",
      "29404/29404 [==============================] - 47s 2ms/step - loss: 0.0409 - acc: 0.9880 - val_loss: 0.0217 - val_acc: 0.9912\n",
      "Epoch 5/10\n",
      "29404/29404 [==============================] - 48s 2ms/step - loss: 0.0325 - acc: 0.9900 - val_loss: 0.0202 - val_acc: 0.9928\n",
      "Epoch 6/10\n",
      "29404/29404 [==============================] - 46s 2ms/step - loss: 0.0296 - acc: 0.9904 - val_loss: 0.0196 - val_acc: 0.9928\n",
      "Epoch 7/10\n",
      "29404/29404 [==============================] - 45s 2ms/step - loss: 0.0246 - acc: 0.9921 - val_loss: 0.0194 - val_acc: 0.9936\n",
      "Epoch 8/10\n",
      "29404/29404 [==============================] - 43s 1ms/step - loss: 0.0213 - acc: 0.9932 - val_loss: 0.0177 - val_acc: 0.9938\n",
      "Epoch 9/10\n",
      "29404/29404 [==============================] - 45s 2ms/step - loss: 0.0201 - acc: 0.9935 - val_loss: 0.0177 - val_acc: 0.9936\n",
      "Epoch 10/10\n",
      "29404/29404 [==============================] - 43s 1ms/step - loss: 0.0167 - acc: 0.9947 - val_loss: 0.0180 - val_acc: 0.9938\n"
     ]
    }
   ],
   "source": [
    "model_log = model.fit(X_train, Y_train,\n",
    "          batch_size=batch_size,\n",
    "          epochs=num_epoch,\n",
    "          verbose=1,\n",
    "          validation_data=(X_test, Y_test))"
   ]
  },
  {
   "cell_type": "markdown",
   "metadata": {
    "colab_type": "text",
    "id": "SoDozqghCJZ4"
   },
   "source": [
    "## 12. Print the accuracy for classification of digits 5 to 9"
   ]
  },
  {
   "cell_type": "code",
   "execution_count": 275,
   "metadata": {
    "colab": {},
    "colab_type": "code",
    "id": "9fCxgb5s49Cj"
   },
   "outputs": [
    {
     "name": "stdout",
     "output_type": "stream",
     "text": [
      "5 to 9 test loss: 0.018033785104865127\n",
      "5 to 9 Test accuracy: 0.9938284303641226\n"
     ]
    }
   ],
   "source": [
    "score = model.evaluate(X_test, Y_test, verbose=0)\n",
    "print('5 to 9 test loss:', score[0])  \n",
    "print('5 to 9 Test accuracy:', score[1]) "
   ]
  },
  {
   "cell_type": "code",
   "execution_count": 0,
   "metadata": {
    "colab": {},
    "colab_type": "code",
    "id": "LRWizZIpCUKg"
   },
   "outputs": [],
   "source": []
  },
  {
   "cell_type": "markdown",
   "metadata": {
    "colab_type": "text",
    "id": "FU-HwvIdH0M-"
   },
   "source": [
    "## Sentiment analysis <br> \n",
    "\n",
    "The objective of the second problem is to perform Sentiment analysis from the tweets data collected from the users targeted at various mobile devices.\n",
    "Based on the tweet posted by a user (text), we will classify if the sentiment of the user targeted at a particular mobile device is positive or not."
   ]
  },
  {
   "cell_type": "markdown",
   "metadata": {
    "colab_type": "text",
    "id": "nAQDiZHRH0M_"
   },
   "source": [
    "### 13. Read the dataset (tweets.csv) and drop the NA's while reading the dataset"
   ]
  },
  {
   "cell_type": "code",
   "execution_count": 323,
   "metadata": {
    "colab": {},
    "colab_type": "code",
    "id": "3eXGIe-SH0NA"
   },
   "outputs": [],
   "source": [
    "import pandas as pd\n",
    "# Making a list of missing value types\n",
    "missing_values = [\"n/a\", \"na\", \"--\",\"NaN\"]\n",
    "data = pd.read_csv(\"tweets.csv\", na_values = missing_values,encoding='ISO-8859-1')"
   ]
  },
  {
   "cell_type": "code",
   "execution_count": null,
   "metadata": {
    "colab": {},
    "colab_type": "code",
    "id": "CWeWe1eJH0NF"
   },
   "outputs": [],
   "source": []
  },
  {
   "cell_type": "markdown",
   "metadata": {
    "colab_type": "text",
    "id": "jPJvTjefH0NI"
   },
   "source": [
    "### 14. Preprocess the text and add the preprocessed text in a column with name `text` in the dataframe."
   ]
  },
  {
   "cell_type": "code",
   "execution_count": 324,
   "metadata": {
    "colab": {},
    "colab_type": "code",
    "id": "5iec5s9gH0NI"
   },
   "outputs": [],
   "source": [
    "def preprocess(text):\n",
    "    try:\n",
    "        return text.encode().decode('ascii')\n",
    "    except Exception as e:\n",
    "        return \"\""
   ]
  },
  {
   "cell_type": "code",
   "execution_count": 325,
   "metadata": {
    "colab": {},
    "colab_type": "code",
    "id": "EQSmqA-vH0NT"
   },
   "outputs": [],
   "source": [
    "data['text'] = [preprocess(text) for text in data.tweet_text]"
   ]
  },
  {
   "cell_type": "code",
   "execution_count": 326,
   "metadata": {
    "colab": {},
    "colab_type": "code",
    "id": "7kX-WoJDH0NV"
   },
   "outputs": [
    {
     "name": "stdout",
     "output_type": "stream",
     "text": [
      "                                             tweet_text  \\\n",
      "0     .@wesley83 I have a 3G iPhone. After 3 hrs twe...   \n",
      "1     @jessedee Know about @fludapp ? Awesome iPad/i...   \n",
      "2     @swonderlin Can not wait for #iPad 2 also. The...   \n",
      "3     @sxsw I hope this year's festival isn't as cra...   \n",
      "4     @sxtxstate great stuff on Fri #SXSW: Marissa M...   \n",
      "5     @teachntech00 New iPad Apps For #SpeechTherapy...   \n",
      "6                                                   NaN   \n",
      "7     #SXSW is just starting, #CTIA is around the co...   \n",
      "8     Beautifully smart and simple idea RT @madebyma...   \n",
      "9     Counting down the days to #sxsw plus strong Ca...   \n",
      "10    Excited to meet the @samsungmobileus at #sxsw ...   \n",
      "11    Find &amp; Start Impromptu Parties at #SXSW Wi...   \n",
      "12    Foursquare ups the game, just in time for #SXS...   \n",
      "13    Gotta love this #SXSW Google Calendar featurin...   \n",
      "14    Great #sxsw ipad app from @madebymany: http://...   \n",
      "15    haha, awesomely rad iPad app by @madebymany ht...   \n",
      "16    Holler Gram for iPad on the iTunes App Store -...   \n",
      "17    I just noticed DST is coming this weekend. How...   \n",
      "18    Just added my #SXSW flights to @planely. Match...   \n",
      "19    Must have #SXSW app! RT @malbonster: Lovely re...   \n",
      "20    Need to buy an iPad2 while I'm in Austin at #s...   \n",
      "21    Oh. My. God. The #SXSW app for iPad is pure, u...   \n",
      "22    Okay, this is really it: yay new @Foursquare f...   \n",
      "23    Photo: Just installed the #SXSW iPhone app, wh...   \n",
      "24    Really enjoying the changes in Gowalla 3.0 for...   \n",
      "25    RT @LaurieShook: I'm looking forward to the #S...   \n",
      "26    RT haha, awesomely rad iPad app by @madebymany...   \n",
      "27    someone started an #austin @PartnerHub group i...   \n",
      "28    The new #4sq3 looks like it is going to rock. ...   \n",
      "29    They were right, the @gowalla 3 app on #androi...   \n",
      "...                                                 ...   \n",
      "9063  @mention You should get the iPad 2  to save yo...   \n",
      "9064  @mention you should see the line here at #SXSW...   \n",
      "9065  Soooo do you think Apple will have a mobile st...   \n",
      "9066  How much you want to bet Apple is disproportio...   \n",
      "9067  &quot;If you were able to afford to attend  #s...   \n",
      "9068  @mention you'll be at the google party tonight...   \n",
      "9069  @mention You're not sure how many you ate? Tha...   \n",
      "9070  You know you've made it to #sxsw when you see ...   \n",
      "9071  what are your essentials for #SxSW?  Mine? poc...   \n",
      "9072  @mention your iPhone 4 cases are Rad and Ready...   \n",
      "9073  At #SXSW your iphone charger is your best friend.   \n",
      "9074  At &quot;Your Mom Has an iPad: Designing for B...   \n",
      "9075  At &quot;Your Mom Has an iPad&quot; session #y...   \n",
      "9076  At &quot;Your Mom Has an iPad&quot; session at...   \n",
      "9077  @mention your PR guy just convinced me to swit...   \n",
      "9078  Cue the hype RT @mention We interrupt your reg...   \n",
      "9079  &quot;papyrus...sort of like the ipad&quot; - ...   \n",
      "9080  Diller says Google TV &quot;might be run over ...   \n",
      "9081  Google says reports about launch of Circles so...   \n",
      "9082  #Apple guys screaming and running by line to o...   \n",
      "9083  Google says the future is all around you! (ie,...   \n",
      "9084  Google says the future is location, location, ...   \n",
      "9085  I've always used Camera+ for my iPhone b/c it ...   \n",
      "9086  Google says: want to give a lightning talk to ...   \n",
      "9087  @mention Yup, but I don't have a third app yet...   \n",
      "9088                      Ipad everywhere. #SXSW {link}   \n",
      "9089  Wave, buzz... RT @mention We interrupt your re...   \n",
      "9090  Google's Zeiger, a physician never reported po...   \n",
      "9091  Some Verizon iPhone customers complained their...   \n",
      "9092  Ï¡Ïàü_ÊÎÒ£Áââ_£â_ÛâRT @...   \n",
      "\n",
      "      emotion_in_tweet_is_directed_at  \\\n",
      "0                              iPhone   \n",
      "1                  iPad or iPhone App   \n",
      "2                                iPad   \n",
      "3                  iPad or iPhone App   \n",
      "4                              Google   \n",
      "5                                 NaN   \n",
      "6                                 NaN   \n",
      "7                             Android   \n",
      "8                  iPad or iPhone App   \n",
      "9                               Apple   \n",
      "10                            Android   \n",
      "11                        Android App   \n",
      "12                        Android App   \n",
      "13    Other Google product or service   \n",
      "14                 iPad or iPhone App   \n",
      "15                 iPad or iPhone App   \n",
      "16                                NaN   \n",
      "17                             iPhone   \n",
      "18                 iPad or iPhone App   \n",
      "19                 iPad or iPhone App   \n",
      "20                               iPad   \n",
      "21                 iPad or iPhone App   \n",
      "22                        Android App   \n",
      "23                 iPad or iPhone App   \n",
      "24                        Android App   \n",
      "25                               iPad   \n",
      "26                 iPad or iPhone App   \n",
      "27    Other Google product or service   \n",
      "28                 iPad or iPhone App   \n",
      "29                        Android App   \n",
      "...                               ...   \n",
      "9063                             iPad   \n",
      "9064                            Apple   \n",
      "9065                              NaN   \n",
      "9066                            Apple   \n",
      "9067                              NaN   \n",
      "9068                              NaN   \n",
      "9069                              NaN   \n",
      "9070                             iPad   \n",
      "9071                             iPad   \n",
      "9072                           iPhone   \n",
      "9073                              NaN   \n",
      "9074                              NaN   \n",
      "9075                              NaN   \n",
      "9076                              NaN   \n",
      "9077                           iPhone   \n",
      "9078                              NaN   \n",
      "9079                             iPad   \n",
      "9080  Other Google product or service   \n",
      "9081                              NaN   \n",
      "9082                              NaN   \n",
      "9083                              NaN   \n",
      "9084                              NaN   \n",
      "9085               iPad or iPhone App   \n",
      "9086                              NaN   \n",
      "9087                              NaN   \n",
      "9088                             iPad   \n",
      "9089                              NaN   \n",
      "9090                              NaN   \n",
      "9091                              NaN   \n",
      "9092                              NaN   \n",
      "\n",
      "     is_there_an_emotion_directed_at_a_brand_or_product  \\\n",
      "0                                      Negative emotion   \n",
      "1                                      Positive emotion   \n",
      "2                                      Positive emotion   \n",
      "3                                      Negative emotion   \n",
      "4                                      Positive emotion   \n",
      "5                    No emotion toward brand or product   \n",
      "6                    No emotion toward brand or product   \n",
      "7                                      Positive emotion   \n",
      "8                                      Positive emotion   \n",
      "9                                      Positive emotion   \n",
      "10                                     Positive emotion   \n",
      "11                                     Positive emotion   \n",
      "12                                     Positive emotion   \n",
      "13                                     Positive emotion   \n",
      "14                                     Positive emotion   \n",
      "15                                     Positive emotion   \n",
      "16                   No emotion toward brand or product   \n",
      "17                                     Negative emotion   \n",
      "18                                     Positive emotion   \n",
      "19                                     Positive emotion   \n",
      "20                                     Positive emotion   \n",
      "21                                     Positive emotion   \n",
      "22                                     Positive emotion   \n",
      "23                                     Positive emotion   \n",
      "24                                     Positive emotion   \n",
      "25                                     Positive emotion   \n",
      "26                                     Positive emotion   \n",
      "27                                     Positive emotion   \n",
      "28                                     Positive emotion   \n",
      "29                                     Positive emotion   \n",
      "...                                                 ...   \n",
      "9063                                   Positive emotion   \n",
      "9064                                   Positive emotion   \n",
      "9065                 No emotion toward brand or product   \n",
      "9066                                       I can't tell   \n",
      "9067                 No emotion toward brand or product   \n",
      "9068                 No emotion toward brand or product   \n",
      "9069                 No emotion toward brand or product   \n",
      "9070                                   Positive emotion   \n",
      "9071                                   Positive emotion   \n",
      "9072                                   Positive emotion   \n",
      "9073                 No emotion toward brand or product   \n",
      "9074                 No emotion toward brand or product   \n",
      "9075                 No emotion toward brand or product   \n",
      "9076                 No emotion toward brand or product   \n",
      "9077                                   Positive emotion   \n",
      "9078                 No emotion toward brand or product   \n",
      "9079                                   Positive emotion   \n",
      "9080                                   Negative emotion   \n",
      "9081                 No emotion toward brand or product   \n",
      "9082                 No emotion toward brand or product   \n",
      "9083                 No emotion toward brand or product   \n",
      "9084                 No emotion toward brand or product   \n",
      "9085                                   Positive emotion   \n",
      "9086                 No emotion toward brand or product   \n",
      "9087                 No emotion toward brand or product   \n",
      "9088                                   Positive emotion   \n",
      "9089                 No emotion toward brand or product   \n",
      "9090                 No emotion toward brand or product   \n",
      "9091                 No emotion toward brand or product   \n",
      "9092                 No emotion toward brand or product   \n",
      "\n",
      "                                                   text  \n",
      "0     .@wesley83 I have a 3G iPhone. After 3 hrs twe...  \n",
      "1     @jessedee Know about @fludapp ? Awesome iPad/i...  \n",
      "2     @swonderlin Can not wait for #iPad 2 also. The...  \n",
      "3     @sxsw I hope this year's festival isn't as cra...  \n",
      "4     @sxtxstate great stuff on Fri #SXSW: Marissa M...  \n",
      "5     @teachntech00 New iPad Apps For #SpeechTherapy...  \n",
      "6                                                        \n",
      "7     #SXSW is just starting, #CTIA is around the co...  \n",
      "8     Beautifully smart and simple idea RT @madebyma...  \n",
      "9     Counting down the days to #sxsw plus strong Ca...  \n",
      "10    Excited to meet the @samsungmobileus at #sxsw ...  \n",
      "11    Find &amp; Start Impromptu Parties at #SXSW Wi...  \n",
      "12    Foursquare ups the game, just in time for #SXS...  \n",
      "13    Gotta love this #SXSW Google Calendar featurin...  \n",
      "14    Great #sxsw ipad app from @madebymany: http://...  \n",
      "15    haha, awesomely rad iPad app by @madebymany ht...  \n",
      "16    Holler Gram for iPad on the iTunes App Store -...  \n",
      "17    I just noticed DST is coming this weekend. How...  \n",
      "18    Just added my #SXSW flights to @planely. Match...  \n",
      "19    Must have #SXSW app! RT @malbonster: Lovely re...  \n",
      "20    Need to buy an iPad2 while I'm in Austin at #s...  \n",
      "21    Oh. My. God. The #SXSW app for iPad is pure, u...  \n",
      "22    Okay, this is really it: yay new @Foursquare f...  \n",
      "23    Photo: Just installed the #SXSW iPhone app, wh...  \n",
      "24    Really enjoying the changes in Gowalla 3.0 for...  \n",
      "25    RT @LaurieShook: I'm looking forward to the #S...  \n",
      "26    RT haha, awesomely rad iPad app by @madebymany...  \n",
      "27    someone started an #austin @PartnerHub group i...  \n",
      "28    The new #4sq3 looks like it is going to rock. ...  \n",
      "29    They were right, the @gowalla 3 app on #androi...  \n",
      "...                                                 ...  \n",
      "9063  @mention You should get the iPad 2  to save yo...  \n",
      "9064  @mention you should see the line here at #SXSW...  \n",
      "9065  Soooo do you think Apple will have a mobile st...  \n",
      "9066  How much you want to bet Apple is disproportio...  \n",
      "9067  &quot;If you were able to afford to attend  #s...  \n",
      "9068  @mention you'll be at the google party tonight...  \n",
      "9069  @mention You're not sure how many you ate? Tha...  \n",
      "9070  You know you've made it to #sxsw when you see ...  \n",
      "9071  what are your essentials for #SxSW?  Mine? poc...  \n",
      "9072  @mention your iPhone 4 cases are Rad and Ready...  \n",
      "9073  At #SXSW your iphone charger is your best friend.  \n",
      "9074  At &quot;Your Mom Has an iPad: Designing for B...  \n",
      "9075  At &quot;Your Mom Has an iPad&quot; session #y...  \n",
      "9076  At &quot;Your Mom Has an iPad&quot; session at...  \n",
      "9077  @mention your PR guy just convinced me to swit...  \n",
      "9078  Cue the hype RT @mention We interrupt your reg...  \n",
      "9079  &quot;papyrus...sort of like the ipad&quot; - ...  \n",
      "9080  Diller says Google TV &quot;might be run over ...  \n",
      "9081  Google says reports about launch of Circles so...  \n",
      "9082  #Apple guys screaming and running by line to o...  \n",
      "9083  Google says the future is all around you! (ie,...  \n",
      "9084  Google says the future is location, location, ...  \n",
      "9085  I've always used Camera+ for my iPhone b/c it ...  \n",
      "9086  Google says: want to give a lightning talk to ...  \n",
      "9087  @mention Yup, but I don't have a third app yet...  \n",
      "9088                      Ipad everywhere. #SXSW {link}  \n",
      "9089  Wave, buzz... RT @mention We interrupt your re...  \n",
      "9090  Google's Zeiger, a physician never reported po...  \n",
      "9091  Some Verizon iPhone customers complained their...  \n",
      "9092                                                     \n",
      "\n",
      "[9093 rows x 4 columns]\n"
     ]
    }
   ],
   "source": [
    "print (data)"
   ]
  },
  {
   "cell_type": "markdown",
   "metadata": {
    "colab_type": "text",
    "id": "OGWB3P2WH0NY"
   },
   "source": [
    "### 15. Consider only rows having Positive emotion and Negative emotion and remove other rows from the dataframe."
   ]
  },
  {
   "cell_type": "code",
   "execution_count": 327,
   "metadata": {
    "colab": {},
    "colab_type": "code",
    "id": "bdgA_8N2H0NY"
   },
   "outputs": [
    {
     "name": "stdout",
     "output_type": "stream",
     "text": [
      "<class 'pandas.core.frame.DataFrame'>\n",
      "RangeIndex: 9093 entries, 0 to 9092\n",
      "Data columns (total 4 columns):\n",
      "tweet_text                                            9092 non-null object\n",
      "emotion_in_tweet_is_directed_at                       3291 non-null object\n",
      "is_there_an_emotion_directed_at_a_brand_or_product    9093 non-null object\n",
      "text                                                  9093 non-null object\n",
      "dtypes: object(4)\n",
      "memory usage: 284.2+ KB\n"
     ]
    }
   ],
   "source": [
    "data.info()\n",
    "data[data.isnull().any(axis=1)].head()\n",
    "\n",
    "data=data[data[\"is_there_an_emotion_directed_at_a_brand_or_product\"].isin([\"Positive emotion\", \"Negative emotion\"])]"
   ]
  },
  {
   "cell_type": "code",
   "execution_count": null,
   "metadata": {
    "colab": {},
    "colab_type": "code",
    "id": "_Jlu-reIH0Na"
   },
   "outputs": [],
   "source": []
  },
  {
   "cell_type": "markdown",
   "metadata": {
    "colab_type": "text",
    "id": "SotCRvkDH0Nf"
   },
   "source": [
    "### 16. Represent text as numerical data using `CountVectorizer` and get the document term frequency matrix\n",
    "\n",
    "#### Use `vect` as the variable name for initialising CountVectorizer."
   ]
  },
  {
   "cell_type": "code",
   "execution_count": 328,
   "metadata": {
    "colab": {},
    "colab_type": "code",
    "id": "YcbkY4sgH0Ng"
   },
   "outputs": [
    {
     "data": {
      "text/plain": [
       "CountVectorizer(analyzer='word', binary=False, decode_error='strict',\n",
       "        dtype=<class 'numpy.int64'>, encoding='utf-8', input='content',\n",
       "        lowercase=True, max_df=1.0, max_features=None, min_df=1,\n",
       "        ngram_range=(1, 1), preprocessor=None, stop_words=None,\n",
       "        strip_accents=None, token_pattern='(?u)\\\\b\\\\w\\\\w+\\\\b',\n",
       "        tokenizer=None, vocabulary=None)"
      ]
     },
     "execution_count": 328,
     "metadata": {},
     "output_type": "execute_result"
    }
   ],
   "source": [
    "from sklearn.feature_extraction.text import CountVectorizer\n",
    "vect = CountVectorizer()\n",
    "vect.fit(data.tweet_text)"
   ]
  },
  {
   "cell_type": "code",
   "execution_count": 329,
   "metadata": {
    "colab": {},
    "colab_type": "code",
    "id": "KyXtZGr-H0Nl"
   },
   "outputs": [
    {
     "name": "stdout",
     "output_type": "stream",
     "text": [
      "CountVectorizer(analyzer='word', binary=False, decode_error='strict',\n",
      "        dtype=<class 'numpy.int64'>, encoding='utf-8', input='content',\n",
      "        lowercase=True, max_df=1.0, max_features=None, min_df=1,\n",
      "        ngram_range=(1, 1), preprocessor=None, stop_words=None,\n",
      "        strip_accents=None, token_pattern='(?u)\\\\b\\\\w\\\\w+\\\\b',\n",
      "        tokenizer=None, vocabulary=None)\n"
     ]
    }
   ],
   "source": [
    "print (vect)"
   ]
  },
  {
   "cell_type": "code",
   "execution_count": null,
   "metadata": {
    "colab": {},
    "colab_type": "code",
    "id": "Z4LUM-XPH0Nn"
   },
   "outputs": [],
   "source": []
  },
  {
   "cell_type": "code",
   "execution_count": null,
   "metadata": {
    "colab": {},
    "colab_type": "code",
    "id": "aIdZYxJtH0Nq"
   },
   "outputs": [],
   "source": []
  },
  {
   "cell_type": "markdown",
   "metadata": {
    "colab_type": "text",
    "id": "5pxd5fSHH0Nt"
   },
   "source": [
    "### 17. Find number of different words in vocabulary"
   ]
  },
  {
   "cell_type": "code",
   "execution_count": 330,
   "metadata": {
    "colab": {},
    "colab_type": "code",
    "id": "p1DQ2LdNH0Nu"
   },
   "outputs": [
    {
     "data": {
      "text/plain": [
       "6022"
      ]
     },
     "execution_count": 330,
     "metadata": {},
     "output_type": "execute_result"
    }
   ],
   "source": [
    "len(vect.get_feature_names())"
   ]
  },
  {
   "cell_type": "markdown",
   "metadata": {
    "colab_type": "text",
    "id": "dwtgjTBeH0Ny"
   },
   "source": [
    "#### Tip: To see all available functions for an Object use dir"
   ]
  },
  {
   "cell_type": "code",
   "execution_count": 331,
   "metadata": {
    "colab": {},
    "colab_type": "code",
    "id": "2n_iCcTNH0N0"
   },
   "outputs": [
    {
     "data": {
      "text/plain": [
       "['__class__',\n",
       " '__delattr__',\n",
       " '__dict__',\n",
       " '__dir__',\n",
       " '__doc__',\n",
       " '__eq__',\n",
       " '__format__',\n",
       " '__ge__',\n",
       " '__getattribute__',\n",
       " '__getstate__',\n",
       " '__gt__',\n",
       " '__hash__',\n",
       " '__init__',\n",
       " '__init_subclass__',\n",
       " '__le__',\n",
       " '__lt__',\n",
       " '__module__',\n",
       " '__ne__',\n",
       " '__new__',\n",
       " '__reduce__',\n",
       " '__reduce_ex__',\n",
       " '__repr__',\n",
       " '__setattr__',\n",
       " '__setstate__',\n",
       " '__sizeof__',\n",
       " '__str__',\n",
       " '__subclasshook__',\n",
       " '__weakref__',\n",
       " '_char_ngrams',\n",
       " '_char_wb_ngrams',\n",
       " '_check_stop_words_consistency',\n",
       " '_check_vocabulary',\n",
       " '_count_vocab',\n",
       " '_get_param_names',\n",
       " '_limit_features',\n",
       " '_sort_features',\n",
       " '_stop_words_id',\n",
       " '_validate_params',\n",
       " '_validate_vocabulary',\n",
       " '_white_spaces',\n",
       " '_word_ngrams',\n",
       " 'analyzer',\n",
       " 'binary',\n",
       " 'build_analyzer',\n",
       " 'build_preprocessor',\n",
       " 'build_tokenizer',\n",
       " 'decode',\n",
       " 'decode_error',\n",
       " 'dtype',\n",
       " 'encoding',\n",
       " 'fit',\n",
       " 'fit_transform',\n",
       " 'fixed_vocabulary_',\n",
       " 'get_feature_names',\n",
       " 'get_params',\n",
       " 'get_stop_words',\n",
       " 'input',\n",
       " 'inverse_transform',\n",
       " 'lowercase',\n",
       " 'max_df',\n",
       " 'max_features',\n",
       " 'min_df',\n",
       " 'ngram_range',\n",
       " 'preprocessor',\n",
       " 'set_params',\n",
       " 'stop_words',\n",
       " 'stop_words_',\n",
       " 'strip_accents',\n",
       " 'token_pattern',\n",
       " 'tokenizer',\n",
       " 'transform',\n",
       " 'vocabulary',\n",
       " 'vocabulary_']"
      ]
     },
     "execution_count": 331,
     "metadata": {},
     "output_type": "execute_result"
    }
   ],
   "source": [
    "dir(vect)"
   ]
  },
  {
   "cell_type": "markdown",
   "metadata": {
    "colab_type": "text",
    "id": "ShA6D8jKH0N5"
   },
   "source": [
    "### 18. Find out how many Positive and Negative emotions are there.\n",
    "\n",
    "Hint: Use value_counts on that column"
   ]
  },
  {
   "cell_type": "code",
   "execution_count": 332,
   "metadata": {
    "colab": {},
    "colab_type": "code",
    "id": "q7LAl5pzH0N6"
   },
   "outputs": [
    {
     "data": {
      "text/plain": [
       "Positive emotion    2978\n",
       "Negative emotion     570\n",
       "Name: is_there_an_emotion_directed_at_a_brand_or_product, dtype: int64"
      ]
     },
     "execution_count": 332,
     "metadata": {},
     "output_type": "execute_result"
    }
   ],
   "source": [
    "data['is_there_an_emotion_directed_at_a_brand_or_product'].value_counts()"
   ]
  },
  {
   "cell_type": "markdown",
   "metadata": {
    "colab_type": "text",
    "id": "IUvgj0FoH0N9"
   },
   "source": [
    "### 19. Change the labels for Positive and Negative emotions as 1 and 0 respectively and store in a different column in the same dataframe named 'Label'\n",
    "\n",
    "Hint: use map on that column and give labels"
   ]
  },
  {
   "cell_type": "code",
   "execution_count": 333,
   "metadata": {
    "colab": {},
    "colab_type": "code",
    "id": "YftKwFv7H0N9"
   },
   "outputs": [],
   "source": [
    "data['Label'] = np.where(data['is_there_an_emotion_directed_at_a_brand_or_product'] =='Positive emotion', 1, 0)"
   ]
  },
  {
   "cell_type": "code",
   "execution_count": 334,
   "metadata": {},
   "outputs": [
    {
     "data": {
      "text/html": [
       "<div>\n",
       "<style scoped>\n",
       "    .dataframe tbody tr th:only-of-type {\n",
       "        vertical-align: middle;\n",
       "    }\n",
       "\n",
       "    .dataframe tbody tr th {\n",
       "        vertical-align: top;\n",
       "    }\n",
       "\n",
       "    .dataframe thead th {\n",
       "        text-align: right;\n",
       "    }\n",
       "</style>\n",
       "<table border=\"1\" class=\"dataframe\">\n",
       "  <thead>\n",
       "    <tr style=\"text-align: right;\">\n",
       "      <th></th>\n",
       "      <th>tweet_text</th>\n",
       "      <th>emotion_in_tweet_is_directed_at</th>\n",
       "      <th>is_there_an_emotion_directed_at_a_brand_or_product</th>\n",
       "      <th>text</th>\n",
       "      <th>Label</th>\n",
       "    </tr>\n",
       "  </thead>\n",
       "  <tbody>\n",
       "    <tr>\n",
       "      <th>0</th>\n",
       "      <td>.@wesley83 I have a 3G iPhone. After 3 hrs twe...</td>\n",
       "      <td>iPhone</td>\n",
       "      <td>Negative emotion</td>\n",
       "      <td>.@wesley83 I have a 3G iPhone. After 3 hrs twe...</td>\n",
       "      <td>0</td>\n",
       "    </tr>\n",
       "    <tr>\n",
       "      <th>1</th>\n",
       "      <td>@jessedee Know about @fludapp ? Awesome iPad/i...</td>\n",
       "      <td>iPad or iPhone App</td>\n",
       "      <td>Positive emotion</td>\n",
       "      <td>@jessedee Know about @fludapp ? Awesome iPad/i...</td>\n",
       "      <td>1</td>\n",
       "    </tr>\n",
       "    <tr>\n",
       "      <th>2</th>\n",
       "      <td>@swonderlin Can not wait for #iPad 2 also. The...</td>\n",
       "      <td>iPad</td>\n",
       "      <td>Positive emotion</td>\n",
       "      <td>@swonderlin Can not wait for #iPad 2 also. The...</td>\n",
       "      <td>1</td>\n",
       "    </tr>\n",
       "    <tr>\n",
       "      <th>3</th>\n",
       "      <td>@sxsw I hope this year's festival isn't as cra...</td>\n",
       "      <td>iPad or iPhone App</td>\n",
       "      <td>Negative emotion</td>\n",
       "      <td>@sxsw I hope this year's festival isn't as cra...</td>\n",
       "      <td>0</td>\n",
       "    </tr>\n",
       "    <tr>\n",
       "      <th>4</th>\n",
       "      <td>@sxtxstate great stuff on Fri #SXSW: Marissa M...</td>\n",
       "      <td>Google</td>\n",
       "      <td>Positive emotion</td>\n",
       "      <td>@sxtxstate great stuff on Fri #SXSW: Marissa M...</td>\n",
       "      <td>1</td>\n",
       "    </tr>\n",
       "    <tr>\n",
       "      <th>7</th>\n",
       "      <td>#SXSW is just starting, #CTIA is around the co...</td>\n",
       "      <td>Android</td>\n",
       "      <td>Positive emotion</td>\n",
       "      <td>#SXSW is just starting, #CTIA is around the co...</td>\n",
       "      <td>1</td>\n",
       "    </tr>\n",
       "    <tr>\n",
       "      <th>8</th>\n",
       "      <td>Beautifully smart and simple idea RT @madebyma...</td>\n",
       "      <td>iPad or iPhone App</td>\n",
       "      <td>Positive emotion</td>\n",
       "      <td>Beautifully smart and simple idea RT @madebyma...</td>\n",
       "      <td>1</td>\n",
       "    </tr>\n",
       "    <tr>\n",
       "      <th>9</th>\n",
       "      <td>Counting down the days to #sxsw plus strong Ca...</td>\n",
       "      <td>Apple</td>\n",
       "      <td>Positive emotion</td>\n",
       "      <td>Counting down the days to #sxsw plus strong Ca...</td>\n",
       "      <td>1</td>\n",
       "    </tr>\n",
       "    <tr>\n",
       "      <th>10</th>\n",
       "      <td>Excited to meet the @samsungmobileus at #sxsw ...</td>\n",
       "      <td>Android</td>\n",
       "      <td>Positive emotion</td>\n",
       "      <td>Excited to meet the @samsungmobileus at #sxsw ...</td>\n",
       "      <td>1</td>\n",
       "    </tr>\n",
       "    <tr>\n",
       "      <th>11</th>\n",
       "      <td>Find &amp;amp; Start Impromptu Parties at #SXSW Wi...</td>\n",
       "      <td>Android App</td>\n",
       "      <td>Positive emotion</td>\n",
       "      <td>Find &amp;amp; Start Impromptu Parties at #SXSW Wi...</td>\n",
       "      <td>1</td>\n",
       "    </tr>\n",
       "    <tr>\n",
       "      <th>12</th>\n",
       "      <td>Foursquare ups the game, just in time for #SXS...</td>\n",
       "      <td>Android App</td>\n",
       "      <td>Positive emotion</td>\n",
       "      <td>Foursquare ups the game, just in time for #SXS...</td>\n",
       "      <td>1</td>\n",
       "    </tr>\n",
       "    <tr>\n",
       "      <th>13</th>\n",
       "      <td>Gotta love this #SXSW Google Calendar featurin...</td>\n",
       "      <td>Other Google product or service</td>\n",
       "      <td>Positive emotion</td>\n",
       "      <td>Gotta love this #SXSW Google Calendar featurin...</td>\n",
       "      <td>1</td>\n",
       "    </tr>\n",
       "    <tr>\n",
       "      <th>14</th>\n",
       "      <td>Great #sxsw ipad app from @madebymany: http://...</td>\n",
       "      <td>iPad or iPhone App</td>\n",
       "      <td>Positive emotion</td>\n",
       "      <td>Great #sxsw ipad app from @madebymany: http://...</td>\n",
       "      <td>1</td>\n",
       "    </tr>\n",
       "    <tr>\n",
       "      <th>15</th>\n",
       "      <td>haha, awesomely rad iPad app by @madebymany ht...</td>\n",
       "      <td>iPad or iPhone App</td>\n",
       "      <td>Positive emotion</td>\n",
       "      <td>haha, awesomely rad iPad app by @madebymany ht...</td>\n",
       "      <td>1</td>\n",
       "    </tr>\n",
       "    <tr>\n",
       "      <th>17</th>\n",
       "      <td>I just noticed DST is coming this weekend. How...</td>\n",
       "      <td>iPhone</td>\n",
       "      <td>Negative emotion</td>\n",
       "      <td>I just noticed DST is coming this weekend. How...</td>\n",
       "      <td>0</td>\n",
       "    </tr>\n",
       "    <tr>\n",
       "      <th>18</th>\n",
       "      <td>Just added my #SXSW flights to @planely. Match...</td>\n",
       "      <td>iPad or iPhone App</td>\n",
       "      <td>Positive emotion</td>\n",
       "      <td>Just added my #SXSW flights to @planely. Match...</td>\n",
       "      <td>1</td>\n",
       "    </tr>\n",
       "    <tr>\n",
       "      <th>19</th>\n",
       "      <td>Must have #SXSW app! RT @malbonster: Lovely re...</td>\n",
       "      <td>iPad or iPhone App</td>\n",
       "      <td>Positive emotion</td>\n",
       "      <td>Must have #SXSW app! RT @malbonster: Lovely re...</td>\n",
       "      <td>1</td>\n",
       "    </tr>\n",
       "    <tr>\n",
       "      <th>20</th>\n",
       "      <td>Need to buy an iPad2 while I'm in Austin at #s...</td>\n",
       "      <td>iPad</td>\n",
       "      <td>Positive emotion</td>\n",
       "      <td>Need to buy an iPad2 while I'm in Austin at #s...</td>\n",
       "      <td>1</td>\n",
       "    </tr>\n",
       "    <tr>\n",
       "      <th>21</th>\n",
       "      <td>Oh. My. God. The #SXSW app for iPad is pure, u...</td>\n",
       "      <td>iPad or iPhone App</td>\n",
       "      <td>Positive emotion</td>\n",
       "      <td>Oh. My. God. The #SXSW app for iPad is pure, u...</td>\n",
       "      <td>1</td>\n",
       "    </tr>\n",
       "    <tr>\n",
       "      <th>22</th>\n",
       "      <td>Okay, this is really it: yay new @Foursquare f...</td>\n",
       "      <td>Android App</td>\n",
       "      <td>Positive emotion</td>\n",
       "      <td>Okay, this is really it: yay new @Foursquare f...</td>\n",
       "      <td>1</td>\n",
       "    </tr>\n",
       "    <tr>\n",
       "      <th>23</th>\n",
       "      <td>Photo: Just installed the #SXSW iPhone app, wh...</td>\n",
       "      <td>iPad or iPhone App</td>\n",
       "      <td>Positive emotion</td>\n",
       "      <td>Photo: Just installed the #SXSW iPhone app, wh...</td>\n",
       "      <td>1</td>\n",
       "    </tr>\n",
       "    <tr>\n",
       "      <th>24</th>\n",
       "      <td>Really enjoying the changes in Gowalla 3.0 for...</td>\n",
       "      <td>Android App</td>\n",
       "      <td>Positive emotion</td>\n",
       "      <td>Really enjoying the changes in Gowalla 3.0 for...</td>\n",
       "      <td>1</td>\n",
       "    </tr>\n",
       "    <tr>\n",
       "      <th>25</th>\n",
       "      <td>RT @LaurieShook: I'm looking forward to the #S...</td>\n",
       "      <td>iPad</td>\n",
       "      <td>Positive emotion</td>\n",
       "      <td>RT @LaurieShook: I'm looking forward to the #S...</td>\n",
       "      <td>1</td>\n",
       "    </tr>\n",
       "    <tr>\n",
       "      <th>26</th>\n",
       "      <td>RT haha, awesomely rad iPad app by @madebymany...</td>\n",
       "      <td>iPad or iPhone App</td>\n",
       "      <td>Positive emotion</td>\n",
       "      <td>RT haha, awesomely rad iPad app by @madebymany...</td>\n",
       "      <td>1</td>\n",
       "    </tr>\n",
       "    <tr>\n",
       "      <th>27</th>\n",
       "      <td>someone started an #austin @PartnerHub group i...</td>\n",
       "      <td>Other Google product or service</td>\n",
       "      <td>Positive emotion</td>\n",
       "      <td>someone started an #austin @PartnerHub group i...</td>\n",
       "      <td>1</td>\n",
       "    </tr>\n",
       "    <tr>\n",
       "      <th>28</th>\n",
       "      <td>The new #4sq3 looks like it is going to rock. ...</td>\n",
       "      <td>iPad or iPhone App</td>\n",
       "      <td>Positive emotion</td>\n",
       "      <td>The new #4sq3 looks like it is going to rock. ...</td>\n",
       "      <td>1</td>\n",
       "    </tr>\n",
       "    <tr>\n",
       "      <th>29</th>\n",
       "      <td>They were right, the @gowalla 3 app on #androi...</td>\n",
       "      <td>Android App</td>\n",
       "      <td>Positive emotion</td>\n",
       "      <td>They were right, the @gowalla 3 app on #androi...</td>\n",
       "      <td>1</td>\n",
       "    </tr>\n",
       "    <tr>\n",
       "      <th>30</th>\n",
       "      <td>Very smart from @madebymany #hollergram iPad a...</td>\n",
       "      <td>iPad or iPhone App</td>\n",
       "      <td>Positive emotion</td>\n",
       "      <td>Very smart from @madebymany #hollergram iPad a...</td>\n",
       "      <td>1</td>\n",
       "    </tr>\n",
       "    <tr>\n",
       "      <th>31</th>\n",
       "      <td>You must have this app for your iPad if you ar...</td>\n",
       "      <td>iPad or iPhone App</td>\n",
       "      <td>Positive emotion</td>\n",
       "      <td>You must have this app for your iPad if you ar...</td>\n",
       "      <td>1</td>\n",
       "    </tr>\n",
       "    <tr>\n",
       "      <th>36</th>\n",
       "      <td>The best!  RT @mention Ha! First in line for #...</td>\n",
       "      <td>iPad</td>\n",
       "      <td>Positive emotion</td>\n",
       "      <td>The best!  RT @mention Ha! First in line for #...</td>\n",
       "      <td>1</td>\n",
       "    </tr>\n",
       "    <tr>\n",
       "      <th>...</th>\n",
       "      <td>...</td>\n",
       "      <td>...</td>\n",
       "      <td>...</td>\n",
       "      <td>...</td>\n",
       "      <td>...</td>\n",
       "    </tr>\n",
       "    <tr>\n",
       "      <th>9012</th>\n",
       "      <td>Apparently there is an iPad and iPhone app to ...</td>\n",
       "      <td>iPad or iPhone App</td>\n",
       "      <td>Positive emotion</td>\n",
       "      <td>Apparently there is an iPad and iPhone app to ...</td>\n",
       "      <td>1</td>\n",
       "    </tr>\n",
       "    <tr>\n",
       "      <th>9013</th>\n",
       "      <td>On the way to #sxsw, see you all tonight! hope...</td>\n",
       "      <td>iPad</td>\n",
       "      <td>Positive emotion</td>\n",
       "      <td>On the way to #sxsw, see you all tonight! hope...</td>\n",
       "      <td>1</td>\n",
       "    </tr>\n",
       "    <tr>\n",
       "      <th>9017</th>\n",
       "      <td>Stopped by Tron Legacy Lounge at  #SXSW. Audio...</td>\n",
       "      <td>iPad</td>\n",
       "      <td>Positive emotion</td>\n",
       "      <td>Stopped by Tron Legacy Lounge at  #SXSW. Audio...</td>\n",
       "      <td>1</td>\n",
       "    </tr>\n",
       "    <tr>\n",
       "      <th>9018</th>\n",
       "      <td>Second day using my Apple iPad2 at #SXSW and I...</td>\n",
       "      <td>iPad</td>\n",
       "      <td>Positive emotion</td>\n",
       "      <td>Second day using my Apple iPad2 at #SXSW and I...</td>\n",
       "      <td>1</td>\n",
       "    </tr>\n",
       "    <tr>\n",
       "      <th>9022</th>\n",
       "      <td>By the way, I love that y'all are so down to d...</td>\n",
       "      <td>Apple</td>\n",
       "      <td>Positive emotion</td>\n",
       "      <td>By the way, I love that y'all are so down to d...</td>\n",
       "      <td>1</td>\n",
       "    </tr>\n",
       "    <tr>\n",
       "      <th>9025</th>\n",
       "      <td>Absolutely!  RT @mention Timely good schtuff f...</td>\n",
       "      <td>Other Google product or service</td>\n",
       "      <td>Positive emotion</td>\n",
       "      <td>Absolutely!  RT @mention Timely good schtuff f...</td>\n",
       "      <td>1</td>\n",
       "    </tr>\n",
       "    <tr>\n",
       "      <th>9027</th>\n",
       "      <td>Good job y'all!  RT @mention Yes! Gowalla wins...</td>\n",
       "      <td>Android App</td>\n",
       "      <td>Positive emotion</td>\n",
       "      <td>Good job y'all!  RT @mention Yes! Gowalla wins...</td>\n",
       "      <td>1</td>\n",
       "    </tr>\n",
       "    <tr>\n",
       "      <th>9029</th>\n",
       "      <td>[TOP STORY] At #SXSW, Apple schools the market...</td>\n",
       "      <td>Apple</td>\n",
       "      <td>Positive emotion</td>\n",
       "      <td>[TOP STORY] At #SXSW, Apple schools the market...</td>\n",
       "      <td>1</td>\n",
       "    </tr>\n",
       "    <tr>\n",
       "      <th>9033</th>\n",
       "      <td>@mention yep! I can't believe they set up a po...</td>\n",
       "      <td>Apple</td>\n",
       "      <td>Positive emotion</td>\n",
       "      <td>@mention yep! I can't believe they set up a po...</td>\n",
       "      <td>1</td>\n",
       "    </tr>\n",
       "    <tr>\n",
       "      <th>9035</th>\n",
       "      <td>@mention Yes, I picked up the ipad 2 at #SXSW....</td>\n",
       "      <td>iPad</td>\n",
       "      <td>Positive emotion</td>\n",
       "      <td>@mention Yes, I picked up the ipad 2 at #SXSW....</td>\n",
       "      <td>1</td>\n",
       "    </tr>\n",
       "    <tr>\n",
       "      <th>9036</th>\n",
       "      <td>@mention Yes, that's why I favorited it! I wan...</td>\n",
       "      <td>iPad</td>\n",
       "      <td>Positive emotion</td>\n",
       "      <td>@mention Yes, that's why I favorited it! I wan...</td>\n",
       "      <td>1</td>\n",
       "    </tr>\n",
       "    <tr>\n",
       "      <th>9043</th>\n",
       "      <td>Hey is anyone doing #sxsw signing up for the g...</td>\n",
       "      <td>NaN</td>\n",
       "      <td>Negative emotion</td>\n",
       "      <td>Hey is anyone doing #sxsw signing up for the g...</td>\n",
       "      <td>0</td>\n",
       "    </tr>\n",
       "    <tr>\n",
       "      <th>9044</th>\n",
       "      <td>Look everyone! Zomg @mention got an iPad 2 on ...</td>\n",
       "      <td>iPad</td>\n",
       "      <td>Positive emotion</td>\n",
       "      <td>Look everyone! Zomg @mention got an iPad 2 on ...</td>\n",
       "      <td>1</td>\n",
       "    </tr>\n",
       "    <tr>\n",
       "      <th>9045</th>\n",
       "      <td>@mention you are my favorite-- thanks for comi...</td>\n",
       "      <td>iPhone</td>\n",
       "      <td>Positive emotion</td>\n",
       "      <td>@mention you are my favorite-- thanks for comi...</td>\n",
       "      <td>1</td>\n",
       "    </tr>\n",
       "    <tr>\n",
       "      <th>9048</th>\n",
       "      <td>@mention You bet man! Kindle and Apple for sur...</td>\n",
       "      <td>Apple</td>\n",
       "      <td>Positive emotion</td>\n",
       "      <td>@mention You bet man! Kindle and Apple for sur...</td>\n",
       "      <td>1</td>\n",
       "    </tr>\n",
       "    <tr>\n",
       "      <th>9049</th>\n",
       "      <td>@mention you can buy my used iPad and I'll pic...</td>\n",
       "      <td>NaN</td>\n",
       "      <td>Positive emotion</td>\n",
       "      <td>@mention you can buy my used iPad and I'll pic...</td>\n",
       "      <td>1</td>\n",
       "    </tr>\n",
       "    <tr>\n",
       "      <th>9052</th>\n",
       "      <td>@mention You could buy a new iPad 2 tmrw at th...</td>\n",
       "      <td>NaN</td>\n",
       "      <td>Positive emotion</td>\n",
       "      <td>@mention You could buy a new iPad 2 tmrw at th...</td>\n",
       "      <td>1</td>\n",
       "    </tr>\n",
       "    <tr>\n",
       "      <th>9054</th>\n",
       "      <td>Guys, if you ever plan on attending #SXSW, you...</td>\n",
       "      <td>NaN</td>\n",
       "      <td>Positive emotion</td>\n",
       "      <td>Guys, if you ever plan on attending #SXSW, you...</td>\n",
       "      <td>1</td>\n",
       "    </tr>\n",
       "    <tr>\n",
       "      <th>9060</th>\n",
       "      <td>@mention you might also appreciate new iPhone ...</td>\n",
       "      <td>iPad or iPhone App</td>\n",
       "      <td>Positive emotion</td>\n",
       "      <td>@mention you might also appreciate new iPhone ...</td>\n",
       "      <td>1</td>\n",
       "    </tr>\n",
       "    <tr>\n",
       "      <th>9061</th>\n",
       "      <td>@mention You realize I'm still padless? I just...</td>\n",
       "      <td>iPad</td>\n",
       "      <td>Positive emotion</td>\n",
       "      <td>@mention You realize I'm still padless? I just...</td>\n",
       "      <td>1</td>\n",
       "    </tr>\n",
       "    <tr>\n",
       "      <th>9063</th>\n",
       "      <td>@mention You should get the iPad 2  to save yo...</td>\n",
       "      <td>iPad</td>\n",
       "      <td>Positive emotion</td>\n",
       "      <td>@mention You should get the iPad 2  to save yo...</td>\n",
       "      <td>1</td>\n",
       "    </tr>\n",
       "    <tr>\n",
       "      <th>9064</th>\n",
       "      <td>@mention you should see the line here at #SXSW...</td>\n",
       "      <td>Apple</td>\n",
       "      <td>Positive emotion</td>\n",
       "      <td>@mention you should see the line here at #SXSW...</td>\n",
       "      <td>1</td>\n",
       "    </tr>\n",
       "    <tr>\n",
       "      <th>9070</th>\n",
       "      <td>You know you've made it to #sxsw when you see ...</td>\n",
       "      <td>iPad</td>\n",
       "      <td>Positive emotion</td>\n",
       "      <td>You know you've made it to #sxsw when you see ...</td>\n",
       "      <td>1</td>\n",
       "    </tr>\n",
       "    <tr>\n",
       "      <th>9071</th>\n",
       "      <td>what are your essentials for #SxSW?  Mine? poc...</td>\n",
       "      <td>iPad</td>\n",
       "      <td>Positive emotion</td>\n",
       "      <td>what are your essentials for #SxSW?  Mine? poc...</td>\n",
       "      <td>1</td>\n",
       "    </tr>\n",
       "    <tr>\n",
       "      <th>9072</th>\n",
       "      <td>@mention your iPhone 4 cases are Rad and Ready...</td>\n",
       "      <td>iPhone</td>\n",
       "      <td>Positive emotion</td>\n",
       "      <td>@mention your iPhone 4 cases are Rad and Ready...</td>\n",
       "      <td>1</td>\n",
       "    </tr>\n",
       "    <tr>\n",
       "      <th>9077</th>\n",
       "      <td>@mention your PR guy just convinced me to swit...</td>\n",
       "      <td>iPhone</td>\n",
       "      <td>Positive emotion</td>\n",
       "      <td>@mention your PR guy just convinced me to swit...</td>\n",
       "      <td>1</td>\n",
       "    </tr>\n",
       "    <tr>\n",
       "      <th>9079</th>\n",
       "      <td>&amp;quot;papyrus...sort of like the ipad&amp;quot; - ...</td>\n",
       "      <td>iPad</td>\n",
       "      <td>Positive emotion</td>\n",
       "      <td>&amp;quot;papyrus...sort of like the ipad&amp;quot; - ...</td>\n",
       "      <td>1</td>\n",
       "    </tr>\n",
       "    <tr>\n",
       "      <th>9080</th>\n",
       "      <td>Diller says Google TV &amp;quot;might be run over ...</td>\n",
       "      <td>Other Google product or service</td>\n",
       "      <td>Negative emotion</td>\n",
       "      <td>Diller says Google TV &amp;quot;might be run over ...</td>\n",
       "      <td>0</td>\n",
       "    </tr>\n",
       "    <tr>\n",
       "      <th>9085</th>\n",
       "      <td>I've always used Camera+ for my iPhone b/c it ...</td>\n",
       "      <td>iPad or iPhone App</td>\n",
       "      <td>Positive emotion</td>\n",
       "      <td>I've always used Camera+ for my iPhone b/c it ...</td>\n",
       "      <td>1</td>\n",
       "    </tr>\n",
       "    <tr>\n",
       "      <th>9088</th>\n",
       "      <td>Ipad everywhere. #SXSW {link}</td>\n",
       "      <td>iPad</td>\n",
       "      <td>Positive emotion</td>\n",
       "      <td>Ipad everywhere. #SXSW {link}</td>\n",
       "      <td>1</td>\n",
       "    </tr>\n",
       "  </tbody>\n",
       "</table>\n",
       "<p>3548 rows × 5 columns</p>\n",
       "</div>"
      ],
      "text/plain": [
       "                                             tweet_text  \\\n",
       "0     .@wesley83 I have a 3G iPhone. After 3 hrs twe...   \n",
       "1     @jessedee Know about @fludapp ? Awesome iPad/i...   \n",
       "2     @swonderlin Can not wait for #iPad 2 also. The...   \n",
       "3     @sxsw I hope this year's festival isn't as cra...   \n",
       "4     @sxtxstate great stuff on Fri #SXSW: Marissa M...   \n",
       "7     #SXSW is just starting, #CTIA is around the co...   \n",
       "8     Beautifully smart and simple idea RT @madebyma...   \n",
       "9     Counting down the days to #sxsw plus strong Ca...   \n",
       "10    Excited to meet the @samsungmobileus at #sxsw ...   \n",
       "11    Find &amp; Start Impromptu Parties at #SXSW Wi...   \n",
       "12    Foursquare ups the game, just in time for #SXS...   \n",
       "13    Gotta love this #SXSW Google Calendar featurin...   \n",
       "14    Great #sxsw ipad app from @madebymany: http://...   \n",
       "15    haha, awesomely rad iPad app by @madebymany ht...   \n",
       "17    I just noticed DST is coming this weekend. How...   \n",
       "18    Just added my #SXSW flights to @planely. Match...   \n",
       "19    Must have #SXSW app! RT @malbonster: Lovely re...   \n",
       "20    Need to buy an iPad2 while I'm in Austin at #s...   \n",
       "21    Oh. My. God. The #SXSW app for iPad is pure, u...   \n",
       "22    Okay, this is really it: yay new @Foursquare f...   \n",
       "23    Photo: Just installed the #SXSW iPhone app, wh...   \n",
       "24    Really enjoying the changes in Gowalla 3.0 for...   \n",
       "25    RT @LaurieShook: I'm looking forward to the #S...   \n",
       "26    RT haha, awesomely rad iPad app by @madebymany...   \n",
       "27    someone started an #austin @PartnerHub group i...   \n",
       "28    The new #4sq3 looks like it is going to rock. ...   \n",
       "29    They were right, the @gowalla 3 app on #androi...   \n",
       "30    Very smart from @madebymany #hollergram iPad a...   \n",
       "31    You must have this app for your iPad if you ar...   \n",
       "36    The best!  RT @mention Ha! First in line for #...   \n",
       "...                                                 ...   \n",
       "9012  Apparently there is an iPad and iPhone app to ...   \n",
       "9013  On the way to #sxsw, see you all tonight! hope...   \n",
       "9017  Stopped by Tron Legacy Lounge at  #SXSW. Audio...   \n",
       "9018  Second day using my Apple iPad2 at #SXSW and I...   \n",
       "9022  By the way, I love that y'all are so down to d...   \n",
       "9025  Absolutely!  RT @mention Timely good schtuff f...   \n",
       "9027  Good job y'all!  RT @mention Yes! Gowalla wins...   \n",
       "9029  [TOP STORY] At #SXSW, Apple schools the market...   \n",
       "9033  @mention yep! I can't believe they set up a po...   \n",
       "9035  @mention Yes, I picked up the ipad 2 at #SXSW....   \n",
       "9036  @mention Yes, that's why I favorited it! I wan...   \n",
       "9043  Hey is anyone doing #sxsw signing up for the g...   \n",
       "9044  Look everyone! Zomg @mention got an iPad 2 on ...   \n",
       "9045  @mention you are my favorite-- thanks for comi...   \n",
       "9048  @mention You bet man! Kindle and Apple for sur...   \n",
       "9049  @mention you can buy my used iPad and I'll pic...   \n",
       "9052  @mention You could buy a new iPad 2 tmrw at th...   \n",
       "9054  Guys, if you ever plan on attending #SXSW, you...   \n",
       "9060  @mention you might also appreciate new iPhone ...   \n",
       "9061  @mention You realize I'm still padless? I just...   \n",
       "9063  @mention You should get the iPad 2  to save yo...   \n",
       "9064  @mention you should see the line here at #SXSW...   \n",
       "9070  You know you've made it to #sxsw when you see ...   \n",
       "9071  what are your essentials for #SxSW?  Mine? poc...   \n",
       "9072  @mention your iPhone 4 cases are Rad and Ready...   \n",
       "9077  @mention your PR guy just convinced me to swit...   \n",
       "9079  &quot;papyrus...sort of like the ipad&quot; - ...   \n",
       "9080  Diller says Google TV &quot;might be run over ...   \n",
       "9085  I've always used Camera+ for my iPhone b/c it ...   \n",
       "9088                      Ipad everywhere. #SXSW {link}   \n",
       "\n",
       "      emotion_in_tweet_is_directed_at  \\\n",
       "0                              iPhone   \n",
       "1                  iPad or iPhone App   \n",
       "2                                iPad   \n",
       "3                  iPad or iPhone App   \n",
       "4                              Google   \n",
       "7                             Android   \n",
       "8                  iPad or iPhone App   \n",
       "9                               Apple   \n",
       "10                            Android   \n",
       "11                        Android App   \n",
       "12                        Android App   \n",
       "13    Other Google product or service   \n",
       "14                 iPad or iPhone App   \n",
       "15                 iPad or iPhone App   \n",
       "17                             iPhone   \n",
       "18                 iPad or iPhone App   \n",
       "19                 iPad or iPhone App   \n",
       "20                               iPad   \n",
       "21                 iPad or iPhone App   \n",
       "22                        Android App   \n",
       "23                 iPad or iPhone App   \n",
       "24                        Android App   \n",
       "25                               iPad   \n",
       "26                 iPad or iPhone App   \n",
       "27    Other Google product or service   \n",
       "28                 iPad or iPhone App   \n",
       "29                        Android App   \n",
       "30                 iPad or iPhone App   \n",
       "31                 iPad or iPhone App   \n",
       "36                               iPad   \n",
       "...                               ...   \n",
       "9012               iPad or iPhone App   \n",
       "9013                             iPad   \n",
       "9017                             iPad   \n",
       "9018                             iPad   \n",
       "9022                            Apple   \n",
       "9025  Other Google product or service   \n",
       "9027                      Android App   \n",
       "9029                            Apple   \n",
       "9033                            Apple   \n",
       "9035                             iPad   \n",
       "9036                             iPad   \n",
       "9043                              NaN   \n",
       "9044                             iPad   \n",
       "9045                           iPhone   \n",
       "9048                            Apple   \n",
       "9049                              NaN   \n",
       "9052                              NaN   \n",
       "9054                              NaN   \n",
       "9060               iPad or iPhone App   \n",
       "9061                             iPad   \n",
       "9063                             iPad   \n",
       "9064                            Apple   \n",
       "9070                             iPad   \n",
       "9071                             iPad   \n",
       "9072                           iPhone   \n",
       "9077                           iPhone   \n",
       "9079                             iPad   \n",
       "9080  Other Google product or service   \n",
       "9085               iPad or iPhone App   \n",
       "9088                             iPad   \n",
       "\n",
       "     is_there_an_emotion_directed_at_a_brand_or_product  \\\n",
       "0                                      Negative emotion   \n",
       "1                                      Positive emotion   \n",
       "2                                      Positive emotion   \n",
       "3                                      Negative emotion   \n",
       "4                                      Positive emotion   \n",
       "7                                      Positive emotion   \n",
       "8                                      Positive emotion   \n",
       "9                                      Positive emotion   \n",
       "10                                     Positive emotion   \n",
       "11                                     Positive emotion   \n",
       "12                                     Positive emotion   \n",
       "13                                     Positive emotion   \n",
       "14                                     Positive emotion   \n",
       "15                                     Positive emotion   \n",
       "17                                     Negative emotion   \n",
       "18                                     Positive emotion   \n",
       "19                                     Positive emotion   \n",
       "20                                     Positive emotion   \n",
       "21                                     Positive emotion   \n",
       "22                                     Positive emotion   \n",
       "23                                     Positive emotion   \n",
       "24                                     Positive emotion   \n",
       "25                                     Positive emotion   \n",
       "26                                     Positive emotion   \n",
       "27                                     Positive emotion   \n",
       "28                                     Positive emotion   \n",
       "29                                     Positive emotion   \n",
       "30                                     Positive emotion   \n",
       "31                                     Positive emotion   \n",
       "36                                     Positive emotion   \n",
       "...                                                 ...   \n",
       "9012                                   Positive emotion   \n",
       "9013                                   Positive emotion   \n",
       "9017                                   Positive emotion   \n",
       "9018                                   Positive emotion   \n",
       "9022                                   Positive emotion   \n",
       "9025                                   Positive emotion   \n",
       "9027                                   Positive emotion   \n",
       "9029                                   Positive emotion   \n",
       "9033                                   Positive emotion   \n",
       "9035                                   Positive emotion   \n",
       "9036                                   Positive emotion   \n",
       "9043                                   Negative emotion   \n",
       "9044                                   Positive emotion   \n",
       "9045                                   Positive emotion   \n",
       "9048                                   Positive emotion   \n",
       "9049                                   Positive emotion   \n",
       "9052                                   Positive emotion   \n",
       "9054                                   Positive emotion   \n",
       "9060                                   Positive emotion   \n",
       "9061                                   Positive emotion   \n",
       "9063                                   Positive emotion   \n",
       "9064                                   Positive emotion   \n",
       "9070                                   Positive emotion   \n",
       "9071                                   Positive emotion   \n",
       "9072                                   Positive emotion   \n",
       "9077                                   Positive emotion   \n",
       "9079                                   Positive emotion   \n",
       "9080                                   Negative emotion   \n",
       "9085                                   Positive emotion   \n",
       "9088                                   Positive emotion   \n",
       "\n",
       "                                                   text  Label  \n",
       "0     .@wesley83 I have a 3G iPhone. After 3 hrs twe...      0  \n",
       "1     @jessedee Know about @fludapp ? Awesome iPad/i...      1  \n",
       "2     @swonderlin Can not wait for #iPad 2 also. The...      1  \n",
       "3     @sxsw I hope this year's festival isn't as cra...      0  \n",
       "4     @sxtxstate great stuff on Fri #SXSW: Marissa M...      1  \n",
       "7     #SXSW is just starting, #CTIA is around the co...      1  \n",
       "8     Beautifully smart and simple idea RT @madebyma...      1  \n",
       "9     Counting down the days to #sxsw plus strong Ca...      1  \n",
       "10    Excited to meet the @samsungmobileus at #sxsw ...      1  \n",
       "11    Find &amp; Start Impromptu Parties at #SXSW Wi...      1  \n",
       "12    Foursquare ups the game, just in time for #SXS...      1  \n",
       "13    Gotta love this #SXSW Google Calendar featurin...      1  \n",
       "14    Great #sxsw ipad app from @madebymany: http://...      1  \n",
       "15    haha, awesomely rad iPad app by @madebymany ht...      1  \n",
       "17    I just noticed DST is coming this weekend. How...      0  \n",
       "18    Just added my #SXSW flights to @planely. Match...      1  \n",
       "19    Must have #SXSW app! RT @malbonster: Lovely re...      1  \n",
       "20    Need to buy an iPad2 while I'm in Austin at #s...      1  \n",
       "21    Oh. My. God. The #SXSW app for iPad is pure, u...      1  \n",
       "22    Okay, this is really it: yay new @Foursquare f...      1  \n",
       "23    Photo: Just installed the #SXSW iPhone app, wh...      1  \n",
       "24    Really enjoying the changes in Gowalla 3.0 for...      1  \n",
       "25    RT @LaurieShook: I'm looking forward to the #S...      1  \n",
       "26    RT haha, awesomely rad iPad app by @madebymany...      1  \n",
       "27    someone started an #austin @PartnerHub group i...      1  \n",
       "28    The new #4sq3 looks like it is going to rock. ...      1  \n",
       "29    They were right, the @gowalla 3 app on #androi...      1  \n",
       "30    Very smart from @madebymany #hollergram iPad a...      1  \n",
       "31    You must have this app for your iPad if you ar...      1  \n",
       "36    The best!  RT @mention Ha! First in line for #...      1  \n",
       "...                                                 ...    ...  \n",
       "9012  Apparently there is an iPad and iPhone app to ...      1  \n",
       "9013  On the way to #sxsw, see you all tonight! hope...      1  \n",
       "9017  Stopped by Tron Legacy Lounge at  #SXSW. Audio...      1  \n",
       "9018  Second day using my Apple iPad2 at #SXSW and I...      1  \n",
       "9022  By the way, I love that y'all are so down to d...      1  \n",
       "9025  Absolutely!  RT @mention Timely good schtuff f...      1  \n",
       "9027  Good job y'all!  RT @mention Yes! Gowalla wins...      1  \n",
       "9029  [TOP STORY] At #SXSW, Apple schools the market...      1  \n",
       "9033  @mention yep! I can't believe they set up a po...      1  \n",
       "9035  @mention Yes, I picked up the ipad 2 at #SXSW....      1  \n",
       "9036  @mention Yes, that's why I favorited it! I wan...      1  \n",
       "9043  Hey is anyone doing #sxsw signing up for the g...      0  \n",
       "9044  Look everyone! Zomg @mention got an iPad 2 on ...      1  \n",
       "9045  @mention you are my favorite-- thanks for comi...      1  \n",
       "9048  @mention You bet man! Kindle and Apple for sur...      1  \n",
       "9049  @mention you can buy my used iPad and I'll pic...      1  \n",
       "9052  @mention You could buy a new iPad 2 tmrw at th...      1  \n",
       "9054  Guys, if you ever plan on attending #SXSW, you...      1  \n",
       "9060  @mention you might also appreciate new iPhone ...      1  \n",
       "9061  @mention You realize I'm still padless? I just...      1  \n",
       "9063  @mention You should get the iPad 2  to save yo...      1  \n",
       "9064  @mention you should see the line here at #SXSW...      1  \n",
       "9070  You know you've made it to #sxsw when you see ...      1  \n",
       "9071  what are your essentials for #SxSW?  Mine? poc...      1  \n",
       "9072  @mention your iPhone 4 cases are Rad and Ready...      1  \n",
       "9077  @mention your PR guy just convinced me to swit...      1  \n",
       "9079  &quot;papyrus...sort of like the ipad&quot; - ...      1  \n",
       "9080  Diller says Google TV &quot;might be run over ...      0  \n",
       "9085  I've always used Camera+ for my iPhone b/c it ...      1  \n",
       "9088                      Ipad everywhere. #SXSW {link}      1  \n",
       "\n",
       "[3548 rows x 5 columns]"
      ]
     },
     "execution_count": 334,
     "metadata": {},
     "output_type": "execute_result"
    }
   ],
   "source": [
    "data"
   ]
  },
  {
   "cell_type": "markdown",
   "metadata": {
    "colab_type": "text",
    "id": "3YErwYLCH0N_"
   },
   "source": [
    "### 20. Define the feature set (independent variable or X) to be `text` column and `labels` as target (or dependent variable)  and divide into train and test datasets"
   ]
  },
  {
   "cell_type": "code",
   "execution_count": 355,
   "metadata": {
    "colab": {},
    "colab_type": "code",
    "id": "lNkwrGgEH0OA"
   },
   "outputs": [],
   "source": [
    "from sklearn.model_selection import train_test_split\n",
    "X=data['text']\n",
    "y=data['Label']\n",
    "\n",
    "X_train, X_test, y_train, y_test = train_test_split(X, y, test_size=0.30, random_state=42)\n",
    "\n",
    "\n",
    "X_train = vect.fit_transform(X_train)\n",
    "X_test=vect.transform(X_test)\n",
    "\n",
    "\n"
   ]
  },
  {
   "cell_type": "markdown",
   "metadata": {
    "colab_type": "text",
    "id": "Q5nlCuaaH0OD"
   },
   "source": [
    "## 21. **Predicting the sentiment:**\n",
    "\n",
    "\n",
    "### Use Naive Bayes and Logistic Regression and their accuracy scores for predicting the sentiment of the given text"
   ]
  },
  {
   "cell_type": "code",
   "execution_count": 368,
   "metadata": {
    "colab": {},
    "colab_type": "code",
    "id": "2AbVYssaH0OE"
   },
   "outputs": [
    {
     "name": "stdout",
     "output_type": "stream",
     "text": [
      "0.8610328638497653\n"
     ]
    }
   ],
   "source": [
    "#import from sklearn.naive_bayes \n",
    "from sklearn.naive_bayes import MultinomialNB\n",
    "from sklearn.linear_model import LogisticRegression\n",
    "from sklearn import metrics\n",
    "\n",
    "\n",
    "X_train_dtm = X_train\n",
    "X_test_dtm = X_test\n",
    "\n",
    "# use Naive Bayes to predict the star rating\n",
    "nb = MultinomialNB()\n",
    "nb.fit(X_train_dtm, y_train)\n",
    "y_pred_class = nb.predict(X_test_dtm)\n",
    "\n",
    "# calculate accuracy\n",
    "print (metrics.accuracy_score(y_test, y_pred_class))\n",
    "\n"
   ]
  },
  {
   "cell_type": "code",
   "execution_count": 370,
   "metadata": {
    "colab": {},
    "colab_type": "code",
    "id": "ktXrLhmOH0Of"
   },
   "outputs": [
    {
     "name": "stdout",
     "output_type": "stream",
     "text": [
      "0.8704225352112676\n"
     ]
    },
    {
     "name": "stderr",
     "output_type": "stream",
     "text": [
      "C:\\Users\\RB00001\\Anaconda2\\2.2\\Anaconda2\\lib\\site-packages\\sklearn\\linear_model\\logistic.py:433: FutureWarning: Default solver will be changed to 'lbfgs' in 0.22. Specify a solver to silence this warning.\n",
      "  FutureWarning)\n"
     ]
    }
   ],
   "source": [
    "logreg = LogisticRegression(C=1e9)\n",
    "logreg.fit(X_train_dtm, y_train)\n",
    "y_pred_class = logreg.predict(X_test_dtm)\n",
    "print (metrics.accuracy_score(y_test, y_pred_class))"
   ]
  },
  {
   "cell_type": "code",
   "execution_count": 0,
   "metadata": {
    "colab": {},
    "colab_type": "code",
    "id": "clv2X0kKH0Ok"
   },
   "outputs": [],
   "source": []
  },
  {
   "cell_type": "code",
   "execution_count": 375,
   "metadata": {
    "colab": {},
    "colab_type": "code",
    "id": "K86LRMfdH0Ou"
   },
   "outputs": [
    {
     "name": "stdout",
     "output_type": "stream",
     "text": [
      "  (0, 242)\t1\n",
      "  (0, 371)\t1\n",
      "  (0, 713)\t1\n",
      "  (0, 1322)\t1\n",
      "  (0, 1722)\t1\n",
      "  (0, 2334)\t1\n",
      "  (0, 2769)\t1\n",
      "  (0, 2971)\t1\n",
      "  (0, 3675)\t1\n",
      "  (0, 3832)\t1\n",
      "  (0, 4166)\t1\n",
      "  (0, 4299)\t1\n",
      "  (0, 4313)\t1\n",
      "  (0, 4666)\t1\n",
      "  (1, 128)\t1\n",
      "  (1, 186)\t1\n",
      "  (1, 262)\t1\n",
      "  (1, 315)\t2\n",
      "  (1, 1282)\t1\n",
      "  (1, 1364)\t1\n",
      "  (1, 1888)\t1\n",
      "  (1, 1977)\t1\n",
      "  (1, 1979)\t1\n",
      "  (1, 2158)\t1\n",
      "  (1, 2355)\t1\n",
      "  :\t:\n",
      "  (2480, 3638)\t1\n",
      "  (2480, 4166)\t1\n",
      "  (2480, 4293)\t1\n",
      "  (2481, 1046)\t1\n",
      "  (2481, 1081)\t1\n",
      "  (2481, 1287)\t1\n",
      "  (2481, 1311)\t1\n",
      "  (2481, 1902)\t1\n",
      "  (2481, 2158)\t1\n",
      "  (2481, 2238)\t1\n",
      "  (2481, 2355)\t1\n",
      "  (2481, 2361)\t1\n",
      "  (2481, 2880)\t1\n",
      "  (2481, 4166)\t1\n",
      "  (2482, 844)\t1\n",
      "  (2482, 919)\t1\n",
      "  (2482, 1902)\t1\n",
      "  (2482, 1984)\t1\n",
      "  (2482, 2417)\t1\n",
      "  (2482, 2532)\t1\n",
      "  (2482, 4034)\t1\n",
      "  (2482, 4166)\t1\n",
      "  (2482, 4293)\t1\n",
      "  (2482, 4804)\t1\n",
      "  (2482, 4813)\t1\n"
     ]
    }
   ],
   "source": []
  },
  {
   "cell_type": "markdown",
   "metadata": {
    "colab_type": "text",
    "id": "sw-0B33tH0Ox"
   },
   "source": [
    "## 22. Create a function called `tokenize_predict` which can take count vectorizer object as input and prints the accuracy for x (text) and y (labels)"
   ]
  },
  {
   "cell_type": "code",
   "execution_count": 377,
   "metadata": {
    "colab": {},
    "colab_type": "code",
    "id": "okCTOs1TH0Oy"
   },
   "outputs": [],
   "source": [
    "def tokenize_test(vect):\n",
    "    x_train_dtm = vect.fit_transform(x_train)\n",
    "    print('Features: ', x_train_dtm.shape[1])\n",
    "    x_test_dtm = vect.transform(x_test)\n",
    "    nb = MultinomialNB()\n",
    "    nb.fit(x_train_dtm, y_train)\n",
    "    y_pred_class = nb.predict(x_test_dtm)\n",
    "    print('Accuracy: ', metrics.accuracy_score(y_test, y_pred_class))"
   ]
  },
  {
   "cell_type": "markdown",
   "metadata": {
    "colab_type": "text",
    "id": "JxZ8jfPEH0O0"
   },
   "source": [
    "### Create a count vectorizer function which includes n_grams = 1,2  and pass it to tokenize_predict function to print the accuracy score"
   ]
  },
  {
   "cell_type": "code",
   "execution_count": 378,
   "metadata": {
    "colab": {},
    "colab_type": "code",
    "id": "kdCyAN_IH0O0"
   },
   "outputs": [
    {
     "name": "stdout",
     "output_type": "stream",
     "text": [
      "Features:  24904\n",
      "Accuracy:  0.8666666666666667\n"
     ]
    }
   ],
   "source": [
    "vect = CountVectorizer(ngram_range=(1, 2))\n",
    "x_train, x_test, y_train, y_test = train_test_split(X, y, test_size=0.30, random_state=42)\n",
    "\n",
    "tokenize_test(vect)\n"
   ]
  },
  {
   "cell_type": "markdown",
   "metadata": {
    "colab_type": "text",
    "id": "axepytmgH0O4"
   },
   "source": [
    "### Create a count vectorizer function with stopwords = 'english'  and pass it to tokenize_predict function to print the accuracy score"
   ]
  },
  {
   "cell_type": "code",
   "execution_count": 379,
   "metadata": {
    "colab": {},
    "colab_type": "code",
    "id": "HToGkq7vH0O4"
   },
   "outputs": [
    {
     "name": "stdout",
     "output_type": "stream",
     "text": [
      "Features:  4671\n",
      "Accuracy:  0.8647887323943662\n"
     ]
    }
   ],
   "source": [
    "vect = CountVectorizer(stop_words='english')\n",
    "\n",
    "tokenize_test(vect)"
   ]
  },
  {
   "cell_type": "markdown",
   "metadata": {
    "colab_type": "text",
    "id": "iOIlJRxoH0O7"
   },
   "source": [
    "### Create a count vectorizer function with stopwords = 'english' and max_features =300  and pass it to tokenize_predict function to print the accuracy score"
   ]
  },
  {
   "cell_type": "code",
   "execution_count": 380,
   "metadata": {
    "colab": {},
    "colab_type": "code",
    "id": "6fUhff-oH0O8"
   },
   "outputs": [
    {
     "name": "stdout",
     "output_type": "stream",
     "text": [
      "Features:  300\n",
      "Accuracy:  0.8262910798122066\n"
     ]
    }
   ],
   "source": [
    "vect = CountVectorizer(stop_words='english', max_features=300)\n",
    "tokenize_test(vect)"
   ]
  },
  {
   "cell_type": "markdown",
   "metadata": {
    "colab_type": "text",
    "id": "S2KZNWVkH0PA"
   },
   "source": [
    "### Create a count vectorizer function with n_grams = 1,2  and max_features = 15000  and pass it to tokenize_predict function to print the accuracy score"
   ]
  },
  {
   "cell_type": "code",
   "execution_count": 381,
   "metadata": {
    "colab": {},
    "colab_type": "code",
    "id": "3v9XD082H0PB"
   },
   "outputs": [
    {
     "name": "stdout",
     "output_type": "stream",
     "text": [
      "Features:  15000\n",
      "Accuracy:  0.8647887323943662\n"
     ]
    }
   ],
   "source": [
    "vect = CountVectorizer(ngram_range=(1, 2), max_features=15000)\n",
    "tokenize_test(vect)"
   ]
  },
  {
   "cell_type": "markdown",
   "metadata": {
    "colab_type": "text",
    "id": "We3JK_SRH0PO"
   },
   "source": [
    "### Create a count vectorizer function with n_grams = 1,2  and include terms that appear at least 2 times (min_df = 2)  and pass it to tokenize_predict function to print the accuracy score"
   ]
  },
  {
   "cell_type": "code",
   "execution_count": 382,
   "metadata": {
    "colab": {},
    "colab_type": "code",
    "id": "fUHrfDCyH0PP"
   },
   "outputs": [
    {
     "name": "stdout",
     "output_type": "stream",
     "text": [
      "Features:  7552\n",
      "Accuracy:  0.8619718309859155\n"
     ]
    }
   ],
   "source": [
    "vect = CountVectorizer(ngram_range=(1, 2), min_df=2)\n",
    "tokenize_test(vect)"
   ]
  },
  {
   "cell_type": "code",
   "execution_count": 0,
   "metadata": {
    "colab": {},
    "colab_type": "code",
    "id": "3H4k_lVZH0PS"
   },
   "outputs": [],
   "source": []
  }
 ],
 "metadata": {
  "accelerator": "GPU",
  "colab": {
   "collapsed_sections": [],
   "name": "R8_Internal_Lab_Questions.ipynb",
   "provenance": [],
   "version": "0.3.2"
  },
  "kernelspec": {
   "display_name": "Python 3",
   "language": "python",
   "name": "python3"
  },
  "language_info": {
   "codemirror_mode": {
    "name": "ipython",
    "version": 3
   },
   "file_extension": ".py",
   "mimetype": "text/x-python",
   "name": "python",
   "nbconvert_exporter": "python",
   "pygments_lexer": "ipython3",
   "version": "3.6.8"
  }
 },
 "nbformat": 4,
 "nbformat_minor": 1
}
